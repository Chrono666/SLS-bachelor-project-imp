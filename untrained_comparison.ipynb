{
 "cells": [
  {
   "cell_type": "code",
   "execution_count": 1,
   "metadata": {
    "tags": []
   },
   "outputs": [],
   "source": [
    "import tensorflow as tf\n",
    "from tensorflow import keras\n",
    "import numpy as np\n",
    "import pandas as pd\n",
    "\n",
    "np.random.seed(42)\n",
    "tf.random.set_seed(42)\n",
    "\n",
    "import matplotlib as mpl\n",
    "import matplotlib.pyplot as plt\n",
    "\n",
    "mpl.rc('axes', labelsize=14)\n",
    "mpl.rc('xtick', labelsize=12)\n",
    "mpl.rc('ytick', labelsize=12)"
   ]
  },
  {
   "cell_type": "code",
   "execution_count": 2,
   "metadata": {},
   "outputs": [
    {
     "data": {
      "text/plain": [
       "[PhysicalDevice(name='/physical_device:CPU:0', device_type='CPU'),\n",
       " PhysicalDevice(name='/physical_device:GPU:0', device_type='GPU')]"
      ]
     },
     "execution_count": 2,
     "metadata": {},
     "output_type": "execute_result"
    }
   ],
   "source": [
    "tf.config.get_visible_devices()"
   ]
  },
  {
   "cell_type": "code",
   "execution_count": 3,
   "metadata": {
    "collapsed": false,
    "jupyter": {
     "outputs_hidden": false
    },
    "pycharm": {
     "name": "#%%\n"
    }
   },
   "outputs": [],
   "source": [
    "# preprocessing of the images applied when loading image data set from disk with\n",
    "# tensorflows flow_from_directory\n",
    "\n",
    "image_gen = keras.preprocessing.image.ImageDataGenerator(rotation_range=20,  # rotate the image 20 degrees\n",
    "                                                         width_shift_range=0.2,\n",
    "                                                         height_shift_range=0.2,\n",
    "                                                         rescale=1 / 255,  # Rescale the image by normalzing it.\n",
    "                                                         shear_range=0.15,\n",
    "                                                         # Shear means cutting away part of the image (max 20%)\n",
    "                                                         zoom_range=0.15,  # Zoom in by 15% max\n",
    "                                                         horizontal_flip=True,  # Allow horizontal flipping\n",
    "                                                         fill_mode='nearest'\n",
    "                                                         # Fill in missing pixels with the nearest filled value\n",
    "                                                         )"
   ]
  },
  {
   "cell_type": "code",
   "execution_count": 4,
   "metadata": {
    "collapsed": false,
    "jupyter": {
     "outputs_hidden": false
    },
    "pycharm": {
     "name": "#%%\n"
    }
   },
   "outputs": [],
   "source": [
    "# path to the image data set\n",
    "\n",
    "train_data_path = './data/test-bed-deffects/data_balanced/train'  #local notebook\n",
    "test_data_path = './data/test-bed-deffects/data_balanced/test'  #local notebook\n",
    "validation_data_path = './data/test-bed-deffects/data_balanced/validation'  #local notebook"
   ]
  },
  {
   "cell_type": "code",
   "execution_count": 5,
   "metadata": {
    "collapsed": false,
    "jupyter": {
     "outputs_hidden": false
    },
    "pycharm": {
     "name": "#%%\n"
    }
   },
   "outputs": [
    {
     "name": "stdout",
     "output_type": "stream",
     "text": [
      "Found 2000 images belonging to 2 classes.\n"
     ]
    }
   ],
   "source": [
    "# generate training set by loading the images from their directories with flow_from_directory\n",
    "# important: the folder structure has to match! i.e {train} -> {ok,def}\n",
    "# at the \"same time\" the data augmentation is applied on the images through the ImageDataGenerator\n",
    "\n",
    "train_image_gen = image_gen.flow_from_directory(train_data_path,\n",
    "                                                target_size=(180, 180),\n",
    "                                                class_mode='binary')"
   ]
  },
  {
   "cell_type": "code",
   "execution_count": 6,
   "metadata": {
    "collapsed": false,
    "jupyter": {
     "outputs_hidden": false
    },
    "pycharm": {
     "name": "#%%\n"
    }
   },
   "outputs": [
    {
     "name": "stdout",
     "output_type": "stream",
     "text": [
      "Found 998 images belonging to 2 classes.\n"
     ]
    }
   ],
   "source": [
    "# generate test set by loading the images from their directories with flow_from_directory\n",
    "# important: the folder structure has to match! i.e {test} -> {ok,def}\n",
    "# at the \"same time\" the data augmentation is applied on the images through the ImageDataGenerator\n",
    "\n",
    "test_image_gen = image_gen.flow_from_directory(test_data_path,\n",
    "                                               target_size=(180, 180),\n",
    "                                               class_mode='binary')"
   ]
  },
  {
   "cell_type": "code",
   "execution_count": 7,
   "metadata": {
    "collapsed": false,
    "jupyter": {
     "outputs_hidden": false
    },
    "pycharm": {
     "name": "#%%\n"
    }
   },
   "outputs": [
    {
     "name": "stdout",
     "output_type": "stream",
     "text": [
      "Found 1000 images belonging to 2 classes.\n"
     ]
    }
   ],
   "source": [
    "# generate validation set by loading the images from their directories with flow_from_directory\n",
    "# important: the folder structure has to match! i.e {validation} -> {ok,def}\n",
    "# at the \"same time\" the data augmentation is applied on the images through the ImageDataGenerator\n",
    "\n",
    "valid_set = image_gen.flow_from_directory(validation_data_path,\n",
    "                                          target_size=(180, 180),\n",
    "                                          class_mode='binary')"
   ]
  },
  {
   "cell_type": "code",
   "execution_count": 8,
   "metadata": {
    "collapsed": false,
    "jupyter": {
     "outputs_hidden": false
    },
    "pycharm": {
     "name": "#%%\n"
    }
   },
   "outputs": [],
   "source": [
    "# saves the model and its weights as a json file in the folder saved_models\n",
    "\n",
    "def save_model(model, model_name):\n",
    "    my_model = model.to_json()\n",
    "    with open(f'./saved_models/{model_name}.json', \"w\") as file:\n",
    "        file.write(my_model)\n",
    "    # serialize weights to HDF5\n",
    "    model.save_weights(f'./saved_models/{model_name}_weights.h5')\n"
   ]
  },
  {
   "cell_type": "code",
   "execution_count": 9,
   "metadata": {
    "collapsed": false,
    "jupyter": {
     "outputs_hidden": false
    },
    "pycharm": {
     "name": "#%%\n"
    }
   },
   "outputs": [],
   "source": [
    "# method to select the base model architecture\n",
    "# pretrained with the weights of the imagenet data set\n",
    "# the top layers are excluded and have to be implemented on top of the base model\n",
    "# currently Vgg16, Xception, ResNet50\n",
    "\n",
    "def build_base_model(model_selected, weights):\n",
    "    if model_selected == 'vgg':\n",
    "        return keras.applications.vgg16.VGG16(include_top=False, weights=weights)\n",
    "    if model_selected == 'xception':\n",
    "        return keras.applications.xception.Xception(include_top=False, weights=weights)\n",
    "    if model_selected == 'resnet':\n",
    "        return keras.applications.resnet50.ResNet50(include_top=False, weights=weights)\n",
    "\n",
    "    # method which adds the new top layers on the base model and returns the now complete model"
   ]
  },
  {
   "cell_type": "code",
   "execution_count": 10,
   "metadata": {
    "collapsed": false,
    "jupyter": {
     "outputs_hidden": false
    },
    "pycharm": {
     "name": "#%%\n"
    }
   },
   "outputs": [],
   "source": [
    "def model_builder(input_model):\n",
    "    model_input = keras.Input(shape=(180, 180, 3), name='image_input')\n",
    "\n",
    "    output_base_model = input_model(model_input)\n",
    "\n",
    "    x = keras.layers.Flatten(name='flatten')(output_base_model)\n",
    "    x = keras.layers.Dense(1000)(x)\n",
    "    x = keras.layers.Dropout(0.25)(x)\n",
    "    x = keras.layers.BatchNormalization()(x)\n",
    "    x = keras.layers.Dense(1, activation='sigmoid')(x)\n",
    "\n",
    "    return keras.models.Model(model_input, x)"
   ]
  },
  {
   "cell_type": "code",
   "execution_count": 11,
   "metadata": {
    "collapsed": false,
    "jupyter": {
     "outputs_hidden": false
    },
    "pycharm": {
     "name": "#%%\n"
    }
   },
   "outputs": [],
   "source": [
    "# method activate the base models layers ability to learn (be trainable)\n",
    "# set to false for the first training run to not destroy the pretrained weights\n",
    "\n",
    "def set_layers_trainable(trainable, input_model):\n",
    "    for layer in input_model.layers:\n",
    "        layer.trainable = trainable"
   ]
  },
  {
   "cell_type": "code",
   "execution_count": 12,
   "metadata": {
    "collapsed": false,
    "jupyter": {
     "outputs_hidden": false
    },
    "pycharm": {
     "name": "#%%\n"
    }
   },
   "outputs": [],
   "source": [
    "# method to compile the model with the adam optimizer which returns the compiled model\n",
    "\n",
    "def compile_model(input_model, alpha, beta1, beta2, metrics):\n",
    "    optimizer = keras.optimizers.Adam(learning_rate=alpha, beta_1=beta1, beta_2=beta2)\n",
    "    model = model_builder(input_model)\n",
    "    model.compile(loss=\"binary_crossentropy\", optimizer=optimizer, metrics=metrics)\n",
    "\n",
    "    return model\n",
    "\n"
   ]
  },
  {
   "cell_type": "code",
   "execution_count": 13,
   "metadata": {
    "collapsed": false,
    "jupyter": {
     "outputs_hidden": false
    },
    "pycharm": {
     "name": "#%%\n"
    }
   },
   "outputs": [],
   "source": [
    "# method to train the model\n",
    "\n",
    "def train_model(input_model, train_set, test_set, epochs, callback):\n",
    "    return input_model.fit(train_set,\n",
    "                           validation_data=test_set,\n",
    "                           epochs=epochs,\n",
    "                           callbacks=callback)"
   ]
  },
  {
   "cell_type": "code",
   "execution_count": 15,
   "metadata": {
    "collapsed": false,
    "jupyter": {
     "outputs_hidden": false
    },
    "pycharm": {
     "is_executing": true,
     "name": "#%%\n"
    }
   },
   "outputs": [
    {
     "name": "stdout",
     "output_type": "stream",
     "text": [
      "Epoch 1/100\n",
      "63/63 [==============================] - 23s 353ms/step - loss: 0.6997 - accuracy: 0.5049 - recall: 0.4953 - precision: 0.5013 - auc: 0.4974 - val_loss: 0.6931 - val_accuracy: 0.5010 - val_recall: 0.0000e+00 - val_precision: 0.0000e+00 - val_auc: 0.5000\n",
      "Epoch 2/100\n",
      "63/63 [==============================] - 23s 360ms/step - loss: 0.6951 - accuracy: 0.4794 - recall: 0.4592 - precision: 0.4667 - auc: 0.4795 - val_loss: 0.6932 - val_accuracy: 0.5010 - val_recall: 0.0000e+00 - val_precision: 0.0000e+00 - val_auc: 0.5000\n",
      "Epoch 3/100\n",
      "63/63 [==============================] - 22s 355ms/step - loss: 0.6944 - accuracy: 0.4961 - recall: 0.4299 - precision: 0.4826 - auc: 0.4903 - val_loss: 0.6931 - val_accuracy: 0.5010 - val_recall: 0.0000e+00 - val_precision: 0.0000e+00 - val_auc: 0.5000\n",
      "Epoch 4/100\n",
      "63/63 [==============================] - 25s 399ms/step - loss: 0.6947 - accuracy: 0.4798 - recall: 0.4979 - precision: 0.4789 - auc: 0.4754 - val_loss: 0.6932 - val_accuracy: 0.4990 - val_recall: 1.0000 - val_precision: 0.4990 - val_auc: 0.5000\n",
      "Epoch 5/100\n",
      "63/63 [==============================] - 28s 438ms/step - loss: 0.6940 - accuracy: 0.5033 - recall: 0.5992 - precision: 0.5196 - auc: 0.4879 - val_loss: 0.6932 - val_accuracy: 0.4990 - val_recall: 1.0000 - val_precision: 0.4990 - val_auc: 0.5000\n",
      "Epoch 6/100\n",
      "63/63 [==============================] - 24s 387ms/step - loss: 0.6927 - accuracy: 0.5203 - recall: 0.5021 - precision: 0.5241 - auc: 0.5240 - val_loss: 0.6932 - val_accuracy: 0.4990 - val_recall: 1.0000 - val_precision: 0.4990 - val_auc: 0.5000\n",
      "Epoch 7/100\n",
      "63/63 [==============================] - 28s 442ms/step - loss: 0.6941 - accuracy: 0.4842 - recall: 0.4920 - precision: 0.4976 - auc: 0.4958 - val_loss: 0.6931 - val_accuracy: 0.5010 - val_recall: 0.0000e+00 - val_precision: 0.0000e+00 - val_auc: 0.5000\n",
      "Epoch 8/100\n",
      "63/63 [==============================] - 31s 491ms/step - loss: 0.6927 - accuracy: 0.4987 - recall: 0.4989 - precision: 0.5053 - auc: 0.5176 - val_loss: 0.6931 - val_accuracy: 0.5010 - val_recall: 0.0000e+00 - val_precision: 0.0000e+00 - val_auc: 0.5000\n",
      "Epoch 9/100\n",
      "63/63 [==============================] - 30s 482ms/step - loss: 0.6945 - accuracy: 0.4927 - recall: 0.4310 - precision: 0.4785 - auc: 0.4850 - val_loss: 0.6931 - val_accuracy: 0.5010 - val_recall: 0.0000e+00 - val_precision: 0.0000e+00 - val_auc: 0.5000\n",
      "Epoch 10/100\n",
      "63/63 [==============================] - 21s 335ms/step - loss: 0.6928 - accuracy: 0.5042 - recall: 0.4927 - precision: 0.5089 - auc: 0.5129 - val_loss: 0.6932 - val_accuracy: 0.4990 - val_recall: 1.0000 - val_precision: 0.4990 - val_auc: 0.5000\n",
      "Epoch 11/100\n",
      "63/63 [==============================] - 21s 335ms/step - loss: 0.6942 - accuracy: 0.4793 - recall: 0.4796 - precision: 0.4776 - auc: 0.4866 - val_loss: 0.6932 - val_accuracy: 0.4990 - val_recall: 1.0000 - val_precision: 0.4990 - val_auc: 0.5000\n",
      "Epoch 12/100\n",
      "63/63 [==============================] - 21s 334ms/step - loss: 0.6935 - accuracy: 0.4960 - recall: 0.4845 - precision: 0.4874 - auc: 0.5009 - val_loss: 0.6934 - val_accuracy: 0.4990 - val_recall: 1.0000 - val_precision: 0.4990 - val_auc: 0.5000\n",
      "Epoch 13/100\n",
      "63/63 [==============================] - 21s 335ms/step - loss: 0.6933 - accuracy: 0.5087 - recall: 0.5781 - precision: 0.5228 - auc: 0.5151 - val_loss: 0.6934 - val_accuracy: 0.4990 - val_recall: 1.0000 - val_precision: 0.4990 - val_auc: 0.5000\n",
      "Epoch 14/100\n",
      "63/63 [==============================] - 21s 335ms/step - loss: 0.6941 - accuracy: 0.4939 - recall: 0.4933 - precision: 0.4878 - auc: 0.4887 - val_loss: 0.6933 - val_accuracy: 0.5010 - val_recall: 0.0000e+00 - val_precision: 0.0000e+00 - val_auc: 0.5000\n",
      "Epoch 15/100\n",
      "63/63 [==============================] - 25s 404ms/step - loss: 0.6936 - accuracy: 0.4928 - recall: 0.4800 - precision: 0.4998 - auc: 0.5017 - val_loss: 0.6932 - val_accuracy: 0.4990 - val_recall: 1.0000 - val_precision: 0.4990 - val_auc: 0.5000\n",
      "Epoch 16/100\n",
      "63/63 [==============================] - 37s 583ms/step - loss: 0.6960 - accuracy: 0.4784 - recall: 0.5414 - precision: 0.5095 - auc: 0.4600 - val_loss: 0.6932 - val_accuracy: 0.4990 - val_recall: 1.0000 - val_precision: 0.4990 - val_auc: 0.5000\n",
      "Epoch 17/100\n",
      "63/63 [==============================] - 32s 503ms/step - loss: 0.6954 - accuracy: 0.4876 - recall: 0.4127 - precision: 0.4904 - auc: 0.4829 - val_loss: 0.6933 - val_accuracy: 0.5010 - val_recall: 0.0000e+00 - val_precision: 0.0000e+00 - val_auc: 0.5000\n",
      "Epoch 18/100\n",
      "63/63 [==============================] - 24s 367ms/step - loss: 0.6939 - accuracy: 0.5039 - recall: 0.4205 - precision: 0.4967 - auc: 0.4981 - val_loss: 0.6932 - val_accuracy: 0.5010 - val_recall: 0.0000e+00 - val_precision: 0.0000e+00 - val_auc: 0.5000\n",
      "Epoch 19/100\n",
      "63/63 [==============================] - 21s 332ms/step - loss: 0.6952 - accuracy: 0.4774 - recall: 0.5262 - precision: 0.5039 - auc: 0.4742 - val_loss: 0.6935 - val_accuracy: 0.5010 - val_recall: 0.0000e+00 - val_precision: 0.0000e+00 - val_auc: 0.5000\n",
      "Epoch 20/100\n",
      "63/63 [==============================] - 21s 335ms/step - loss: 0.6936 - accuracy: 0.5008 - recall: 0.4566 - precision: 0.4852 - auc: 0.5011 - val_loss: 0.6932 - val_accuracy: 0.5010 - val_recall: 0.0000e+00 - val_precision: 0.0000e+00 - val_auc: 0.5000\n",
      "Epoch 21/100\n",
      "63/63 [==============================] - 27s 421ms/step - loss: 0.6937 - accuracy: 0.5032 - recall: 0.5470 - precision: 0.5219 - auc: 0.4978 - val_loss: 0.6933 - val_accuracy: 0.5010 - val_recall: 0.0000e+00 - val_precision: 0.0000e+00 - val_auc: 0.5000\n",
      "Epoch 22/100\n",
      "63/63 [==============================] - 21s 333ms/step - loss: 0.6945 - accuracy: 0.4895 - recall: 0.4771 - precision: 0.5001 - auc: 0.4865 - val_loss: 0.6932 - val_accuracy: 0.4990 - val_recall: 1.0000 - val_precision: 0.4990 - val_auc: 0.5000\n",
      "Epoch 23/100\n",
      "63/63 [==============================] - 22s 343ms/step - loss: 0.6936 - accuracy: 0.5001 - recall: 0.4574 - precision: 0.4995 - auc: 0.5033 - val_loss: 0.6933 - val_accuracy: 0.4990 - val_recall: 1.0000 - val_precision: 0.4990 - val_auc: 0.5000\n",
      "Epoch 24/100\n",
      "63/63 [==============================] - 21s 334ms/step - loss: 0.6952 - accuracy: 0.4894 - recall: 0.4730 - precision: 0.4854 - auc: 0.4780 - val_loss: 0.6931 - val_accuracy: 0.5010 - val_recall: 0.0000e+00 - val_precision: 0.0000e+00 - val_auc: 0.5000\n",
      "Epoch 25/100\n",
      "63/63 [==============================] - 21s 335ms/step - loss: 0.6926 - accuracy: 0.5082 - recall: 0.5106 - precision: 0.5042 - auc: 0.5152 - val_loss: 0.6932 - val_accuracy: 0.5010 - val_recall: 0.0000e+00 - val_precision: 0.0000e+00 - val_auc: 0.5000\n",
      "Epoch 26/100\n",
      "63/63 [==============================] - 24s 387ms/step - loss: 0.6943 - accuracy: 0.5000 - recall: 0.5162 - precision: 0.5069 - auc: 0.5038 - val_loss: 0.6932 - val_accuracy: 0.5010 - val_recall: 0.0000e+00 - val_precision: 0.0000e+00 - val_auc: 0.5000\n",
      "Epoch 27/100\n",
      "63/63 [==============================] - 28s 444ms/step - loss: 0.6927 - accuracy: 0.5083 - recall: 0.5179 - precision: 0.5126 - auc: 0.5178 - val_loss: 0.6933 - val_accuracy: 0.4990 - val_recall: 1.0000 - val_precision: 0.4990 - val_auc: 0.5000\n",
      "Epoch 28/100\n",
      "63/63 [==============================] - 23s 356ms/step - loss: 0.6947 - accuracy: 0.4988 - recall: 0.4639 - precision: 0.4867 - auc: 0.4881 - val_loss: 0.6931 - val_accuracy: 0.5010 - val_recall: 0.0000e+00 - val_precision: 0.0000e+00 - val_auc: 0.5000\n",
      "Epoch 29/100\n",
      "63/63 [==============================] - 22s 351ms/step - loss: 0.6937 - accuracy: 0.5034 - recall: 0.5210 - precision: 0.4999 - auc: 0.5005 - val_loss: 0.6933 - val_accuracy: 0.5010 - val_recall: 0.0000e+00 - val_precision: 0.0000e+00 - val_auc: 0.5000\n",
      "Epoch 30/100\n",
      "63/63 [==============================] - 34s 532ms/step - loss: 0.6954 - accuracy: 0.4693 - recall: 0.4833 - precision: 0.4688 - auc: 0.4732 - val_loss: 0.6932 - val_accuracy: 0.4990 - val_recall: 1.0000 - val_precision: 0.4990 - val_auc: 0.5000\n",
      "Epoch 31/100\n",
      "63/63 [==============================] - 38s 610ms/step - loss: 0.6923 - accuracy: 0.5362 - recall: 0.5156 - precision: 0.5322 - auc: 0.5324 - val_loss: 0.6932 - val_accuracy: 0.5010 - val_recall: 0.0000e+00 - val_precision: 0.0000e+00 - val_auc: 0.5000\n",
      "Epoch 32/100\n",
      "63/63 [==============================] - 39s 614ms/step - loss: 0.6944 - accuracy: 0.5149 - recall: 0.4823 - precision: 0.4863 - auc: 0.5015 - val_loss: 0.6932 - val_accuracy: 0.5010 - val_recall: 0.0000e+00 - val_precision: 0.0000e+00 - val_auc: 0.5000\n",
      "Epoch 33/100\n",
      "63/63 [==============================] - 30s 470ms/step - loss: 0.6918 - accuracy: 0.5288 - recall: 0.5399 - precision: 0.5250 - auc: 0.5319 - val_loss: 0.6931 - val_accuracy: 0.5010 - val_recall: 0.0000e+00 - val_precision: 0.0000e+00 - val_auc: 0.5000\n",
      "Epoch 34/100\n",
      "63/63 [==============================] - 23s 358ms/step - loss: 0.6966 - accuracy: 0.4691 - recall: 0.4741 - precision: 0.4522 - auc: 0.4740 - val_loss: 0.6932 - val_accuracy: 0.5010 - val_recall: 0.0000e+00 - val_precision: 0.0000e+00 - val_auc: 0.5000\n",
      "Epoch 35/100\n",
      "63/63 [==============================] - 26s 413ms/step - loss: 0.6948 - accuracy: 0.4892 - recall: 0.4877 - precision: 0.4821 - auc: 0.4843 - val_loss: 0.6934 - val_accuracy: 0.5010 - val_recall: 0.0000e+00 - val_precision: 0.0000e+00 - val_auc: 0.5000\n",
      "Epoch 36/100\n",
      "63/63 [==============================] - 30s 483ms/step - loss: 0.6930 - accuracy: 0.5152 - recall: 0.5392 - precision: 0.5139 - auc: 0.5181 - val_loss: 0.6931 - val_accuracy: 0.5010 - val_recall: 0.0000e+00 - val_precision: 0.0000e+00 - val_auc: 0.5000\n",
      "Epoch 37/100\n",
      "63/63 [==============================] - 32s 515ms/step - loss: 0.6935 - accuracy: 0.5170 - recall: 0.5469 - precision: 0.5280 - auc: 0.5179 - val_loss: 0.6932 - val_accuracy: 0.4990 - val_recall: 1.0000 - val_precision: 0.4990 - val_auc: 0.5000\n",
      "Epoch 38/100\n",
      "63/63 [==============================] - 27s 428ms/step - loss: 0.6958 - accuracy: 0.4873 - recall: 0.4418 - precision: 0.4724 - auc: 0.4835 - val_loss: 0.6932 - val_accuracy: 0.5010 - val_recall: 0.0000e+00 - val_precision: 0.0000e+00 - val_auc: 0.5000\n",
      "Epoch 39/100\n",
      "63/63 [==============================] - 28s 446ms/step - loss: 0.6936 - accuracy: 0.5084 - recall: 0.4927 - precision: 0.5158 - auc: 0.5091 - val_loss: 0.6932 - val_accuracy: 0.4990 - val_recall: 1.0000 - val_precision: 0.4990 - val_auc: 0.5000\n",
      "Epoch 40/100\n",
      "63/63 [==============================] - 27s 426ms/step - loss: 0.6923 - accuracy: 0.5119 - recall: 0.5268 - precision: 0.5174 - auc: 0.5209 - val_loss: 0.6931 - val_accuracy: 0.5010 - val_recall: 0.0000e+00 - val_precision: 0.0000e+00 - val_auc: 0.5000\n",
      "Epoch 41/100\n",
      "63/63 [==============================] - 27s 427ms/step - loss: 0.6917 - accuracy: 0.5311 - recall: 0.5278 - precision: 0.5180 - auc: 0.5343 - val_loss: 0.6931 - val_accuracy: 0.5010 - val_recall: 0.0000e+00 - val_precision: 0.0000e+00 - val_auc: 0.5000\n",
      "Epoch 42/100\n",
      "63/63 [==============================] - 27s 430ms/step - loss: 0.6978 - accuracy: 0.4538 - recall: 0.4785 - precision: 0.4534 - auc: 0.4585 - val_loss: 0.6932 - val_accuracy: 0.4990 - val_recall: 1.0000 - val_precision: 0.4990 - val_auc: 0.5000\n",
      "Epoch 43/100\n",
      "63/63 [==============================] - 27s 432ms/step - loss: 0.6950 - accuracy: 0.4985 - recall: 0.5398 - precision: 0.5107 - auc: 0.4975 - val_loss: 0.6933 - val_accuracy: 0.4990 - val_recall: 1.0000 - val_precision: 0.4990 - val_auc: 0.5000\n",
      "Epoch 44/100\n",
      "63/63 [==============================] - 27s 424ms/step - loss: 0.6945 - accuracy: 0.4975 - recall: 0.5254 - precision: 0.4948 - auc: 0.4970 - val_loss: 0.6932 - val_accuracy: 0.4990 - val_recall: 1.0000 - val_precision: 0.4990 - val_auc: 0.5000\n",
      "32/32 [==============================] - 6s 198ms/step - loss: 0.6931 - accuracy: 0.5000 - recall: 1.0000 - precision: 0.5000 - auc: 0.5000\n",
      "loss: 0.6931479573249817, \n",
      "accuracy: 0.5, \n",
      "recall: 1.0, \n",
      "precision: 0.5, \n",
      "auc: 0.5, \n",
      "F1: 0.6666666666666666\n"
     ]
    }
   ],
   "source": [
    "# NO PRETRAINING\n",
    "\n",
    "# set base model\n",
    "vgg16_base_model = build_base_model('vgg', None)\n",
    "\n",
    "# compile model\n",
    "vgg16_model = compile_model(vgg16_base_model, 0.0001, 0.9, 0.999, ['accuracy', 'Recall', 'Precision', 'AUC'])\n",
    "\n",
    "# define callback\n",
    "custom_early_stopping = keras.callbacks.EarlyStopping(patience=20)\n",
    "\n",
    "# train complete model\n",
    "vgg_no_train_history = train_model(vgg16_model, train_image_gen, test_image_gen, 100, [custom_early_stopping])\n",
    "\n",
    "# metrics from the paper:\n",
    "# accuracy = 0.959, precision = 0.939, recall = 0.980, f1-score = 0.959, auc value = 0.982\n",
    "loss, vgg_no_train_accuracy, recall, precision, auc = vgg16_model.evaluate(valid_set)\n",
    "\n",
    "# F1 score\n",
    "vgg_no_train_f1 = 2 * ((precision * recall) / (precision + recall))\n",
    "\n",
    "print(f\"loss: {loss}, \\n\"\n",
    "      f\"accuracy: {vgg_no_train_accuracy}, \\n\"\n",
    "      f\"recall: {recall}, \\n\"\n",
    "      f\"precision: {precision}, \\n\"\n",
    "      f\"auc: {auc}, \\n\"\n",
    "      f\"F1: {vgg_no_train_f1}\")"
   ]
  },
  {
   "cell_type": "code",
   "execution_count": 16,
   "metadata": {
    "collapsed": false,
    "jupyter": {
     "outputs_hidden": false
    },
    "pycharm": {
     "name": "#%%\n"
    }
   },
   "outputs": [
    {
     "name": "stdout",
     "output_type": "stream",
     "text": [
      "Epoch 1/5\n",
      "63/63 [==============================] - 19s 285ms/step - loss: 0.8211 - accuracy: 0.6272 - recall: 0.6544 - precision: 0.6024 - auc: 0.6801 - val_loss: 0.5608 - val_accuracy: 0.7084 - val_recall: 0.9558 - val_precision: 0.6389 - val_auc: 0.8269\n",
      "Epoch 2/5\n",
      "63/63 [==============================] - 18s 281ms/step - loss: 0.6796 - accuracy: 0.6730 - recall: 0.7564 - precision: 0.6265 - auc: 0.7443 - val_loss: 0.5214 - val_accuracy: 0.7515 - val_recall: 0.9438 - val_precision: 0.6812 - val_auc: 0.8291\n",
      "Epoch 3/5\n",
      "63/63 [==============================] - 20s 311ms/step - loss: 0.6304 - accuracy: 0.7050 - recall: 0.7720 - precision: 0.6811 - auc: 0.7720 - val_loss: 0.4652 - val_accuracy: 0.7705 - val_recall: 0.8876 - val_precision: 0.7187 - val_auc: 0.8538\n",
      "Epoch 4/5\n",
      "63/63 [==============================] - 18s 285ms/step - loss: 0.6524 - accuracy: 0.6919 - recall: 0.7371 - precision: 0.6778 - auc: 0.7622 - val_loss: 0.7283 - val_accuracy: 0.7244 - val_recall: 0.9819 - val_precision: 0.6477 - val_auc: 0.8503\n",
      "Epoch 5/5\n",
      "63/63 [==============================] - 17s 278ms/step - loss: 0.5577 - accuracy: 0.7313 - recall: 0.7782 - precision: 0.7245 - auc: 0.8133 - val_loss: 0.6541 - val_accuracy: 0.7385 - val_recall: 0.9940 - val_precision: 0.6574 - val_auc: 0.8578\n",
      "Epoch 1/100\n",
      "63/63 [==============================] - 23s 343ms/step - loss: 0.7074 - accuracy: 0.6577 - recall: 0.7439 - precision: 0.6448 - auc: 0.7042 - val_loss: 0.3460 - val_accuracy: 0.8527 - val_recall: 0.9799 - val_precision: 0.7808 - val_auc: 0.9071\n",
      "Epoch 2/100\n",
      "63/63 [==============================] - 26s 405ms/step - loss: 0.4404 - accuracy: 0.8127 - recall: 0.9611 - precision: 0.7412 - auc: 0.8722 - val_loss: 0.2957 - val_accuracy: 0.8918 - val_recall: 0.9337 - val_precision: 0.8611 - val_auc: 0.9357\n",
      "Epoch 3/100\n",
      "63/63 [==============================] - 24s 387ms/step - loss: 0.3204 - accuracy: 0.8847 - recall: 0.9867 - precision: 0.8228 - auc: 0.9214 - val_loss: 0.3181 - val_accuracy: 0.8898 - val_recall: 0.9880 - val_precision: 0.8255 - val_auc: 0.9366\n",
      "Epoch 4/100\n",
      "63/63 [==============================] - 24s 387ms/step - loss: 0.3373 - accuracy: 0.8646 - recall: 0.9667 - precision: 0.8020 - auc: 0.9233 - val_loss: 0.3405 - val_accuracy: 0.9038 - val_recall: 0.9859 - val_precision: 0.8466 - val_auc: 0.9316\n",
      "Epoch 5/100\n",
      "63/63 [==============================] - 24s 382ms/step - loss: 0.3194 - accuracy: 0.8887 - recall: 0.9780 - precision: 0.8345 - auc: 0.9089 - val_loss: 0.4910 - val_accuracy: 0.7715 - val_recall: 0.6024 - val_precision: 0.9091 - val_auc: 0.9465\n",
      "Epoch 6/100\n",
      "63/63 [==============================] - 24s 384ms/step - loss: 0.2879 - accuracy: 0.8970 - recall: 0.9744 - precision: 0.8428 - auc: 0.9279 - val_loss: 0.2416 - val_accuracy: 0.9158 - val_recall: 0.9739 - val_precision: 0.8723 - val_auc: 0.9389\n",
      "Epoch 7/100\n",
      "63/63 [==============================] - 25s 391ms/step - loss: 0.2659 - accuracy: 0.9106 - recall: 0.9837 - precision: 0.8587 - auc: 0.9317 - val_loss: 0.3421 - val_accuracy: 0.8858 - val_recall: 0.9859 - val_precision: 0.8211 - val_auc: 0.9355\n",
      "Epoch 8/100\n",
      "63/63 [==============================] - 24s 384ms/step - loss: 0.2978 - accuracy: 0.8956 - recall: 0.9818 - precision: 0.8348 - auc: 0.9232 - val_loss: 0.2921 - val_accuracy: 0.9058 - val_recall: 0.9920 - val_precision: 0.8459 - val_auc: 0.9351\n",
      "Epoch 9/100\n",
      "63/63 [==============================] - 26s 409ms/step - loss: 0.2745 - accuracy: 0.9115 - recall: 0.9857 - precision: 0.8578 - auc: 0.9293 - val_loss: 0.2452 - val_accuracy: 0.9158 - val_recall: 0.9819 - val_precision: 0.8670 - val_auc: 0.9424\n",
      "Epoch 10/100\n",
      "63/63 [==============================] - 25s 393ms/step - loss: 0.3038 - accuracy: 0.8984 - recall: 0.9828 - precision: 0.8416 - auc: 0.9191 - val_loss: 0.2452 - val_accuracy: 0.9138 - val_recall: 0.9598 - val_precision: 0.8787 - val_auc: 0.9467\n",
      "Epoch 11/100\n",
      "63/63 [==============================] - 24s 386ms/step - loss: 0.3099 - accuracy: 0.8873 - recall: 0.9609 - precision: 0.8402 - auc: 0.9135 - val_loss: 0.2577 - val_accuracy: 0.9148 - val_recall: 0.9940 - val_precision: 0.8579 - val_auc: 0.9371\n",
      "Epoch 12/100\n",
      "63/63 [==============================] - 24s 382ms/step - loss: 0.2636 - accuracy: 0.9051 - recall: 0.9745 - precision: 0.8576 - auc: 0.9383 - val_loss: 0.2548 - val_accuracy: 0.9108 - val_recall: 0.9418 - val_precision: 0.8866 - val_auc: 0.9554\n",
      "Epoch 13/100\n",
      "63/63 [==============================] - 25s 388ms/step - loss: 0.2809 - accuracy: 0.8951 - recall: 0.9623 - precision: 0.8501 - auc: 0.9258 - val_loss: 0.2827 - val_accuracy: 0.9078 - val_recall: 0.9920 - val_precision: 0.8488 - val_auc: 0.9385\n",
      "Epoch 14/100\n",
      "63/63 [==============================] - 24s 387ms/step - loss: 0.2490 - accuracy: 0.9119 - recall: 0.9754 - precision: 0.8636 - auc: 0.9440 - val_loss: 0.2578 - val_accuracy: 0.9148 - val_recall: 0.9317 - val_precision: 0.9010 - val_auc: 0.9442\n",
      "Epoch 15/100\n",
      "63/63 [==============================] - 24s 386ms/step - loss: 0.2439 - accuracy: 0.9193 - recall: 0.9796 - precision: 0.8764 - auc: 0.9406 - val_loss: 0.2596 - val_accuracy: 0.9108 - val_recall: 0.9618 - val_precision: 0.8725 - val_auc: 0.9402\n",
      "Epoch 16/100\n",
      "63/63 [==============================] - 25s 388ms/step - loss: 0.2312 - accuracy: 0.9243 - recall: 0.9802 - precision: 0.8847 - auc: 0.9445 - val_loss: 0.2261 - val_accuracy: 0.9329 - val_recall: 0.9960 - val_precision: 0.8841 - val_auc: 0.9488\n",
      "Epoch 17/100\n",
      "63/63 [==============================] - 24s 387ms/step - loss: 0.2518 - accuracy: 0.9156 - recall: 0.9748 - precision: 0.8669 - auc: 0.9395 - val_loss: 0.2443 - val_accuracy: 0.9208 - val_recall: 0.9920 - val_precision: 0.8682 - val_auc: 0.9496\n",
      "Epoch 18/100\n",
      "63/63 [==============================] - 25s 388ms/step - loss: 0.2717 - accuracy: 0.9160 - recall: 0.9793 - precision: 0.8687 - auc: 0.9272 - val_loss: 0.2284 - val_accuracy: 0.9299 - val_recall: 0.9719 - val_precision: 0.8963 - val_auc: 0.9438\n",
      "Epoch 19/100\n",
      "63/63 [==============================] - 26s 417ms/step - loss: 0.2609 - accuracy: 0.9183 - recall: 0.9798 - precision: 0.8747 - auc: 0.9272 - val_loss: 0.2814 - val_accuracy: 0.9028 - val_recall: 0.9920 - val_precision: 0.8416 - val_auc: 0.9285\n",
      "Epoch 20/100\n",
      "63/63 [==============================] - 44s 699ms/step - loss: 0.2483 - accuracy: 0.9175 - recall: 0.9783 - precision: 0.8709 - auc: 0.9432 - val_loss: 0.2092 - val_accuracy: 0.9339 - val_recall: 0.9900 - val_precision: 0.8899 - val_auc: 0.9514\n",
      "Epoch 21/100\n",
      "63/63 [==============================] - 46s 725ms/step - loss: 0.2402 - accuracy: 0.9210 - recall: 0.9832 - precision: 0.8749 - auc: 0.9327 - val_loss: 0.2301 - val_accuracy: 0.9218 - val_recall: 0.9779 - val_precision: 0.8791 - val_auc: 0.9509\n",
      "Epoch 22/100\n",
      "63/63 [==============================] - 46s 726ms/step - loss: 0.2575 - accuracy: 0.9124 - recall: 0.9776 - precision: 0.8633 - auc: 0.9359 - val_loss: 0.2283 - val_accuracy: 0.9329 - val_recall: 0.9819 - val_precision: 0.8940 - val_auc: 0.9408\n",
      "Epoch 23/100\n",
      "63/63 [==============================] - 44s 692ms/step - loss: 0.2234 - accuracy: 0.9269 - recall: 0.9799 - precision: 0.8829 - auc: 0.9503 - val_loss: 0.2380 - val_accuracy: 0.9218 - val_recall: 0.9759 - val_precision: 0.8804 - val_auc: 0.9456\n",
      "Epoch 24/100\n",
      "63/63 [==============================] - 44s 704ms/step - loss: 0.2576 - accuracy: 0.9132 - recall: 0.9821 - precision: 0.8624 - auc: 0.9337 - val_loss: 0.2394 - val_accuracy: 0.9228 - val_recall: 0.9819 - val_precision: 0.8779 - val_auc: 0.9411\n",
      "Epoch 25/100\n",
      "63/63 [==============================] - 51s 812ms/step - loss: 0.2418 - accuracy: 0.9282 - recall: 0.9821 - precision: 0.8862 - auc: 0.9434 - val_loss: 0.2251 - val_accuracy: 0.9248 - val_recall: 0.9859 - val_precision: 0.8784 - val_auc: 0.9382\n",
      "Epoch 26/100\n",
      "63/63 [==============================] - 58s 923ms/step - loss: 0.2094 - accuracy: 0.9308 - recall: 0.9893 - precision: 0.8870 - auc: 0.9535 - val_loss: 0.2450 - val_accuracy: 0.9128 - val_recall: 0.9920 - val_precision: 0.8562 - val_auc: 0.9410\n",
      "Epoch 27/100\n",
      "63/63 [==============================] - 30s 481ms/step - loss: 0.2504 - accuracy: 0.9133 - recall: 0.9716 - precision: 0.8707 - auc: 0.9353 - val_loss: 0.2258 - val_accuracy: 0.9269 - val_recall: 0.9719 - val_precision: 0.8913 - val_auc: 0.9421\n",
      "Epoch 28/100\n",
      "63/63 [==============================] - 30s 481ms/step - loss: 0.1894 - accuracy: 0.9430 - recall: 0.9888 - precision: 0.9082 - auc: 0.9574 - val_loss: 0.2521 - val_accuracy: 0.9138 - val_recall: 0.9819 - val_precision: 0.8640 - val_auc: 0.9362\n",
      "Epoch 29/100\n",
      "63/63 [==============================] - 31s 482ms/step - loss: 0.2543 - accuracy: 0.9148 - recall: 0.9789 - precision: 0.8685 - auc: 0.9353 - val_loss: 0.2412 - val_accuracy: 0.9248 - val_recall: 0.9839 - val_precision: 0.8797 - val_auc: 0.9393\n",
      "Epoch 30/100\n",
      "63/63 [==============================] - 31s 488ms/step - loss: 0.2443 - accuracy: 0.9225 - recall: 0.9832 - precision: 0.8785 - auc: 0.9334 - val_loss: 0.2392 - val_accuracy: 0.9188 - val_recall: 0.9900 - val_precision: 0.8664 - val_auc: 0.9393\n",
      "Epoch 31/100\n",
      "63/63 [==============================] - 31s 481ms/step - loss: 0.2448 - accuracy: 0.9166 - recall: 0.9825 - precision: 0.8698 - auc: 0.9388 - val_loss: 0.2220 - val_accuracy: 0.9198 - val_recall: 0.9739 - val_precision: 0.8786 - val_auc: 0.9510\n",
      "Epoch 32/100\n",
      "63/63 [==============================] - 31s 490ms/step - loss: 0.2367 - accuracy: 0.9169 - recall: 0.9836 - precision: 0.8628 - auc: 0.9425 - val_loss: 0.2086 - val_accuracy: 0.9299 - val_recall: 0.9779 - val_precision: 0.8919 - val_auc: 0.9525\n",
      "Epoch 33/100\n",
      "63/63 [==============================] - 30s 479ms/step - loss: 0.2237 - accuracy: 0.9280 - recall: 0.9833 - precision: 0.8868 - auc: 0.9467 - val_loss: 0.2592 - val_accuracy: 0.9138 - val_recall: 0.9759 - val_precision: 0.8679 - val_auc: 0.9298\n",
      "Epoch 34/100\n",
      "63/63 [==============================] - 31s 485ms/step - loss: 0.2112 - accuracy: 0.9332 - recall: 0.9865 - precision: 0.8918 - auc: 0.9502 - val_loss: 0.2300 - val_accuracy: 0.9178 - val_recall: 0.9880 - val_precision: 0.8662 - val_auc: 0.9530\n",
      "Epoch 35/100\n",
      "63/63 [==============================] - 31s 494ms/step - loss: 0.2527 - accuracy: 0.9148 - recall: 0.9815 - precision: 0.8683 - auc: 0.9323 - val_loss: 0.2245 - val_accuracy: 0.9228 - val_recall: 0.9659 - val_precision: 0.8891 - val_auc: 0.9523\n",
      "Epoch 36/100\n",
      "63/63 [==============================] - 35s 554ms/step - loss: 0.2072 - accuracy: 0.9411 - recall: 0.9883 - precision: 0.9021 - auc: 0.9478 - val_loss: 0.2163 - val_accuracy: 0.9309 - val_recall: 0.9759 - val_precision: 0.8950 - val_auc: 0.9503\n",
      "Epoch 37/100\n",
      "63/63 [==============================] - 32s 505ms/step - loss: 0.2206 - accuracy: 0.9351 - recall: 0.9824 - precision: 0.8972 - auc: 0.9473 - val_loss: 0.2164 - val_accuracy: 0.9228 - val_recall: 0.9880 - val_precision: 0.8739 - val_auc: 0.9507\n",
      "Epoch 38/100\n",
      "63/63 [==============================] - 31s 484ms/step - loss: 0.2257 - accuracy: 0.9251 - recall: 0.9820 - precision: 0.8828 - auc: 0.9488 - val_loss: 0.2252 - val_accuracy: 0.9269 - val_recall: 0.9699 - val_precision: 0.8928 - val_auc: 0.9545\n",
      "Epoch 39/100\n",
      "63/63 [==============================] - 30s 481ms/step - loss: 0.2053 - accuracy: 0.9346 - recall: 0.9885 - precision: 0.8908 - auc: 0.9556 - val_loss: 0.2052 - val_accuracy: 0.9339 - val_recall: 0.9799 - val_precision: 0.8971 - val_auc: 0.9540\n",
      "Epoch 40/100\n",
      "63/63 [==============================] - 30s 481ms/step - loss: 0.2370 - accuracy: 0.9200 - recall: 0.9764 - precision: 0.8739 - auc: 0.9477 - val_loss: 0.2260 - val_accuracy: 0.9259 - val_recall: 0.9779 - val_precision: 0.8855 - val_auc: 0.9496\n",
      "Epoch 41/100\n",
      "63/63 [==============================] - 30s 481ms/step - loss: 0.2221 - accuracy: 0.9301 - recall: 0.9905 - precision: 0.8847 - auc: 0.9424 - val_loss: 0.2595 - val_accuracy: 0.9218 - val_recall: 0.9639 - val_precision: 0.8889 - val_auc: 0.9495\n",
      "Epoch 42/100\n",
      "63/63 [==============================] - 31s 494ms/step - loss: 0.2382 - accuracy: 0.9126 - recall: 0.9733 - precision: 0.8702 - auc: 0.9424 - val_loss: 0.2457 - val_accuracy: 0.9168 - val_recall: 0.9900 - val_precision: 0.8634 - val_auc: 0.9441\n",
      "Epoch 43/100\n",
      "63/63 [==============================] - 36s 571ms/step - loss: 0.2379 - accuracy: 0.9161 - recall: 0.9822 - precision: 0.8673 - auc: 0.9504 - val_loss: 0.2224 - val_accuracy: 0.9299 - val_recall: 0.9859 - val_precision: 0.8863 - val_auc: 0.9508\n",
      "Epoch 44/100\n",
      "63/63 [==============================] - 32s 509ms/step - loss: 0.2298 - accuracy: 0.9288 - recall: 0.9855 - precision: 0.8867 - auc: 0.9371 - val_loss: 0.2822 - val_accuracy: 0.9128 - val_recall: 0.9940 - val_precision: 0.8549 - val_auc: 0.9279\n",
      "Epoch 45/100\n",
      "63/63 [==============================] - 31s 486ms/step - loss: 0.2066 - accuracy: 0.9332 - recall: 0.9760 - precision: 0.9008 - auc: 0.9552 - val_loss: 0.2653 - val_accuracy: 0.9148 - val_recall: 0.9940 - val_precision: 0.8579 - val_auc: 0.9358\n",
      "Epoch 46/100\n",
      "63/63 [==============================] - 32s 512ms/step - loss: 0.2093 - accuracy: 0.9321 - recall: 0.9896 - precision: 0.8882 - auc: 0.9529 - val_loss: 0.2203 - val_accuracy: 0.9248 - val_recall: 0.9739 - val_precision: 0.8867 - val_auc: 0.9511\n",
      "Epoch 47/100\n",
      "63/63 [==============================] - 34s 541ms/step - loss: 0.2466 - accuracy: 0.9175 - recall: 0.9831 - precision: 0.8656 - auc: 0.9427 - val_loss: 0.2300 - val_accuracy: 0.9269 - val_recall: 0.9779 - val_precision: 0.8871 - val_auc: 0.9466\n",
      "Epoch 48/100\n",
      "63/63 [==============================] - 47s 751ms/step - loss: 0.2147 - accuracy: 0.9245 - recall: 0.9764 - precision: 0.8822 - auc: 0.9593 - val_loss: 0.2701 - val_accuracy: 0.9158 - val_recall: 0.9859 - val_precision: 0.8644 - val_auc: 0.9376\n",
      "Epoch 49/100\n",
      "63/63 [==============================] - 42s 655ms/step - loss: 0.2564 - accuracy: 0.9141 - recall: 0.9711 - precision: 0.8671 - auc: 0.9402 - val_loss: 0.2347 - val_accuracy: 0.9168 - val_recall: 0.9739 - val_precision: 0.8739 - val_auc: 0.9410\n",
      "Epoch 50/100\n",
      "63/63 [==============================] - 40s 640ms/step - loss: 0.2222 - accuracy: 0.9275 - recall: 0.9808 - precision: 0.8900 - auc: 0.9445 - val_loss: 0.2153 - val_accuracy: 0.9309 - val_recall: 0.9940 - val_precision: 0.8824 - val_auc: 0.9549\n",
      "Epoch 51/100\n",
      "63/63 [==============================] - 40s 634ms/step - loss: 0.1946 - accuracy: 0.9327 - recall: 0.9746 - precision: 0.9006 - auc: 0.9619 - val_loss: 0.2520 - val_accuracy: 0.9178 - val_recall: 0.9418 - val_precision: 0.8985 - val_auc: 0.9464\n",
      "Epoch 52/100\n",
      "63/63 [==============================] - 41s 644ms/step - loss: 0.2061 - accuracy: 0.9335 - recall: 0.9822 - precision: 0.8927 - auc: 0.9545 - val_loss: 0.2588 - val_accuracy: 0.9158 - val_recall: 0.9960 - val_precision: 0.8581 - val_auc: 0.9369\n",
      "Epoch 53/100\n",
      "63/63 [==============================] - 41s 650ms/step - loss: 0.2057 - accuracy: 0.9359 - recall: 0.9807 - precision: 0.9013 - auc: 0.9577 - val_loss: 0.2074 - val_accuracy: 0.9319 - val_recall: 0.9960 - val_precision: 0.8826 - val_auc: 0.9564\n",
      "Epoch 54/100\n",
      "63/63 [==============================] - 46s 735ms/step - loss: 0.2405 - accuracy: 0.9197 - recall: 0.9813 - precision: 0.8788 - auc: 0.9418 - val_loss: 0.2842 - val_accuracy: 0.8998 - val_recall: 0.9980 - val_precision: 0.8339 - val_auc: 0.9381\n",
      "Epoch 55/100\n",
      "63/63 [==============================] - 40s 637ms/step - loss: 0.2022 - accuracy: 0.9331 - recall: 0.9874 - precision: 0.8917 - auc: 0.9552 - val_loss: 0.2357 - val_accuracy: 0.9289 - val_recall: 0.9940 - val_precision: 0.8792 - val_auc: 0.9560\n",
      "Epoch 56/100\n",
      "63/63 [==============================] - 33s 528ms/step - loss: 0.2122 - accuracy: 0.9281 - recall: 0.9714 - precision: 0.8981 - auc: 0.9600 - val_loss: 0.2516 - val_accuracy: 0.9188 - val_recall: 0.9880 - val_precision: 0.8677 - val_auc: 0.9409\n",
      "Epoch 57/100\n",
      "63/63 [==============================] - 31s 489ms/step - loss: 0.1812 - accuracy: 0.9402 - recall: 0.9845 - precision: 0.9077 - auc: 0.9644 - val_loss: 0.2269 - val_accuracy: 0.9289 - val_recall: 0.9920 - val_precision: 0.8806 - val_auc: 0.9535\n",
      "Epoch 58/100\n",
      "63/63 [==============================] - 30s 482ms/step - loss: 0.1975 - accuracy: 0.9420 - recall: 0.9883 - precision: 0.9051 - auc: 0.9543 - val_loss: 0.2517 - val_accuracy: 0.9168 - val_recall: 0.9659 - val_precision: 0.8793 - val_auc: 0.9421\n",
      "Epoch 59/100\n",
      "63/63 [==============================] - 30s 479ms/step - loss: 0.1802 - accuracy: 0.9422 - recall: 0.9846 - precision: 0.9089 - auc: 0.9636 - val_loss: 0.2430 - val_accuracy: 0.9168 - val_recall: 0.9418 - val_precision: 0.8967 - val_auc: 0.9441\n",
      "32/32 [==============================] - 7s 206ms/step - loss: 0.2647 - accuracy: 0.9140 - recall: 0.9380 - precision: 0.8950 - auc: 0.9460\n"
     ]
    },
    {
     "ename": "NameError",
     "evalue": "name 'vgg_accuracy' is not defined",
     "output_type": "error",
     "traceback": [
      "\u001B[0;31m---------------------------------------------------------------------------\u001B[0m",
      "\u001B[0;31mNameError\u001B[0m                                 Traceback (most recent call last)",
      "\u001B[0;32m<ipython-input-16-fb043f7c34f2>\u001B[0m in \u001B[0;36m<module>\u001B[0;34m\u001B[0m\n\u001B[1;32m     40\u001B[0m \u001B[0mvgg_f1\u001B[0m \u001B[0;34m=\u001B[0m \u001B[0;36m2\u001B[0m \u001B[0;34m*\u001B[0m \u001B[0;34m(\u001B[0m\u001B[0;34m(\u001B[0m\u001B[0mprecision\u001B[0m \u001B[0;34m*\u001B[0m \u001B[0mrecall\u001B[0m\u001B[0;34m)\u001B[0m \u001B[0;34m/\u001B[0m \u001B[0;34m(\u001B[0m\u001B[0mprecision\u001B[0m \u001B[0;34m+\u001B[0m \u001B[0mrecall\u001B[0m\u001B[0;34m)\u001B[0m\u001B[0;34m)\u001B[0m\u001B[0;34m\u001B[0m\u001B[0;34m\u001B[0m\u001B[0m\n\u001B[1;32m     41\u001B[0m \u001B[0;34m\u001B[0m\u001B[0m\n\u001B[0;32m---> 42\u001B[0;31m print(f\"loss: {loss}, \\n\"\n\u001B[0m\u001B[1;32m     43\u001B[0m       \u001B[0;34mf\"accuracy: {vgg_accuracy}, \\n\"\u001B[0m\u001B[0;34m\u001B[0m\u001B[0;34m\u001B[0m\u001B[0m\n\u001B[1;32m     44\u001B[0m       \u001B[0;34mf\"recall: {recall}, \\n\"\u001B[0m\u001B[0;34m\u001B[0m\u001B[0;34m\u001B[0m\u001B[0m\n",
      "\u001B[0;31mNameError\u001B[0m: name 'vgg_accuracy' is not defined"
     ]
    }
   ],
   "source": [
    "# Script which uses\n",
    "# vgg16 as a base model\n",
    "# the adams optimizer with learning rate: 0.0001, beta_1: 0.9 and beta_2: 0.99\n",
    "# accuracy, recall, precision, auc as metrics\n",
    "# trains the frozen model for 5 epochs\n",
    "# defines an early stopping callback with an patience of 20\n",
    "# trains the unfrozen model (for 100 epoch) till early stopping stops the training\n",
    "# and prints the values of the metrics\n",
    "\n",
    "\n",
    "# set base model\n",
    "vgg16_base_model = build_base_model('vgg', 'imagenet')\n",
    "\n",
    "# freeze layers of base model for first train run\n",
    "set_layers_trainable(False, vgg16_base_model)\n",
    "\n",
    "# compile model (also builds the model)\n",
    "vgg16_model = compile_model(vgg16_base_model, 0.0001, 0.9, 0.999, ['accuracy', 'Recall', 'Precision', 'AUC'])\n",
    "\n",
    "# train frozen layer model\n",
    "vgg_history = train_model(vgg16_model, train_image_gen, test_image_gen, 5, [])\n",
    "\n",
    "# unfreeze base model layers\n",
    "set_layers_trainable(True, vgg16_base_model)\n",
    "\n",
    "# compile model\n",
    "vgg16_model = compile_model(vgg16_base_model, 0.0001, 0.9, 0.999, ['accuracy', 'Recall', 'Precision', 'AUC'])\n",
    "\n",
    "# define callback\n",
    "custom_early_stopping = keras.callbacks.EarlyStopping(patience=20)\n",
    "\n",
    "# train complete model\n",
    "vgg_history = train_model(vgg16_model, train_image_gen, test_image_gen, 100, [custom_early_stopping])\n",
    "\n",
    "# metrics from the paper:\n",
    "# accuracy = 0.959, precision = 0.939, recall = 0.980, f1-score = 0.959, auc value = 0.982\n",
    "loss, vgg_16_accuracy, recall, precision, auc = vgg16_model.evaluate(valid_set)\n",
    "\n",
    "# F1 score\n",
    "vgg_f1 = 2 * ((precision * recall) / (precision + recall))\n",
    "\n",
    "print(f\"loss: {loss}, \\n\"\n",
    "      f\"accuracy: {vgg_16_accuracy}, \\n\"\n",
    "      f\"recall: {recall}, \\n\"\n",
    "      f\"precision: {precision}, \\n\"\n",
    "      f\"auc: {auc}, \\n\"\n",
    "      f\"F1: {vgg_f1}\")"
   ]
  },
  {
   "cell_type": "code",
   "execution_count": 18,
   "metadata": {},
   "outputs": [
    {
     "name": "stdout",
     "output_type": "stream",
     "text": [
      "loss: 0.26473912596702576, \n",
      "accuracy: 0.9139999747276306, \n",
      "recall: 0.9380000233650208, \n",
      "precision: 0.8950381875038147, \n",
      "auc: 0.9459560513496399, \n",
      "F1: 0.9160156463876774\n"
     ]
    }
   ],
   "source": [
    "print(f\"loss: {loss}, \\n\"\n",
    "      f\"accuracy: {vgg_16_accuracy}, \\n\"\n",
    "      f\"recall: {recall}, \\n\"\n",
    "      f\"precision: {precision}, \\n\"\n",
    "      f\"auc: {auc}, \\n\"\n",
    "      f\"F1: {vgg_f1}\")"
   ]
  },
  {
   "cell_type": "code",
   "execution_count": 22,
   "metadata": {
    "collapsed": false,
    "jupyter": {
     "outputs_hidden": false
    },
    "pycharm": {
     "name": "#%%\n"
    }
   },
   "outputs": [],
   "source": [
    "# NO PRETRAINING\n",
    "\n",
    "# set base model\n",
    "xception_base_model = build_base_model('xception', None)\n",
    "\n",
    "# compile model\n",
    "xception_model = compile_model(xception_base_model, 0.0001, 0.9, 0.999, ['accuracy', 'Recall', 'Precision', 'AUC'])\n",
    "\n",
    "# define callback\n",
    "custom_early_stopping = keras.callbacks.EarlyStopping(patience=20)\n",
    "\n",
    "# train complete model\n",
    "xception_no_train_history = train_model(xception_model, train_image_gen, test_image_gen, 100, [custom_early_stopping])\n",
    "\n",
    "# metrics from the paper:\n",
    "# accuracy = 0.959, precision = 0.939, recall = 0.980, f1-score = 0.959, auc value = 0.982\n",
    "loss, xception_no_train_accuracy, recall, precision, auc = xception_model.evaluate(valid_set)\n",
    "\n",
    "# F1 score\n",
    "xception_no_train_f1 = 2 * ((precision * recall) / (precision + recall))\n",
    "\n",
    "print(f\"loss: {loss}, \\n\"\n",
    "      f\"accuracy: {xception_no_train_accuracy}, \\n\"\n",
    "      f\"recall: {recall}, \\n\"\n",
    "      f\"precision: {precision}, \\n\"\n",
    "      f\"auc: {auc}, \\n\"\n",
    "      f\"F1: {xception_no_train_f1}\")"
   ]
  },
  {
   "cell_type": "code",
   "execution_count": 23,
   "metadata": {
    "collapsed": false,
    "jupyter": {
     "outputs_hidden": false
    },
    "pycharm": {
     "name": "#%%\n"
    }
   },
   "outputs": [
    {
     "name": "stdout",
     "output_type": "stream",
     "text": [
      "Epoch 1/5\n",
      "63/63 [==============================] - 18s 254ms/step - loss: 1.4697 - accuracy: 0.6860 - recall: 0.7319 - precision: 0.6747 - auc: 0.7351 - val_loss: 0.7671 - val_accuracy: 0.7515 - val_recall: 0.7088 - val_precision: 0.7741 - val_auc: 0.8404\n",
      "Epoch 2/5\n",
      "63/63 [==============================] - 15s 240ms/step - loss: 0.5616 - accuracy: 0.7803 - recall: 0.8484 - precision: 0.7433 - auc: 0.8460 - val_loss: 0.5095 - val_accuracy: 0.8226 - val_recall: 0.8233 - val_precision: 0.8216 - val_auc: 0.8837\n",
      "Epoch 3/5\n",
      "63/63 [==============================] - 15s 241ms/step - loss: 0.5460 - accuracy: 0.7780 - recall: 0.8384 - precision: 0.7475 - auc: 0.8429 - val_loss: 0.4796 - val_accuracy: 0.8146 - val_recall: 0.7691 - val_precision: 0.8455 - val_auc: 0.8927\n",
      "Epoch 4/5\n",
      "63/63 [==============================] - 15s 242ms/step - loss: 0.4245 - accuracy: 0.8055 - recall: 0.8648 - precision: 0.7637 - auc: 0.8926 - val_loss: 0.4503 - val_accuracy: 0.8307 - val_recall: 0.8414 - val_precision: 0.8232 - val_auc: 0.8905\n",
      "Epoch 5/5\n",
      "63/63 [==============================] - 16s 246ms/step - loss: 0.4686 - accuracy: 0.8134 - recall: 0.8643 - precision: 0.7843 - auc: 0.8741 - val_loss: 0.4200 - val_accuracy: 0.8437 - val_recall: 0.8815 - val_precision: 0.8190 - val_auc: 0.9018\n",
      "Epoch 1/100\n",
      "63/63 [==============================] - 33s 465ms/step - loss: 1.1181 - accuracy: 0.6678 - recall: 0.7284 - precision: 0.6577 - auc: 0.7213 - val_loss: 0.4990 - val_accuracy: 0.7806 - val_recall: 0.8253 - val_precision: 0.7569 - val_auc: 0.8553\n",
      "Epoch 2/100\n",
      "63/63 [==============================] - 28s 450ms/step - loss: 0.4404 - accuracy: 0.8202 - recall: 0.8990 - precision: 0.7790 - auc: 0.8770 - val_loss: 0.3919 - val_accuracy: 0.8487 - val_recall: 0.8715 - val_precision: 0.8330 - val_auc: 0.9081\n",
      "Epoch 3/100\n",
      "63/63 [==============================] - 28s 448ms/step - loss: 0.3484 - accuracy: 0.8663 - recall: 0.9217 - precision: 0.8307 - auc: 0.9279 - val_loss: 0.3309 - val_accuracy: 0.8958 - val_recall: 0.9659 - val_precision: 0.8468 - val_auc: 0.9256\n",
      "Epoch 4/100\n",
      "63/63 [==============================] - 28s 448ms/step - loss: 0.2760 - accuracy: 0.8945 - recall: 0.9502 - precision: 0.8545 - auc: 0.9514 - val_loss: 0.3403 - val_accuracy: 0.8948 - val_recall: 0.9378 - val_precision: 0.8632 - val_auc: 0.9270\n",
      "Epoch 5/100\n",
      "63/63 [==============================] - 28s 451ms/step - loss: 0.2893 - accuracy: 0.8921 - recall: 0.9593 - precision: 0.8430 - auc: 0.9470 - val_loss: 0.3251 - val_accuracy: 0.9078 - val_recall: 0.9779 - val_precision: 0.8574 - val_auc: 0.9312\n",
      "Epoch 6/100\n",
      "63/63 [==============================] - 28s 450ms/step - loss: 0.2384 - accuracy: 0.9060 - recall: 0.9695 - precision: 0.8596 - auc: 0.9636 - val_loss: 0.3431 - val_accuracy: 0.9028 - val_recall: 0.9598 - val_precision: 0.8613 - val_auc: 0.9298\n",
      "Epoch 7/100\n",
      "63/63 [==============================] - 29s 454ms/step - loss: 0.2076 - accuracy: 0.9203 - recall: 0.9653 - precision: 0.8820 - auc: 0.9701 - val_loss: 0.3432 - val_accuracy: 0.9108 - val_recall: 0.9759 - val_precision: 0.8632 - val_auc: 0.9264\n",
      "Epoch 8/100\n",
      "63/63 [==============================] - 29s 462ms/step - loss: 0.2157 - accuracy: 0.9169 - recall: 0.9482 - precision: 0.8991 - auc: 0.9664 - val_loss: 0.3416 - val_accuracy: 0.9018 - val_recall: 0.9859 - val_precision: 0.8436 - val_auc: 0.9422\n",
      "Epoch 9/100\n",
      "63/63 [==============================] - 29s 456ms/step - loss: 0.1503 - accuracy: 0.9480 - recall: 0.9656 - precision: 0.9331 - auc: 0.9834 - val_loss: 0.3083 - val_accuracy: 0.9269 - val_recall: 0.9819 - val_precision: 0.8843 - val_auc: 0.9498\n",
      "Epoch 10/100\n",
      "63/63 [==============================] - 28s 449ms/step - loss: 0.1681 - accuracy: 0.9337 - recall: 0.9589 - precision: 0.9117 - auc: 0.9822 - val_loss: 0.3575 - val_accuracy: 0.9088 - val_recall: 0.9759 - val_precision: 0.8602 - val_auc: 0.9378\n",
      "Epoch 11/100\n",
      "63/63 [==============================] - 29s 457ms/step - loss: 0.1446 - accuracy: 0.9432 - recall: 0.9530 - precision: 0.9368 - auc: 0.9871 - val_loss: 0.3248 - val_accuracy: 0.9128 - val_recall: 0.9618 - val_precision: 0.8757 - val_auc: 0.9445\n",
      "Epoch 12/100\n",
      "63/63 [==============================] - 29s 451ms/step - loss: 0.1432 - accuracy: 0.9529 - recall: 0.9740 - precision: 0.9373 - auc: 0.9844 - val_loss: 0.3839 - val_accuracy: 0.8928 - val_recall: 0.9438 - val_precision: 0.8561 - val_auc: 0.9292\n",
      "Epoch 13/100\n",
      "63/63 [==============================] - 29s 453ms/step - loss: 0.1369 - accuracy: 0.9469 - recall: 0.9531 - precision: 0.9427 - auc: 0.9865 - val_loss: 0.3014 - val_accuracy: 0.9078 - val_recall: 0.9558 - val_precision: 0.8718 - val_auc: 0.9531\n",
      "Epoch 14/100\n",
      "63/63 [==============================] - 29s 458ms/step - loss: 0.1451 - accuracy: 0.9451 - recall: 0.9524 - precision: 0.9386 - auc: 0.9851 - val_loss: 0.3474 - val_accuracy: 0.9138 - val_recall: 0.9699 - val_precision: 0.8718 - val_auc: 0.9456\n",
      "Epoch 15/100\n",
      "63/63 [==============================] - 31s 494ms/step - loss: 0.1133 - accuracy: 0.9618 - recall: 0.9680 - precision: 0.9560 - auc: 0.9911 - val_loss: 0.3959 - val_accuracy: 0.9018 - val_recall: 0.9518 - val_precision: 0.8650 - val_auc: 0.9303\n",
      "Epoch 16/100\n",
      "63/63 [==============================] - 30s 474ms/step - loss: 0.0846 - accuracy: 0.9652 - recall: 0.9684 - precision: 0.9622 - auc: 0.9956 - val_loss: 0.3658 - val_accuracy: 0.9138 - val_recall: 0.9679 - val_precision: 0.8732 - val_auc: 0.9453\n",
      "Epoch 17/100\n",
      "63/63 [==============================] - 31s 490ms/step - loss: 0.0997 - accuracy: 0.9615 - recall: 0.9770 - precision: 0.9454 - auc: 0.9938 - val_loss: 0.3867 - val_accuracy: 0.9018 - val_recall: 0.9458 - val_precision: 0.8690 - val_auc: 0.9404\n",
      "Epoch 18/100\n",
      "63/63 [==============================] - 29s 463ms/step - loss: 0.1025 - accuracy: 0.9602 - recall: 0.9658 - precision: 0.9561 - auc: 0.9935 - val_loss: 0.3651 - val_accuracy: 0.9058 - val_recall: 0.9578 - val_precision: 0.8673 - val_auc: 0.9401\n",
      "Epoch 19/100\n",
      "63/63 [==============================] - 29s 458ms/step - loss: 0.1048 - accuracy: 0.9644 - recall: 0.9743 - precision: 0.9573 - auc: 0.9899 - val_loss: 0.3857 - val_accuracy: 0.9138 - val_recall: 0.9659 - val_precision: 0.8745 - val_auc: 0.9430\n",
      "Epoch 20/100\n",
      "63/63 [==============================] - 29s 461ms/step - loss: 0.0800 - accuracy: 0.9691 - recall: 0.9753 - precision: 0.9620 - auc: 0.9961 - val_loss: 0.5249 - val_accuracy: 0.8968 - val_recall: 0.9699 - val_precision: 0.8459 - val_auc: 0.9287\n",
      "Epoch 21/100\n",
      "63/63 [==============================] - 29s 460ms/step - loss: 0.1050 - accuracy: 0.9579 - recall: 0.9634 - precision: 0.9517 - auc: 0.9929 - val_loss: 0.3728 - val_accuracy: 0.9198 - val_recall: 0.9819 - val_precision: 0.8732 - val_auc: 0.9494\n",
      "Epoch 22/100\n",
      "63/63 [==============================] - 29s 456ms/step - loss: 0.0796 - accuracy: 0.9703 - recall: 0.9766 - precision: 0.9649 - auc: 0.9951 - val_loss: 0.4244 - val_accuracy: 0.9048 - val_recall: 0.9799 - val_precision: 0.8517 - val_auc: 0.9418\n",
      "Epoch 23/100\n",
      "63/63 [==============================] - 29s 459ms/step - loss: 0.0606 - accuracy: 0.9744 - recall: 0.9728 - precision: 0.9760 - auc: 0.9971 - val_loss: 0.4541 - val_accuracy: 0.9038 - val_recall: 0.9679 - val_precision: 0.8577 - val_auc: 0.9447\n",
      "Epoch 24/100\n",
      "63/63 [==============================] - 29s 458ms/step - loss: 0.0734 - accuracy: 0.9727 - recall: 0.9805 - precision: 0.9652 - auc: 0.9964 - val_loss: 0.4906 - val_accuracy: 0.9008 - val_recall: 0.9598 - val_precision: 0.8582 - val_auc: 0.9314\n",
      "Epoch 25/100\n",
      "63/63 [==============================] - 29s 461ms/step - loss: 0.0639 - accuracy: 0.9815 - recall: 0.9865 - precision: 0.9764 - auc: 0.9955 - val_loss: 0.4075 - val_accuracy: 0.9248 - val_recall: 0.9799 - val_precision: 0.8825 - val_auc: 0.9457\n",
      "Epoch 26/100\n",
      "63/63 [==============================] - 29s 464ms/step - loss: 0.0663 - accuracy: 0.9740 - recall: 0.9749 - precision: 0.9737 - auc: 0.9966 - val_loss: 0.4428 - val_accuracy: 0.9128 - val_recall: 0.9759 - val_precision: 0.8663 - val_auc: 0.9449\n",
      "Epoch 27/100\n",
      "63/63 [==============================] - 29s 454ms/step - loss: 0.0528 - accuracy: 0.9806 - recall: 0.9841 - precision: 0.9782 - auc: 0.9980 - val_loss: 0.4391 - val_accuracy: 0.8968 - val_recall: 0.9237 - val_precision: 0.8762 - val_auc: 0.9426\n",
      "Epoch 28/100\n",
      "63/63 [==============================] - 29s 455ms/step - loss: 0.0570 - accuracy: 0.9780 - recall: 0.9707 - precision: 0.9873 - auc: 0.9985 - val_loss: 0.5872 - val_accuracy: 0.9028 - val_recall: 0.9679 - val_precision: 0.8561 - val_auc: 0.9350\n",
      "Epoch 29/100\n",
      "63/63 [==============================] - 29s 457ms/step - loss: 0.0782 - accuracy: 0.9733 - recall: 0.9743 - precision: 0.9734 - auc: 0.9944 - val_loss: 0.4227 - val_accuracy: 0.8998 - val_recall: 0.9458 - val_precision: 0.8658 - val_auc: 0.9478\n",
      "Epoch 30/100\n",
      "63/63 [==============================] - 29s 466ms/step - loss: 0.0602 - accuracy: 0.9784 - recall: 0.9786 - precision: 0.9781 - auc: 0.9962 - val_loss: 0.3950 - val_accuracy: 0.9208 - val_recall: 0.9799 - val_precision: 0.8761 - val_auc: 0.9472\n",
      "Epoch 31/100\n",
      "63/63 [==============================] - 30s 468ms/step - loss: 0.0469 - accuracy: 0.9834 - recall: 0.9914 - precision: 0.9758 - auc: 0.9986 - val_loss: 0.5320 - val_accuracy: 0.9008 - val_recall: 0.9819 - val_precision: 0.8446 - val_auc: 0.9366\n",
      "Epoch 32/100\n",
      "63/63 [==============================] - 30s 468ms/step - loss: 0.0625 - accuracy: 0.9796 - recall: 0.9836 - precision: 0.9757 - auc: 0.9962 - val_loss: 0.5292 - val_accuracy: 0.8988 - val_recall: 0.9880 - val_precision: 0.8382 - val_auc: 0.9336\n",
      "Epoch 33/100\n",
      "63/63 [==============================] - 30s 472ms/step - loss: 0.0384 - accuracy: 0.9887 - recall: 0.9896 - precision: 0.9878 - auc: 0.9989 - val_loss: 0.4697 - val_accuracy: 0.8898 - val_recall: 0.9277 - val_precision: 0.8619 - val_auc: 0.9323\n",
      "32/32 [==============================] - 5s 165ms/step - loss: 0.4167 - accuracy: 0.8910 - recall: 0.9440 - precision: 0.8535 - auc: 0.9363\n",
      "loss: 0.41673922538757324, \n",
      "accuracy: 0.890999972820282, \n",
      "recall: 0.9440000057220459, \n",
      "precision: 0.85352623462677, \n",
      "auc: 0.936303973197937, \n",
      "F1: 0.8964862401288037\n"
     ]
    }
   ],
   "source": [
    "# Script which uses\n",
    "# xception as a base model\n",
    "# the adams optimizer with learning rate: 0.0001, beta_1: 0.9 and beta_2: 0.99\n",
    "# accuracy, recall, precision, auc as metrics\n",
    "# trains the frozen model for 5 epochs\n",
    "# defines an early stopping callback with an patience of 20\n",
    "# trains the unfrozen model (for 100 epoch) till early stopping stops the training\n",
    "# and prints the values of the metrics\n",
    "\n",
    "\n",
    "# set base model\n",
    "xception_base_model = build_base_model('xception', 'imagenet')\n",
    "\n",
    "# freeze layers of base model for first train run\n",
    "set_layers_trainable(False, xception_base_model)\n",
    "\n",
    "# compile model (also builds the model)\n",
    "xception_model = compile_model(xception_base_model, 0.0001, 0.9, 0.999, ['accuracy', 'Recall', 'Precision', 'AUC'])\n",
    "\n",
    "# train frozen layer model\n",
    "xception_history = train_model(xception_model, train_image_gen, test_image_gen, 5, [])\n",
    "\n",
    "# unfreeze base model layers\n",
    "set_layers_trainable(True, xception_base_model)\n",
    "\n",
    "# compile model\n",
    "xception_model = compile_model(xception_base_model, 0.0001, 0.9, 0.999, ['accuracy', 'Recall', 'Precision', 'AUC'])\n",
    "\n",
    "# define callback\n",
    "custom_early_stopping = keras.callbacks.EarlyStopping(patience=20)\n",
    "\n",
    "# train complete model\n",
    "xception_history = train_model(xception_model, train_image_gen, test_image_gen, 100, [custom_early_stopping])\n",
    "\n",
    "# metrics from the paper:\n",
    "# accuracy = 0.959, precision = 0.939, recall = 0.980, f1-score = 0.959, auc value = 0.982\n",
    "loss, xception_accuracy, recall, precision, auc = xception_model.evaluate(valid_set)\n",
    "\n",
    "# F1 score\n",
    "xception_f1 = 2 * ((precision * recall) / (precision + recall))\n",
    "\n",
    "print(f\"loss: {loss}, \\n\"\n",
    "      f\"accuracy: {xception_accuracy}, \\n\"\n",
    "      f\"recall: {recall}, \\n\"\n",
    "      f\"precision: {precision}, \\n\"\n",
    "      f\"auc: {auc}, \\n\"\n",
    "      f\"F1: {xception_f1}\")"
   ]
  },
  {
   "cell_type": "code",
   "execution_count": 24,
   "metadata": {
    "collapsed": false,
    "jupyter": {
     "outputs_hidden": false
    },
    "pycharm": {
     "name": "#%%\n"
    }
   },
   "outputs": [
    {
     "data": {
      "image/png": "[encoded data removed]",
      "text/plain": [
       "<Figure size 576x360 with 1 Axes>"
      ]
     },
     "metadata": {
      "needs_background": "light"
     },
     "output_type": "display_data"
    }
   ],
   "source": [
    "# NO PRETRAINING\n",
    "\n",
    "# set base model\n",
    "resnet_base_model = build_base_model('resnet', 'imagenet')\n",
    "\n",
    "# compile model\n",
    "resnet_model = compile_model(resnet_base_model, 0.00001, 0.9, 0.999, ['accuracy', 'Recall', 'Precision', 'AUC'])\n",
    "\n",
    "# define callback\n",
    "custom_early_stopping = keras.callbacks.EarlyStopping(patience=20)\n",
    "\n",
    "# train complete model\n",
    "resnet_no_train_history = train_model(resnet_model, train_image_gen, test_image_gen, 100, [custom_early_stopping])\n",
    "\n",
    "# metrics from the paper:\n",
    "# accuracy = 0.959, precision = 0.939, recall = 0.980, f1-score = 0.959, auc value = 0.982\n",
    "loss, resnet_no_train_accuracy, recall, precision, auc = resnet_model.evaluate(valid_set)\n",
    "\n",
    "# F1 score\n",
    "resnet_no_train_f1 = 2 * ((precision * recall) / (precision + recall))\n",
    "\n",
    "print(f\"loss: {loss}, \\n\"\n",
    "      f\"accuracy: {resnet_no_train_accuracy}, \\n\"\n",
    "      f\"recall: {recall}, \\n\"\n",
    "      f\"precision: {precision}, \\n\"\n",
    "      f\"auc: {auc}, \\n\"\n",
    "      f\"F1: {resnet_not_train_f1}\")"
   ]
  },
  {
   "cell_type": "code",
   "execution_count": 27,
   "metadata": {
    "collapsed": false,
    "jupyter": {
     "outputs_hidden": false
    },
    "pycharm": {
     "name": "#%%\n"
    }
   },
   "outputs": [
    {
     "name": "stdout",
     "output_type": "stream",
     "text": [
      "Epoch 1/5\n",
      "63/63 [==============================] - 21s 290ms/step - loss: 0.9431 - accuracy: 0.4934 - recall: 0.5026 - precision: 0.4967 - auc: 0.4819 - val_loss: 0.6883 - val_accuracy: 0.5641 - val_recall: 0.7209 - val_precision: 0.5481 - val_auc: 0.5714\n",
      "Epoch 2/5\n",
      "63/63 [==============================] - 17s 264ms/step - loss: 0.8666 - accuracy: 0.5105 - recall: 0.5013 - precision: 0.5082 - auc: 0.5206 - val_loss: 0.7741 - val_accuracy: 0.5020 - val_recall: 0.0040 - val_precision: 0.6667 - val_auc: 0.6244\n",
      "Epoch 3/5\n",
      "63/63 [==============================] - 17s 274ms/step - loss: 0.8565 - accuracy: 0.5273 - recall: 0.5382 - precision: 0.5296 - auc: 0.5318 - val_loss: 0.7443 - val_accuracy: 0.5150 - val_recall: 0.9859 - val_precision: 0.5072 - val_auc: 0.6555\n",
      "Epoch 4/5\n",
      "63/63 [==============================] - 16s 260ms/step - loss: 0.8429 - accuracy: 0.5148 - recall: 0.5344 - precision: 0.5077 - auc: 0.5288 - val_loss: 0.9802 - val_accuracy: 0.5010 - val_recall: 0.0000e+00 - val_precision: 0.0000e+00 - val_auc: 0.6385\n",
      "Epoch 5/5\n",
      "63/63 [==============================] - 17s 269ms/step - loss: 0.8384 - accuracy: 0.5183 - recall: 0.5324 - precision: 0.5118 - auc: 0.5438 - val_loss: 0.6871 - val_accuracy: 0.5080 - val_recall: 0.0261 - val_precision: 0.6842 - val_auc: 0.6779\n",
      "Epoch 1/100\n"
     ]
    },
    {
     "ename": "ResourceExhaustedError",
     "evalue": " OOM when allocating tensor with shape[73728,1000] and type float on /job:localhost/replica:0/task:0/device:GPU:0 by allocator GPU_0_bfc\n\t [[node gradient_tape/model_8/dense_16/MatMul_1 (defined at <ipython-input-15-e716234d242b>:7) ]]\nHint: If you want to see a list of allocated tensors when OOM happens, add report_tensor_allocations_upon_oom to RunOptions for current allocation info.\n [Op:__inference_train_function_201946]\n\nFunction call stack:\ntrain_function\n",
     "output_type": "error",
     "traceback": [
      "\u001B[0;31m---------------------------------------------------------------------------\u001B[0m",
      "\u001B[0;31mResourceExhaustedError\u001B[0m                    Traceback (most recent call last)",
      "\u001B[0;32m<ipython-input-27-6b5775060f9e>\u001B[0m in \u001B[0;36m<module>\u001B[0;34m\u001B[0m\n\u001B[1;32m     31\u001B[0m \u001B[0;34m\u001B[0m\u001B[0m\n\u001B[1;32m     32\u001B[0m \u001B[0;31m# train complete model\u001B[0m\u001B[0;34m\u001B[0m\u001B[0;34m\u001B[0m\u001B[0;34m\u001B[0m\u001B[0m\n\u001B[0;32m---> 33\u001B[0;31m \u001B[0mhistory\u001B[0m \u001B[0;34m=\u001B[0m \u001B[0mtrain_model\u001B[0m\u001B[0;34m(\u001B[0m\u001B[0mresnet_model\u001B[0m\u001B[0;34m,\u001B[0m \u001B[0mtrain_image_gen\u001B[0m\u001B[0;34m,\u001B[0m \u001B[0mtest_image_gen\u001B[0m\u001B[0;34m,\u001B[0m \u001B[0;36m100\u001B[0m\u001B[0;34m,\u001B[0m \u001B[0;34m[\u001B[0m\u001B[0mcustom_early_stopping\u001B[0m\u001B[0;34m]\u001B[0m\u001B[0;34m)\u001B[0m\u001B[0;34m\u001B[0m\u001B[0;34m\u001B[0m\u001B[0m\n\u001B[0m\u001B[1;32m     34\u001B[0m \u001B[0;34m\u001B[0m\u001B[0m\n\u001B[1;32m     35\u001B[0m \u001B[0;31m# metrics from the paper:\u001B[0m\u001B[0;34m\u001B[0m\u001B[0;34m\u001B[0m\u001B[0;34m\u001B[0m\u001B[0m\n",
      "\u001B[0;32m<ipython-input-15-e716234d242b>\u001B[0m in \u001B[0;36mtrain_model\u001B[0;34m(input_model, train_set, test_set, epochs, callback)\u001B[0m\n\u001B[1;32m      5\u001B[0m                            \u001B[0mvalidation_data\u001B[0m\u001B[0;34m=\u001B[0m\u001B[0mtest_set\u001B[0m\u001B[0;34m,\u001B[0m\u001B[0;34m\u001B[0m\u001B[0;34m\u001B[0m\u001B[0m\n\u001B[1;32m      6\u001B[0m                            \u001B[0mepochs\u001B[0m\u001B[0;34m=\u001B[0m\u001B[0mepochs\u001B[0m\u001B[0;34m,\u001B[0m\u001B[0;34m\u001B[0m\u001B[0;34m\u001B[0m\u001B[0m\n\u001B[0;32m----> 7\u001B[0;31m                            callbacks=callback)\n\u001B[0m",
      "\u001B[0;32m~/anaconda3/envs/tf2/lib/python3.7/site-packages/tensorflow/python/keras/engine/training.py\u001B[0m in \u001B[0;36mfit\u001B[0;34m(self, x, y, batch_size, epochs, verbose, callbacks, validation_split, validation_data, shuffle, class_weight, sample_weight, initial_epoch, steps_per_epoch, validation_steps, validation_batch_size, validation_freq, max_queue_size, workers, use_multiprocessing)\u001B[0m\n\u001B[1;32m   1098\u001B[0m                 _r=1):\n\u001B[1;32m   1099\u001B[0m               \u001B[0mcallbacks\u001B[0m\u001B[0;34m.\u001B[0m\u001B[0mon_train_batch_begin\u001B[0m\u001B[0;34m(\u001B[0m\u001B[0mstep\u001B[0m\u001B[0;34m)\u001B[0m\u001B[0;34m\u001B[0m\u001B[0;34m\u001B[0m\u001B[0m\n\u001B[0;32m-> 1100\u001B[0;31m               \u001B[0mtmp_logs\u001B[0m \u001B[0;34m=\u001B[0m \u001B[0mself\u001B[0m\u001B[0;34m.\u001B[0m\u001B[0mtrain_function\u001B[0m\u001B[0;34m(\u001B[0m\u001B[0miterator\u001B[0m\u001B[0;34m)\u001B[0m\u001B[0;34m\u001B[0m\u001B[0;34m\u001B[0m\u001B[0m\n\u001B[0m\u001B[1;32m   1101\u001B[0m               \u001B[0;32mif\u001B[0m \u001B[0mdata_handler\u001B[0m\u001B[0;34m.\u001B[0m\u001B[0mshould_sync\u001B[0m\u001B[0;34m:\u001B[0m\u001B[0;34m\u001B[0m\u001B[0;34m\u001B[0m\u001B[0m\n\u001B[1;32m   1102\u001B[0m                 \u001B[0mcontext\u001B[0m\u001B[0;34m.\u001B[0m\u001B[0masync_wait\u001B[0m\u001B[0;34m(\u001B[0m\u001B[0;34m)\u001B[0m\u001B[0;34m\u001B[0m\u001B[0;34m\u001B[0m\u001B[0m\n",
      "\u001B[0;32m~/anaconda3/envs/tf2/lib/python3.7/site-packages/tensorflow/python/eager/def_function.py\u001B[0m in \u001B[0;36m__call__\u001B[0;34m(self, *args, **kwds)\u001B[0m\n\u001B[1;32m    826\u001B[0m     \u001B[0mtracing_count\u001B[0m \u001B[0;34m=\u001B[0m \u001B[0mself\u001B[0m\u001B[0;34m.\u001B[0m\u001B[0mexperimental_get_tracing_count\u001B[0m\u001B[0;34m(\u001B[0m\u001B[0;34m)\u001B[0m\u001B[0;34m\u001B[0m\u001B[0;34m\u001B[0m\u001B[0m\n\u001B[1;32m    827\u001B[0m     \u001B[0;32mwith\u001B[0m \u001B[0mtrace\u001B[0m\u001B[0;34m.\u001B[0m\u001B[0mTrace\u001B[0m\u001B[0;34m(\u001B[0m\u001B[0mself\u001B[0m\u001B[0;34m.\u001B[0m\u001B[0m_name\u001B[0m\u001B[0;34m)\u001B[0m \u001B[0;32mas\u001B[0m \u001B[0mtm\u001B[0m\u001B[0;34m:\u001B[0m\u001B[0;34m\u001B[0m\u001B[0;34m\u001B[0m\u001B[0m\n\u001B[0;32m--> 828\u001B[0;31m       \u001B[0mresult\u001B[0m \u001B[0;34m=\u001B[0m \u001B[0mself\u001B[0m\u001B[0;34m.\u001B[0m\u001B[0m_call\u001B[0m\u001B[0;34m(\u001B[0m\u001B[0;34m*\u001B[0m\u001B[0margs\u001B[0m\u001B[0;34m,\u001B[0m \u001B[0;34m**\u001B[0m\u001B[0mkwds\u001B[0m\u001B[0;34m)\u001B[0m\u001B[0;34m\u001B[0m\u001B[0;34m\u001B[0m\u001B[0m\n\u001B[0m\u001B[1;32m    829\u001B[0m       \u001B[0mcompiler\u001B[0m \u001B[0;34m=\u001B[0m \u001B[0;34m\"xla\"\u001B[0m \u001B[0;32mif\u001B[0m \u001B[0mself\u001B[0m\u001B[0;34m.\u001B[0m\u001B[0m_experimental_compile\u001B[0m \u001B[0;32melse\u001B[0m \u001B[0;34m\"nonXla\"\u001B[0m\u001B[0;34m\u001B[0m\u001B[0;34m\u001B[0m\u001B[0m\n\u001B[1;32m    830\u001B[0m       \u001B[0mnew_tracing_count\u001B[0m \u001B[0;34m=\u001B[0m \u001B[0mself\u001B[0m\u001B[0;34m.\u001B[0m\u001B[0mexperimental_get_tracing_count\u001B[0m\u001B[0;34m(\u001B[0m\u001B[0;34m)\u001B[0m\u001B[0;34m\u001B[0m\u001B[0;34m\u001B[0m\u001B[0m\n",
      "\u001B[0;32m~/anaconda3/envs/tf2/lib/python3.7/site-packages/tensorflow/python/eager/def_function.py\u001B[0m in \u001B[0;36m_call\u001B[0;34m(self, *args, **kwds)\u001B[0m\n\u001B[1;32m    886\u001B[0m         \u001B[0;31m# Lifting succeeded, so variables are initialized and we can run the\u001B[0m\u001B[0;34m\u001B[0m\u001B[0;34m\u001B[0m\u001B[0;34m\u001B[0m\u001B[0m\n\u001B[1;32m    887\u001B[0m         \u001B[0;31m# stateless function.\u001B[0m\u001B[0;34m\u001B[0m\u001B[0;34m\u001B[0m\u001B[0;34m\u001B[0m\u001B[0m\n\u001B[0;32m--> 888\u001B[0;31m         \u001B[0;32mreturn\u001B[0m \u001B[0mself\u001B[0m\u001B[0;34m.\u001B[0m\u001B[0m_stateless_fn\u001B[0m\u001B[0;34m(\u001B[0m\u001B[0;34m*\u001B[0m\u001B[0margs\u001B[0m\u001B[0;34m,\u001B[0m \u001B[0;34m**\u001B[0m\u001B[0mkwds\u001B[0m\u001B[0;34m)\u001B[0m\u001B[0;34m\u001B[0m\u001B[0;34m\u001B[0m\u001B[0m\n\u001B[0m\u001B[1;32m    889\u001B[0m     \u001B[0;32melse\u001B[0m\u001B[0;34m:\u001B[0m\u001B[0;34m\u001B[0m\u001B[0;34m\u001B[0m\u001B[0m\n\u001B[1;32m    890\u001B[0m       \u001B[0m_\u001B[0m\u001B[0;34m,\u001B[0m \u001B[0m_\u001B[0m\u001B[0;34m,\u001B[0m \u001B[0m_\u001B[0m\u001B[0;34m,\u001B[0m \u001B[0mfiltered_flat_args\u001B[0m \u001B[0;34m=\u001B[0m\u001B[0;31m \u001B[0m\u001B[0;31m\\\u001B[0m\u001B[0;34m\u001B[0m\u001B[0;34m\u001B[0m\u001B[0m\n",
      "\u001B[0;32m~/anaconda3/envs/tf2/lib/python3.7/site-packages/tensorflow/python/eager/function.py\u001B[0m in \u001B[0;36m__call__\u001B[0;34m(self, *args, **kwargs)\u001B[0m\n\u001B[1;32m   2941\u001B[0m        filtered_flat_args) = self._maybe_define_function(args, kwargs)\n\u001B[1;32m   2942\u001B[0m     return graph_function._call_flat(\n\u001B[0;32m-> 2943\u001B[0;31m         filtered_flat_args, captured_inputs=graph_function.captured_inputs)  # pylint: disable=protected-access\n\u001B[0m\u001B[1;32m   2944\u001B[0m \u001B[0;34m\u001B[0m\u001B[0m\n\u001B[1;32m   2945\u001B[0m   \u001B[0;34m@\u001B[0m\u001B[0mproperty\u001B[0m\u001B[0;34m\u001B[0m\u001B[0;34m\u001B[0m\u001B[0m\n",
      "\u001B[0;32m~/anaconda3/envs/tf2/lib/python3.7/site-packages/tensorflow/python/eager/function.py\u001B[0m in \u001B[0;36m_call_flat\u001B[0;34m(self, args, captured_inputs, cancellation_manager)\u001B[0m\n\u001B[1;32m   1917\u001B[0m       \u001B[0;31m# No tape is watching; skip to running the function.\u001B[0m\u001B[0;34m\u001B[0m\u001B[0;34m\u001B[0m\u001B[0;34m\u001B[0m\u001B[0m\n\u001B[1;32m   1918\u001B[0m       return self._build_call_outputs(self._inference_function.call(\n\u001B[0;32m-> 1919\u001B[0;31m           ctx, args, cancellation_manager=cancellation_manager))\n\u001B[0m\u001B[1;32m   1920\u001B[0m     forward_backward = self._select_forward_and_backward_functions(\n\u001B[1;32m   1921\u001B[0m         \u001B[0margs\u001B[0m\u001B[0;34m,\u001B[0m\u001B[0;34m\u001B[0m\u001B[0;34m\u001B[0m\u001B[0m\n",
      "\u001B[0;32m~/anaconda3/envs/tf2/lib/python3.7/site-packages/tensorflow/python/eager/function.py\u001B[0m in \u001B[0;36mcall\u001B[0;34m(self, ctx, args, cancellation_manager)\u001B[0m\n\u001B[1;32m    558\u001B[0m               \u001B[0minputs\u001B[0m\u001B[0;34m=\u001B[0m\u001B[0margs\u001B[0m\u001B[0;34m,\u001B[0m\u001B[0;34m\u001B[0m\u001B[0;34m\u001B[0m\u001B[0m\n\u001B[1;32m    559\u001B[0m               \u001B[0mattrs\u001B[0m\u001B[0;34m=\u001B[0m\u001B[0mattrs\u001B[0m\u001B[0;34m,\u001B[0m\u001B[0;34m\u001B[0m\u001B[0;34m\u001B[0m\u001B[0m\n\u001B[0;32m--> 560\u001B[0;31m               ctx=ctx)\n\u001B[0m\u001B[1;32m    561\u001B[0m         \u001B[0;32melse\u001B[0m\u001B[0;34m:\u001B[0m\u001B[0;34m\u001B[0m\u001B[0;34m\u001B[0m\u001B[0m\n\u001B[1;32m    562\u001B[0m           outputs = execute.execute_with_cancellation(\n",
      "\u001B[0;32m~/anaconda3/envs/tf2/lib/python3.7/site-packages/tensorflow/python/eager/execute.py\u001B[0m in \u001B[0;36mquick_execute\u001B[0;34m(op_name, num_outputs, inputs, attrs, ctx, name)\u001B[0m\n\u001B[1;32m     58\u001B[0m     \u001B[0mctx\u001B[0m\u001B[0;34m.\u001B[0m\u001B[0mensure_initialized\u001B[0m\u001B[0;34m(\u001B[0m\u001B[0;34m)\u001B[0m\u001B[0;34m\u001B[0m\u001B[0;34m\u001B[0m\u001B[0m\n\u001B[1;32m     59\u001B[0m     tensors = pywrap_tfe.TFE_Py_Execute(ctx._handle, device_name, op_name,\n\u001B[0;32m---> 60\u001B[0;31m                                         inputs, attrs, num_outputs)\n\u001B[0m\u001B[1;32m     61\u001B[0m   \u001B[0;32mexcept\u001B[0m \u001B[0mcore\u001B[0m\u001B[0;34m.\u001B[0m\u001B[0m_NotOkStatusException\u001B[0m \u001B[0;32mas\u001B[0m \u001B[0me\u001B[0m\u001B[0;34m:\u001B[0m\u001B[0;34m\u001B[0m\u001B[0;34m\u001B[0m\u001B[0m\n\u001B[1;32m     62\u001B[0m     \u001B[0;32mif\u001B[0m \u001B[0mname\u001B[0m \u001B[0;32mis\u001B[0m \u001B[0;32mnot\u001B[0m \u001B[0;32mNone\u001B[0m\u001B[0;34m:\u001B[0m\u001B[0;34m\u001B[0m\u001B[0;34m\u001B[0m\u001B[0m\n",
      "\u001B[0;31mResourceExhaustedError\u001B[0m:  OOM when allocating tensor with shape[73728,1000] and type float on /job:localhost/replica:0/task:0/device:GPU:0 by allocator GPU_0_bfc\n\t [[node gradient_tape/model_8/dense_16/MatMul_1 (defined at <ipython-input-15-e716234d242b>:7) ]]\nHint: If you want to see a list of allocated tensors when OOM happens, add report_tensor_allocations_upon_oom to RunOptions for current allocation info.\n [Op:__inference_train_function_201946]\n\nFunction call stack:\ntrain_function\n"
     ]
    }
   ],
   "source": [
    "# Script which uses\n",
    "# resnet as a base model\n",
    "# the adams optimizer with learning rate: 0.0001, beta_1: 0.9 and beta_2: 0.99\n",
    "# accuracy, recall, precision, auc as metrics\n",
    "# trains the frozen model for 5 epochs\n",
    "# defines an early stopping callback with an patience of 20\n",
    "# trains the unfrozen model (for 100 epoch) till early stopping stops the training\n",
    "# and prints the values of the metrics\n",
    "\n",
    "\n",
    "# set base model\n",
    "resnet_base_model = build_base_model('resnet', 'imagenet')\n",
    "\n",
    "# freeze layers of base model for first train run\n",
    "set_layers_trainable(False, resnet_base_model)\n",
    "\n",
    "# compile model (also builds the model)\n",
    "resnet_model = compile_model(resnet_base_model, 0.0001, 0.9, 0.999, ['accuracy', 'Recall', 'Precision', 'AUC'])\n",
    "\n",
    "# train frozen layer model\n",
    "resnet_history = train_model(resnet_model, train_image_gen, test_image_gen, 5, [])\n",
    "\n",
    "# unfreeze base model layers\n",
    "set_layers_trainable(True, resnet_base_model)\n",
    "\n",
    "# compile model\n",
    "resnet_model = compile_model(resnet_base_model, 0.00001, 0.9, 0.999, ['accuracy', 'Recall', 'Precision', 'AUC'])\n",
    "\n",
    "# define callback\n",
    "custom_early_stopping = keras.callbacks.EarlyStopping(patience=20)\n",
    "\n",
    "# train complete model\n",
    "resnet_history = train_model(resnet_model, train_image_gen, test_image_gen, 100, [custom_early_stopping])\n",
    "\n",
    "# metrics from the paper:\n",
    "# accuracy = 0.959, precision = 0.939, recall = 0.980, f1-score = 0.959, auc value = 0.982\n",
    "loss, resnet_accuracy, recall, precision, auc = resnet_model.evaluate(valid_set)\n",
    "\n",
    "# F1 score\n",
    "resnet_f1 = 2 * ((precision * recall) / (precision + recall))\n",
    "\n",
    "print(f\"loss: {loss}, \\n\"\n",
    "      f\"accuracy: {resnet_accuracy}, \\n\"\n",
    "      f\"recall: {recall}, \\n\"\n",
    "      f\"precision: {precision}, \\n\"\n",
    "      f\"auc: {auc}, \\n\"\n",
    "      f\"F1: {resnet_f1}\")"
   ]
  },
  {
   "cell_type": "code",
   "execution_count": null,
   "metadata": {
    "collapsed": false,
    "jupyter": {
     "outputs_hidden": false
    },
    "pycharm": {
     "name": "#%%\n"
    }
   },
   "outputs": [],
   "source": [
    "# plot loss during training\n",
    "plt.subplot(211)\n",
    "plt.title('Loss - no pre-training')\n",
    "plt.plot(history.history['loss'], label='train')\n",
    "plt.plot(history.history['val_loss'], label='test')\n",
    "plt.legend()\n",
    "# plot accuracy during training\n",
    "plt.subplot(212)\n",
    "plt.title('Accuracy - no pre training')\n",
    "plt.plot(history.history['accuracy'], label='train')\n",
    "plt.plot(history.history['val_accuracy'], label='test')\n",
    "plt.legend()\n",
    "plt.show()"
   ]
  },
  {
   "cell_type": "code",
   "execution_count": null,
   "metadata": {
    "collapsed": false,
    "jupyter": {
     "outputs_hidden": false
    },
    "pycharm": {
     "name": "#%%\n"
    }
   },
   "outputs": [],
   "source": [
    "# plot loss during training\n",
    "plt.subplot(211)\n",
    "plt.title('Loss')\n",
    "plt.plot(history.history['loss'], label='train')\n",
    "plt.plot(history.history['val_loss'], label='test')\n",
    "plt.legend()\n",
    "# plot accuracy during training\n",
    "plt.subplot(212)\n",
    "plt.title('Accuracy')\n",
    "plt.plot(history.history['accuracy'], label='train')\n",
    "plt.plot(history.history['val_accuracy'], label='test')\n",
    "plt.legend()\n",
    "plt.show()"
   ]
  },
  {
   "cell_type": "code",
   "execution_count": 23,
   "metadata": {},
   "outputs": [
    {
     "data": {
      "image/png": "[encoded data removed]",
      "text/plain": [
       "<Figure size 432x288 with 2 Axes>"
      ]
     },
     "metadata": {
      "needs_background": "light"
     },
     "output_type": "display_data"
    },
    {
     "data": {
      "image/png": "[encoded data removed]",
      "text/plain": [
       "<Figure size 432x288 with 2 Axes>"
      ]
     },
     "metadata": {
      "needs_background": "light"
     },
     "output_type": "display_data"
    }
   ],
   "source": [
    "# plot loss during training\n",
    "plt.subplot(211)\n",
    "plt.title('Loss')\n",
    "plt.plot(vgg_no_train_history.history['loss'], label='train')\n",
    "plt.plot(vgg_no_train_history.history['val_loss'], label='test')\n",
    "plt.legend()\n",
    "# plot accuracy during training\n",
    "plt.subplot(212)\n",
    "plt.title('Accuracy')\n",
    "plt.plot(vgg_no_train_history.history['accuracy'], label='train')\n",
    "plt.plot(vgg_no_train_history.history['val_accuracy'], label='test')\n",
    "plt.legend()\n",
    "plt.show()\n",
    "# plot loss during training\n",
    "plt.subplot(211)\n",
    "plt.title('Loss')\n",
    "plt.plot(vgg_history.history['loss'], label='train')\n",
    "plt.plot(vgg_history.history['val_loss'], label='test')\n",
    "plt.legend()\n",
    "# plot accuracy during training\n",
    "plt.subplot(212)\n",
    "plt.title('Accuracy')\n",
    "plt.plot(vgg_history.history['accuracy'], label='train')\n",
    "plt.plot(vgg_history.history['val_accuracy'], label='test')\n",
    "plt.legend()\n",
    "plt.show()"
   ]
  },
  {
   "cell_type": "code",
   "execution_count": null,
   "metadata": {},
   "outputs": [],
   "source": []
  }
 ],
 "metadata": {
  "kernelspec": {
   "display_name": "Python 3",
   "language": "python",
   "name": "python3"
  },
  "language_info": {
   "codemirror_mode": {
    "name": "ipython",
    "version": 3
   },
   "file_extension": ".py",
   "mimetype": "text/x-python",
   "name": "python",
   "nbconvert_exporter": "python",
   "pygments_lexer": "ipython3",
   "version": "3.7.10"
  }
 },
 "nbformat": 4,
 "nbformat_minor": 4
}