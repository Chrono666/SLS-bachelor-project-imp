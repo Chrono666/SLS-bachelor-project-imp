{
 "cells": [
  {
   "cell_type": "markdown",
   "source": [
    "# Jupyter Notebook to train a model"
   ],
   "metadata": {
    "collapsed": false
   }
  },
  {
   "cell_type": "code",
   "execution_count": 1,
   "outputs": [
    {
     "name": "stderr",
     "output_type": "stream",
     "text": [
      "2021-12-22 16:58:29.962657: I tensorflow/stream_executor/platform/default/dso_loader.cc:49] Successfully opened dynamic library libcudart.so.10.1\n"
     ]
    }
   ],
   "source": [
    "import tensorflow as tf\n",
    "from tensorflow import keras\n",
    "import numpy as np\n",
    "from tf_explain.callbacks.grad_cam import GradCAMCallback\n",
    "\n",
    "# use random seed to reproduce results\n",
    "np.random.seed(42)\n",
    "tf.random.set_seed(42)\n",
    "\n",
    "import matplotlib as mpl\n",
    "import matplotlib.pyplot as plt\n",
    "import os\n",
    "\n",
    "mpl.rc('axes', labelsize=14)\n",
    "mpl.rc('xtick', labelsize=12)\n",
    "mpl.rc('ytick', labelsize=12)\n",
    "\n",
    "PROJECT_ROOT_DIR = \".\"\n",
    "CHAPTER_ID = \"cnn_metrics\"\n",
    "IMAGES_PATH = os.path.join(PROJECT_ROOT_DIR, \"images\", CHAPTER_ID)\n",
    "os.makedirs(IMAGES_PATH, exist_ok=True)\n",
    "\n",
    "\n",
    "def save_fig(fig_id, tight_layout=True, fig_extension=\"png\", resolution=300):\n",
    "    path = os.path.join(IMAGES_PATH, fig_id + \".\" + fig_extension)\n",
    "    print(\"Saving figure\", fig_id)\n",
    "    if tight_layout:\n",
    "        plt.tight_layout()\n",
    "    plt.savefig(path, format=fig_extension, dpi=resolution)"
   ],
   "metadata": {
    "collapsed": false,
    "pycharm": {
     "name": "#%%\n"
    }
   }
  },
  {
   "cell_type": "markdown",
   "source": [
    "### lists possible devices (CPU, GPU), used to check if GPU is recognized/exists"
   ],
   "metadata": {
    "collapsed": false
   }
  },
  {
   "cell_type": "code",
   "execution_count": 2,
   "outputs": [
    {
     "name": "stderr",
     "output_type": "stream",
     "text": [
      "2021-12-22 16:58:31.737660: I tensorflow/compiler/jit/xla_cpu_device.cc:41] Not creating XLA devices, tf_xla_enable_xla_devices not set\n"
     ]
    },
    {
     "data": {
      "text/plain": "[PhysicalDevice(name='/physical_device:CPU:0', device_type='CPU'),\n PhysicalDevice(name='/physical_device:GPU:0', device_type='GPU')]"
     },
     "execution_count": 2,
     "metadata": {},
     "output_type": "execute_result"
    },
    {
     "name": "stderr",
     "output_type": "stream",
     "text": [
      "2021-12-22 16:58:31.738493: I tensorflow/stream_executor/platform/default/dso_loader.cc:49] Successfully opened dynamic library libcuda.so.1\n",
      "2021-12-22 16:58:31.795048: I tensorflow/stream_executor/cuda/cuda_gpu_executor.cc:941] successful NUMA node read from SysFS had negative value (-1), but there must be at least one NUMA node, so returning NUMA node zero\n",
      "2021-12-22 16:58:31.795189: I tensorflow/core/common_runtime/gpu/gpu_device.cc:1720] Found device 0 with properties: \n",
      "pciBusID: 0000:01:00.0 name: NVIDIA GeForce GTX 1080 computeCapability: 6.1\n",
      "coreClock: 1.8225GHz coreCount: 20 deviceMemorySize: 7.93GiB deviceMemoryBandwidth: 298.32GiB/s\n",
      "2021-12-22 16:58:31.795206: I tensorflow/stream_executor/platform/default/dso_loader.cc:49] Successfully opened dynamic library libcudart.so.10.1\n",
      "2021-12-22 16:58:31.796433: I tensorflow/stream_executor/platform/default/dso_loader.cc:49] Successfully opened dynamic library libcublas.so.10\n",
      "2021-12-22 16:58:31.796477: I tensorflow/stream_executor/platform/default/dso_loader.cc:49] Successfully opened dynamic library libcublasLt.so.10\n",
      "2021-12-22 16:58:31.797632: I tensorflow/stream_executor/platform/default/dso_loader.cc:49] Successfully opened dynamic library libcufft.so.10\n",
      "2021-12-22 16:58:31.797826: I tensorflow/stream_executor/platform/default/dso_loader.cc:49] Successfully opened dynamic library libcurand.so.10\n",
      "2021-12-22 16:58:31.799101: I tensorflow/stream_executor/platform/default/dso_loader.cc:49] Successfully opened dynamic library libcusolver.so.10\n",
      "2021-12-22 16:58:31.799798: I tensorflow/stream_executor/platform/default/dso_loader.cc:49] Successfully opened dynamic library libcusparse.so.10\n",
      "2021-12-22 16:58:31.802536: I tensorflow/stream_executor/platform/default/dso_loader.cc:49] Successfully opened dynamic library libcudnn.so.7\n",
      "2021-12-22 16:58:31.802661: I tensorflow/stream_executor/cuda/cuda_gpu_executor.cc:941] successful NUMA node read from SysFS had negative value (-1), but there must be at least one NUMA node, so returning NUMA node zero\n",
      "2021-12-22 16:58:31.802853: I tensorflow/stream_executor/cuda/cuda_gpu_executor.cc:941] successful NUMA node read from SysFS had negative value (-1), but there must be at least one NUMA node, so returning NUMA node zero\n",
      "2021-12-22 16:58:31.802970: I tensorflow/core/common_runtime/gpu/gpu_device.cc:1862] Adding visible gpu devices: 0\n"
     ]
    }
   ],
   "source": [
    "tf.config.get_visible_devices()"
   ],
   "metadata": {
    "collapsed": false,
    "pycharm": {
     "name": "#%%\n"
    }
   }
  },
  {
   "cell_type": "markdown",
   "source": [
    "## Methods"
   ],
   "metadata": {
    "collapsed": false
   }
  },
  {
   "cell_type": "markdown",
   "source": [
    "### used to save a trained model as a json file and its weights as a h5 file"
   ],
   "metadata": {
    "collapsed": false
   }
  },
  {
   "cell_type": "code",
   "execution_count": 3,
   "outputs": [],
   "source": [
    "def save_model(model, model_name, path):\n",
    "    my_model = model.to_json()\n",
    "    with open(f'./{path}/{model_name}.json', \"w\") as file:\n",
    "        file.write(my_model)\n",
    "    # serialize weights to HDF5\n",
    "    model.save_weights(f'./{path}/{model_name}_weights.h5')"
   ],
   "metadata": {
    "collapsed": false,
    "pycharm": {
     "name": "#%%\n"
    }
   }
  },
  {
   "cell_type": "markdown",
   "source": [
    "### used to build the base model using predefined architectures\n",
    "currently: vgg16, xception, resnet"
   ],
   "metadata": {
    "collapsed": false,
    "pycharm": {
     "name": "#%% md\n"
    }
   }
  },
  {
   "cell_type": "code",
   "execution_count": 4,
   "outputs": [],
   "source": [
    "def build_base_model(architecture, weights):\n",
    "    input = tf.keras.Input(shape=(224, 224, 3))\n",
    "    if architecture == 'vgg16':\n",
    "        return tf.keras.applications.vgg16.VGG16(weights=weights, include_top=False, input_tensor=input)\n",
    "    if architecture == 'xception':\n",
    "        return tf.keras.applications.xception.Xception(weights=weights, include_top=False, input_tensor=input)\n",
    "    if architecture == 'resnet':\n",
    "        return tf.keras.applications.resnet.ResNet50(weights=weights, include_top=False, input_tensor=input)"
   ],
   "metadata": {
    "collapsed": false,
    "pycharm": {
     "name": "#%%\n"
    }
   }
  },
  {
   "cell_type": "markdown",
   "source": [
    "### gets base model as input and builds a new top layer and returns the model with custom top layers"
   ],
   "metadata": {
    "collapsed": false
   }
  },
  {
   "cell_type": "code",
   "execution_count": 5,
   "outputs": [],
   "source": [
    "def build_model(base_model):\n",
    "    flat = keras.layers.Flatten(name='flatten')(base_model.output)\n",
    "    dense_1 = keras.layers.Dense(1400)(flat)\n",
    "    dropout = keras.layers.Dropout(0.25)(dense_1)\n",
    "    batch = keras.layers.BatchNormalization()(dropout)\n",
    "    output = keras.layers.Dense(1, activation='sigmoid')(batch)\n",
    "    return tf.keras.Model(base_model.input, output)"
   ],
   "metadata": {
    "collapsed": false,
    "pycharm": {
     "name": "#%%\n"
    }
   }
  },
  {
   "cell_type": "markdown",
   "source": [
    "### gets a model as input and returns a model compiled with the adam optimizer"
   ],
   "metadata": {
    "collapsed": false
   }
  },
  {
   "cell_type": "code",
   "execution_count": 6,
   "outputs": [],
   "source": [
    "def compile_model(model, alpha, beta1, beta2, metrics):\n",
    "    optimizer = keras.optimizers.Adam(learning_rate=alpha, beta_1=beta1, beta_2=beta2)\n",
    "    model.compile(loss=\"binary_crossentropy\", optimizer=optimizer, metrics=metrics)\n",
    "    return model"
   ],
   "metadata": {
    "collapsed": false,
    "pycharm": {
     "name": "#%%\n"
    }
   }
  },
  {
   "cell_type": "markdown",
   "source": [
    "### gets a model as input and trains it on the data-set with the defined callbacks and epochs"
   ],
   "metadata": {
    "collapsed": false
   }
  },
  {
   "cell_type": "code",
   "execution_count": 7,
   "outputs": [],
   "source": [
    "def train_model(model, train_set, validation_set, epochs, callback):\n",
    "    return model.fit(train_set,\n",
    "                     validation_data=validation_set,\n",
    "                     epochs=epochs,\n",
    "                     callbacks=callback)"
   ],
   "metadata": {
    "collapsed": false,
    "pycharm": {
     "name": "#%%\n"
    }
   }
  },
  {
   "cell_type": "markdown",
   "source": [
    "### gets a model as input and changes its layers trainable attribute"
   ],
   "metadata": {
    "collapsed": false
   }
  },
  {
   "cell_type": "code",
   "execution_count": 8,
   "outputs": [],
   "source": [
    "def set_layers_trainable(trainable, input_model):\n",
    "    for layer in input_model.layers:\n",
    "        layer.trainable = trainable"
   ],
   "metadata": {
    "collapsed": false,
    "pycharm": {
     "name": "#%%\n"
    }
   }
  },
  {
   "cell_type": "markdown",
   "source": [
    "## Data preprocessing"
   ],
   "metadata": {
    "collapsed": false
   }
  },
  {
   "cell_type": "markdown",
   "source": [
    "preprocessing of the images applied when loading image data set from disk with tensorflows flow_from_directory\n"
   ],
   "metadata": {
    "collapsed": false
   }
  },
  {
   "cell_type": "code",
   "execution_count": 9,
   "outputs": [],
   "source": [
    "image_gen = keras.preprocessing.image.ImageDataGenerator(rotation_range=20,  # rotate the image 20 degrees\n",
    "                                                         width_shift_range=0.2,\n",
    "                                                         height_shift_range=0.2,\n",
    "                                                         rescale=1 / 255,  # Rescale the image by normalzing it.\n",
    "                                                         shear_range=0.15,\n",
    "                                                         # Shear means cutting away part of the image (max 20%)\n",
    "                                                         zoom_range=0.15,  # Zoom in by 15% max\n",
    "                                                         horizontal_flip=True,  # Allow horizontal flipping\n",
    "                                                         fill_mode='nearest'\n",
    "                                                         # Fill in missing pixels with the nearest filled value\n",
    "                                                         )\n",
    "t_image_gen = keras.preprocessing.image.ImageDataGenerator()"
   ],
   "metadata": {
    "collapsed": false,
    "pycharm": {
     "name": "#%%\n"
    }
   }
  },
  {
   "cell_type": "markdown",
   "source": [
    "path to the data set"
   ],
   "metadata": {
    "collapsed": false
   }
  },
  {
   "cell_type": "code",
   "execution_count": 24,
   "outputs": [],
   "source": [
    "train_data_path = './data/data_full/train'  #local notebook\n",
    "validation_data_path = './data/data_full/val'  #local notebook\n",
    "test_data_path = './data/data_full/test'  #local notebook\n",
    "# train_data_path = './data/data_heavily_reduced/data_balanced/train'  #local notebook\n",
    "# validation_data_path = './data/data_heavily_reduced/data_balanced/val'  #local notebook\n",
    "# test_data_path = './data/data_heavily_reduced/data_balanced/test'  #local notebook"
   ],
   "metadata": {
    "collapsed": false,
    "pycharm": {
     "name": "#%%\n"
    }
   }
  },
  {
   "cell_type": "markdown",
   "source": [
    "generate training set by loading the images from their directories with flow_from_directory\n",
    "important: the folder structure has to match! i.e {train} -> {ok,def}\n",
    "at the \"same time\" the data augmentation is applied on the images through the ImageDataGenerator"
   ],
   "metadata": {
    "collapsed": false
   }
  },
  {
   "cell_type": "code",
   "execution_count": 25,
   "outputs": [
    {
     "name": "stdout",
     "output_type": "stream",
     "text": [
      "Found 7999 images belonging to 2 classes.\n"
     ]
    }
   ],
   "source": [
    "# set for xception\n",
    "# batch_size = 24\n",
    "train_image_gen = image_gen.flow_from_directory(train_data_path,\n",
    "                                                target_size=(224, 224),\n",
    "                                                class_mode='binary')"
   ],
   "metadata": {
    "collapsed": false,
    "pycharm": {
     "name": "#%%\n"
    }
   }
  },
  {
   "cell_type": "code",
   "execution_count": 26,
   "outputs": [
    {
     "name": "stdout",
     "output_type": "stream",
     "text": [
      "Found 999 images belonging to 2 classes.\n"
     ]
    }
   ],
   "source": [
    "valid_image_gen = t_image_gen.flow_from_directory(validation_data_path,\n",
    "                                                target_size=(224, 224),\n",
    "                                                class_mode='binary')"
   ],
   "metadata": {
    "collapsed": false,
    "pycharm": {
     "name": "#%%\n"
    }
   }
  },
  {
   "cell_type": "code",
   "execution_count": 27,
   "outputs": [
    {
     "name": "stdout",
     "output_type": "stream",
     "text": [
      "Found 1001 images belonging to 2 classes.\n"
     ]
    }
   ],
   "source": [
    "test_image_gen = t_image_gen.flow_from_directory(test_data_path,\n",
    "                                               target_size=(224, 224),\n",
    "                                               class_mode='binary')"
   ],
   "metadata": {
    "collapsed": false,
    "pycharm": {
     "name": "#%%\n"
    }
   }
  },
  {
   "cell_type": "markdown",
   "source": [
    "# Training of the model"
   ],
   "metadata": {
    "collapsed": false
   }
  },
  {
   "cell_type": "code",
   "execution_count": 36,
   "outputs": [
    {
     "name": "stdout",
     "output_type": "stream",
     "text": [
      "Epoch 1/5\n"
     ]
    },
    {
     "name": "stderr",
     "output_type": "stream",
     "text": [
      "2021-12-22 17:08:52.112276: W tensorflow/core/common_runtime/bfc_allocator.cc:248] Allocator (GPU_0_bfc) ran out of memory trying to allocate 3.04GiB with freed_by_count=0. The caller indicates that this is not a failure, but may mean that there could be performance gains if more memory were available.\n"
     ]
    },
    {
     "name": "stdout",
     "output_type": "stream",
     "text": [
      "152/250 [=================>............] - ETA: 34s - loss: 0.3998 - accuracy: 0.8398 - recall: 0.8567 - precision: 0.8278 - auc: 0.9167"
     ]
    },
    {
     "name": "stderr",
     "output_type": "stream",
     "text": [
      "2021-12-22 17:09:58.317192: W tensorflow/core/common_runtime/bfc_allocator.cc:248] Allocator (GPU_0_bfc) ran out of memory trying to allocate 3.01GiB with freed_by_count=0. The caller indicates that this is not a failure, but may mean that there could be performance gains if more memory were available.\n"
     ]
    },
    {
     "name": "stdout",
     "output_type": "stream",
     "text": [
      "250/250 [==============================] - 122s 455ms/step - loss: 0.3432 - accuracy: 0.8640 - recall: 0.8814 - precision: 0.8514 - auc: 0.9354 - val_loss: 0.1187 - val_accuracy: 0.9439 - val_recall: 0.9479 - val_precision: 0.9404 - val_auc: 0.9914\n",
      "Epoch 2/5\n",
      "250/250 [==============================] - 97s 388ms/step - loss: 0.1284 - accuracy: 0.9500 - recall: 0.9577 - precision: 0.9432 - auc: 0.9888 - val_loss: 1.6419 - val_accuracy: 0.5786 - val_recall: 0.1583 - val_precision: 0.9875 - val_auc: 0.8814\n",
      "Epoch 3/5\n",
      "250/250 [==============================] - 96s 385ms/step - loss: 0.0905 - accuracy: 0.9645 - recall: 0.9715 - precision: 0.9585 - auc: 0.9942 - val_loss: 0.1039 - val_accuracy: 0.9520 - val_recall: 0.9158 - val_precision: 0.9870 - val_auc: 0.9971\n",
      "Epoch 4/5\n",
      "250/250 [==============================] - 96s 385ms/step - loss: 0.0712 - accuracy: 0.9735 - recall: 0.9786 - precision: 0.9682 - auc: 0.9968 - val_loss: 0.0582 - val_accuracy: 0.9810 - val_recall: 0.9800 - val_precision: 0.9819 - val_auc: 0.9986\n",
      "Epoch 5/5\n",
      "250/250 [==============================] - 97s 385ms/step - loss: 0.0636 - accuracy: 0.9729 - recall: 0.9733 - precision: 0.9720 - auc: 0.9972 - val_loss: 0.0261 - val_accuracy: 0.9890 - val_recall: 0.9820 - val_precision: 0.9959 - val_auc: 0.9998\n"
     ]
    },
    {
     "name": "stderr",
     "output_type": "stream",
     "text": [
      "2021-12-22 17:17:13.533318: I tensorflow/core/profiler/lib/profiler_session.cc:136] Profiler session initializing.\n",
      "2021-12-22 17:17:13.533339: I tensorflow/core/profiler/lib/profiler_session.cc:155] Profiler session started.\n",
      "2021-12-22 17:17:13.533372: I tensorflow/core/profiler/internal/gpu/cupti_tracer.cc:1365] Profiler found 1 GPUs\n",
      "2021-12-22 17:17:13.533889: I tensorflow/stream_executor/platform/default/dso_loader.cc:49] Successfully opened dynamic library libcupti.so.10.1\n",
      "2021-12-22 17:17:13.634368: E tensorflow/core/profiler/internal/gpu/cupti_tracer.cc:1415] function cupti_interface_->Subscribe( &subscriber_, (CUpti_CallbackFunc)ApiCallback, this)failed with error CUPTI_ERROR_INSUFFICIENT_PRIVILEGES\n",
      "2021-12-22 17:17:13.634813: I tensorflow/core/profiler/lib/profiler_session.cc:172] Profiler session tear down.\n"
     ]
    },
    {
     "name": "stdout",
     "output_type": "stream",
     "text": [
      "Epoch 1/100\n",
      "  1/250 [..............................] - ETA: 6:56 - loss: 0.0112 - accuracy: 1.0000 - recall: 1.0000 - precision: 1.0000 - auc: 1.0000"
     ]
    },
    {
     "name": "stderr",
     "output_type": "stream",
     "text": [
      "2021-12-22 17:17:15.673854: I tensorflow/core/profiler/lib/profiler_session.cc:136] Profiler session initializing.\n",
      "2021-12-22 17:17:15.673872: I tensorflow/core/profiler/lib/profiler_session.cc:155] Profiler session started.\n",
      "2021-12-22 17:17:15.674339: E tensorflow/core/profiler/internal/gpu/cupti_tracer.cc:1415] function cupti_interface_->Subscribe( &subscriber_, (CUpti_CallbackFunc)ApiCallback, this)failed with error CUPTI_ERROR_INSUFFICIENT_PRIVILEGES\n"
     ]
    },
    {
     "name": "stdout",
     "output_type": "stream",
     "text": [
      "  2/250 [..............................] - ETA: 1:47 - loss: 0.0640 - accuracy: 0.9922 - recall: 1.0000 - precision: 0.9833 - auc: 0.9916"
     ]
    },
    {
     "name": "stderr",
     "output_type": "stream",
     "text": [
      "2021-12-22 17:17:16.037439: I tensorflow/core/profiler/lib/profiler_session.cc:71] Profiler session collecting data.\n",
      "2021-12-22 17:17:16.040195: I tensorflow/core/profiler/internal/gpu/cupti_collector.cc:228]  GpuTracer has collected 0 callback api events and 0 activity events. \n",
      "2021-12-22 17:17:16.041348: I tensorflow/core/profiler/lib/profiler_session.cc:172] Profiler session tear down.\n",
      "2021-12-22 17:17:16.047954: I tensorflow/core/profiler/rpc/client/save_profile.cc:137] Creating directory: ./logs/train/plugins/profile/2021_12_22_17_17_16\n",
      "2021-12-22 17:17:16.048712: I tensorflow/core/profiler/rpc/client/save_profile.cc:143] Dumped gzipped tool data for trace.json.gz to ./logs/train/plugins/profile/2021_12_22_17_17_16/pop-os.trace.json.gz\n",
      "2021-12-22 17:17:16.063858: I tensorflow/core/profiler/rpc/client/save_profile.cc:137] Creating directory: ./logs/train/plugins/profile/2021_12_22_17_17_16\n",
      "2021-12-22 17:17:16.066571: I tensorflow/core/profiler/rpc/client/save_profile.cc:143] Dumped gzipped tool data for memory_profile.json.gz to ./logs/train/plugins/profile/2021_12_22_17_17_16/pop-os.memory_profile.json.gz\n",
      "2021-12-22 17:17:16.066771: I tensorflow/core/profiler/rpc/client/capture_profile.cc:251] Creating directory: ./logs/train/plugins/profile/2021_12_22_17_17_16Dumped tool data for xplane.pb to ./logs/train/plugins/profile/2021_12_22_17_17_16/pop-os.xplane.pb\n",
      "Dumped tool data for overview_page.pb to ./logs/train/plugins/profile/2021_12_22_17_17_16/pop-os.overview_page.pb\n",
      "Dumped tool data for input_pipeline.pb to ./logs/train/plugins/profile/2021_12_22_17_17_16/pop-os.input_pipeline.pb\n",
      "Dumped tool data for tensorflow_stats.pb to ./logs/train/plugins/profile/2021_12_22_17_17_16/pop-os.tensorflow_stats.pb\n",
      "Dumped tool data for kernel_stats.pb to ./logs/train/plugins/profile/2021_12_22_17_17_16/pop-os.kernel_stats.pb\n",
      "\n"
     ]
    },
    {
     "name": "stdout",
     "output_type": "stream",
     "text": [
      "250/250 [==============================] - 98s 389ms/step - loss: 0.0899 - accuracy: 0.9698 - recall: 0.9750 - precision: 0.9655 - auc: 0.9937 - val_loss: 0.0727 - val_accuracy: 0.9680 - val_recall: 0.9399 - val_precision: 0.9958 - val_auc: 0.9991\n",
      "Epoch 2/100\n",
      "250/250 [==============================] - 96s 385ms/step - loss: 0.0541 - accuracy: 0.9794 - recall: 0.9802 - precision: 0.9789 - auc: 0.9977 - val_loss: 0.0216 - val_accuracy: 0.9930 - val_recall: 0.9960 - val_precision: 0.9900 - val_auc: 0.9997\n",
      "Epoch 3/100\n",
      "250/250 [==============================] - 97s 388ms/step - loss: 0.0523 - accuracy: 0.9838 - recall: 0.9868 - precision: 0.9815 - auc: 0.9974 - val_loss: 0.0428 - val_accuracy: 0.9860 - val_recall: 0.9980 - val_precision: 0.9746 - val_auc: 0.9994\n",
      "Epoch 4/100\n",
      " 53/250 [=====>........................] - ETA: 1:11 - loss: 0.0522 - accuracy: 0.9845 - recall: 0.9812 - precision: 0.9879 - auc: 0.9972"
     ]
    },
    {
     "ename": "KeyboardInterrupt",
     "evalue": "",
     "output_type": "error",
     "traceback": [
      "\u001B[0;31m---------------------------------------------------------------------------\u001B[0m",
      "\u001B[0;31mKeyboardInterrupt\u001B[0m                         Traceback (most recent call last)",
      "\u001B[0;32m/tmp/ipykernel_151827/1534488284.py\u001B[0m in \u001B[0;36m<module>\u001B[0;34m\u001B[0m\n\u001B[1;32m     10\u001B[0m \u001B[0mcustom_early_stopping\u001B[0m \u001B[0;34m=\u001B[0m \u001B[0mkeras\u001B[0m\u001B[0;34m.\u001B[0m\u001B[0mcallbacks\u001B[0m\u001B[0;34m.\u001B[0m\u001B[0mEarlyStopping\u001B[0m\u001B[0;34m(\u001B[0m\u001B[0mmonitor\u001B[0m\u001B[0;34m=\u001B[0m\u001B[0;34m'val_loss'\u001B[0m\u001B[0;34m,\u001B[0m \u001B[0mpatience\u001B[0m\u001B[0;34m=\u001B[0m\u001B[0;36m20\u001B[0m\u001B[0;34m)\u001B[0m\u001B[0;34m\u001B[0m\u001B[0;34m\u001B[0m\u001B[0m\n\u001B[1;32m     11\u001B[0m \u001B[0mvgg16_model\u001B[0m \u001B[0;34m=\u001B[0m \u001B[0mcompile_model\u001B[0m\u001B[0;34m(\u001B[0m\u001B[0mvgg16_model\u001B[0m\u001B[0;34m,\u001B[0m \u001B[0;36m0.0001\u001B[0m\u001B[0;34m,\u001B[0m \u001B[0;36m0.9\u001B[0m\u001B[0;34m,\u001B[0m \u001B[0;36m0.999\u001B[0m\u001B[0;34m,\u001B[0m \u001B[0;34m[\u001B[0m\u001B[0;34m'accuracy'\u001B[0m\u001B[0;34m,\u001B[0m \u001B[0;34m'Recall'\u001B[0m\u001B[0;34m,\u001B[0m \u001B[0;34m'Precision'\u001B[0m\u001B[0;34m,\u001B[0m \u001B[0;34m'AUC'\u001B[0m\u001B[0;34m]\u001B[0m\u001B[0;34m)\u001B[0m\u001B[0;34m\u001B[0m\u001B[0;34m\u001B[0m\u001B[0m\n\u001B[0;32m---> 12\u001B[0;31m history = train_model(vgg16_model, train_image_gen, valid_image_gen, 100,\n\u001B[0m\u001B[1;32m     13\u001B[0m                       [custom_early_stopping, tensorboard_callback])\n\u001B[1;32m     14\u001B[0m \u001B[0mloss\u001B[0m\u001B[0;34m,\u001B[0m \u001B[0maccuracy\u001B[0m\u001B[0;34m,\u001B[0m \u001B[0mrecall\u001B[0m\u001B[0;34m,\u001B[0m \u001B[0mprecision\u001B[0m\u001B[0;34m,\u001B[0m \u001B[0mauc\u001B[0m \u001B[0;34m=\u001B[0m \u001B[0mvgg16_model\u001B[0m\u001B[0;34m.\u001B[0m\u001B[0mevaluate\u001B[0m\u001B[0;34m(\u001B[0m\u001B[0mtest_image_gen\u001B[0m\u001B[0;34m)\u001B[0m\u001B[0;34m\u001B[0m\u001B[0;34m\u001B[0m\u001B[0m\n",
      "\u001B[0;32m/tmp/ipykernel_151827/663974549.py\u001B[0m in \u001B[0;36mtrain_model\u001B[0;34m(model, train_set, validation_set, epochs, callback)\u001B[0m\n\u001B[1;32m      1\u001B[0m \u001B[0;32mdef\u001B[0m \u001B[0mtrain_model\u001B[0m\u001B[0;34m(\u001B[0m\u001B[0mmodel\u001B[0m\u001B[0;34m,\u001B[0m \u001B[0mtrain_set\u001B[0m\u001B[0;34m,\u001B[0m \u001B[0mvalidation_set\u001B[0m\u001B[0;34m,\u001B[0m \u001B[0mepochs\u001B[0m\u001B[0;34m,\u001B[0m \u001B[0mcallback\u001B[0m\u001B[0;34m)\u001B[0m\u001B[0;34m:\u001B[0m\u001B[0;34m\u001B[0m\u001B[0;34m\u001B[0m\u001B[0m\n\u001B[0;32m----> 2\u001B[0;31m     return model.fit(train_set,\n\u001B[0m\u001B[1;32m      3\u001B[0m                      \u001B[0mvalidation_data\u001B[0m\u001B[0;34m=\u001B[0m\u001B[0mvalidation_set\u001B[0m\u001B[0;34m,\u001B[0m\u001B[0;34m\u001B[0m\u001B[0;34m\u001B[0m\u001B[0m\n\u001B[1;32m      4\u001B[0m                      \u001B[0mepochs\u001B[0m\u001B[0;34m=\u001B[0m\u001B[0mepochs\u001B[0m\u001B[0;34m,\u001B[0m\u001B[0;34m\u001B[0m\u001B[0;34m\u001B[0m\u001B[0m\n\u001B[1;32m      5\u001B[0m                      callbacks=callback)\n",
      "\u001B[0;32m~/anaconda3/envs/sls/lib/python3.9/site-packages/tensorflow/python/keras/engine/training.py\u001B[0m in \u001B[0;36mfit\u001B[0;34m(self, x, y, batch_size, epochs, verbose, callbacks, validation_split, validation_data, shuffle, class_weight, sample_weight, initial_epoch, steps_per_epoch, validation_steps, validation_batch_size, validation_freq, max_queue_size, workers, use_multiprocessing)\u001B[0m\n\u001B[1;32m   1098\u001B[0m                 _r=1):\n\u001B[1;32m   1099\u001B[0m               \u001B[0mcallbacks\u001B[0m\u001B[0;34m.\u001B[0m\u001B[0mon_train_batch_begin\u001B[0m\u001B[0;34m(\u001B[0m\u001B[0mstep\u001B[0m\u001B[0;34m)\u001B[0m\u001B[0;34m\u001B[0m\u001B[0;34m\u001B[0m\u001B[0m\n\u001B[0;32m-> 1100\u001B[0;31m               \u001B[0mtmp_logs\u001B[0m \u001B[0;34m=\u001B[0m \u001B[0mself\u001B[0m\u001B[0;34m.\u001B[0m\u001B[0mtrain_function\u001B[0m\u001B[0;34m(\u001B[0m\u001B[0miterator\u001B[0m\u001B[0;34m)\u001B[0m\u001B[0;34m\u001B[0m\u001B[0;34m\u001B[0m\u001B[0m\n\u001B[0m\u001B[1;32m   1101\u001B[0m               \u001B[0;32mif\u001B[0m \u001B[0mdata_handler\u001B[0m\u001B[0;34m.\u001B[0m\u001B[0mshould_sync\u001B[0m\u001B[0;34m:\u001B[0m\u001B[0;34m\u001B[0m\u001B[0;34m\u001B[0m\u001B[0m\n\u001B[1;32m   1102\u001B[0m                 \u001B[0mcontext\u001B[0m\u001B[0;34m.\u001B[0m\u001B[0masync_wait\u001B[0m\u001B[0;34m(\u001B[0m\u001B[0;34m)\u001B[0m\u001B[0;34m\u001B[0m\u001B[0;34m\u001B[0m\u001B[0m\n",
      "\u001B[0;32m~/anaconda3/envs/sls/lib/python3.9/site-packages/tensorflow/python/eager/def_function.py\u001B[0m in \u001B[0;36m__call__\u001B[0;34m(self, *args, **kwds)\u001B[0m\n\u001B[1;32m    826\u001B[0m     \u001B[0mtracing_count\u001B[0m \u001B[0;34m=\u001B[0m \u001B[0mself\u001B[0m\u001B[0;34m.\u001B[0m\u001B[0mexperimental_get_tracing_count\u001B[0m\u001B[0;34m(\u001B[0m\u001B[0;34m)\u001B[0m\u001B[0;34m\u001B[0m\u001B[0;34m\u001B[0m\u001B[0m\n\u001B[1;32m    827\u001B[0m     \u001B[0;32mwith\u001B[0m \u001B[0mtrace\u001B[0m\u001B[0;34m.\u001B[0m\u001B[0mTrace\u001B[0m\u001B[0;34m(\u001B[0m\u001B[0mself\u001B[0m\u001B[0;34m.\u001B[0m\u001B[0m_name\u001B[0m\u001B[0;34m)\u001B[0m \u001B[0;32mas\u001B[0m \u001B[0mtm\u001B[0m\u001B[0;34m:\u001B[0m\u001B[0;34m\u001B[0m\u001B[0;34m\u001B[0m\u001B[0m\n\u001B[0;32m--> 828\u001B[0;31m       \u001B[0mresult\u001B[0m \u001B[0;34m=\u001B[0m \u001B[0mself\u001B[0m\u001B[0;34m.\u001B[0m\u001B[0m_call\u001B[0m\u001B[0;34m(\u001B[0m\u001B[0;34m*\u001B[0m\u001B[0margs\u001B[0m\u001B[0;34m,\u001B[0m \u001B[0;34m**\u001B[0m\u001B[0mkwds\u001B[0m\u001B[0;34m)\u001B[0m\u001B[0;34m\u001B[0m\u001B[0;34m\u001B[0m\u001B[0m\n\u001B[0m\u001B[1;32m    829\u001B[0m       \u001B[0mcompiler\u001B[0m \u001B[0;34m=\u001B[0m \u001B[0;34m\"xla\"\u001B[0m \u001B[0;32mif\u001B[0m \u001B[0mself\u001B[0m\u001B[0;34m.\u001B[0m\u001B[0m_experimental_compile\u001B[0m \u001B[0;32melse\u001B[0m \u001B[0;34m\"nonXla\"\u001B[0m\u001B[0;34m\u001B[0m\u001B[0;34m\u001B[0m\u001B[0m\n\u001B[1;32m    830\u001B[0m       \u001B[0mnew_tracing_count\u001B[0m \u001B[0;34m=\u001B[0m \u001B[0mself\u001B[0m\u001B[0;34m.\u001B[0m\u001B[0mexperimental_get_tracing_count\u001B[0m\u001B[0;34m(\u001B[0m\u001B[0;34m)\u001B[0m\u001B[0;34m\u001B[0m\u001B[0;34m\u001B[0m\u001B[0m\n",
      "\u001B[0;32m~/anaconda3/envs/sls/lib/python3.9/site-packages/tensorflow/python/eager/def_function.py\u001B[0m in \u001B[0;36m_call\u001B[0;34m(self, *args, **kwds)\u001B[0m\n\u001B[1;32m    853\u001B[0m       \u001B[0;31m# In this case we have created variables on the first call, so we run the\u001B[0m\u001B[0;34m\u001B[0m\u001B[0;34m\u001B[0m\u001B[0m\n\u001B[1;32m    854\u001B[0m       \u001B[0;31m# defunned version which is guaranteed to never create variables.\u001B[0m\u001B[0;34m\u001B[0m\u001B[0;34m\u001B[0m\u001B[0m\n\u001B[0;32m--> 855\u001B[0;31m       \u001B[0;32mreturn\u001B[0m \u001B[0mself\u001B[0m\u001B[0;34m.\u001B[0m\u001B[0m_stateless_fn\u001B[0m\u001B[0;34m(\u001B[0m\u001B[0;34m*\u001B[0m\u001B[0margs\u001B[0m\u001B[0;34m,\u001B[0m \u001B[0;34m**\u001B[0m\u001B[0mkwds\u001B[0m\u001B[0;34m)\u001B[0m  \u001B[0;31m# pylint: disable=not-callable\u001B[0m\u001B[0;34m\u001B[0m\u001B[0;34m\u001B[0m\u001B[0m\n\u001B[0m\u001B[1;32m    856\u001B[0m     \u001B[0;32melif\u001B[0m \u001B[0mself\u001B[0m\u001B[0;34m.\u001B[0m\u001B[0m_stateful_fn\u001B[0m \u001B[0;32mis\u001B[0m \u001B[0;32mnot\u001B[0m \u001B[0;32mNone\u001B[0m\u001B[0;34m:\u001B[0m\u001B[0;34m\u001B[0m\u001B[0;34m\u001B[0m\u001B[0m\n\u001B[1;32m    857\u001B[0m       \u001B[0;31m# Release the lock early so that multiple threads can perform the call\u001B[0m\u001B[0;34m\u001B[0m\u001B[0;34m\u001B[0m\u001B[0m\n",
      "\u001B[0;32m~/anaconda3/envs/sls/lib/python3.9/site-packages/tensorflow/python/eager/function.py\u001B[0m in \u001B[0;36m__call__\u001B[0;34m(self, *args, **kwargs)\u001B[0m\n\u001B[1;32m   2940\u001B[0m       (graph_function,\n\u001B[1;32m   2941\u001B[0m        filtered_flat_args) = self._maybe_define_function(args, kwargs)\n\u001B[0;32m-> 2942\u001B[0;31m     return graph_function._call_flat(\n\u001B[0m\u001B[1;32m   2943\u001B[0m         filtered_flat_args, captured_inputs=graph_function.captured_inputs)  # pylint: disable=protected-access\n\u001B[1;32m   2944\u001B[0m \u001B[0;34m\u001B[0m\u001B[0m\n",
      "\u001B[0;32m~/anaconda3/envs/sls/lib/python3.9/site-packages/tensorflow/python/eager/function.py\u001B[0m in \u001B[0;36m_call_flat\u001B[0;34m(self, args, captured_inputs, cancellation_manager)\u001B[0m\n\u001B[1;32m   1916\u001B[0m         and executing_eagerly):\n\u001B[1;32m   1917\u001B[0m       \u001B[0;31m# No tape is watching; skip to running the function.\u001B[0m\u001B[0;34m\u001B[0m\u001B[0;34m\u001B[0m\u001B[0m\n\u001B[0;32m-> 1918\u001B[0;31m       return self._build_call_outputs(self._inference_function.call(\n\u001B[0m\u001B[1;32m   1919\u001B[0m           ctx, args, cancellation_manager=cancellation_manager))\n\u001B[1;32m   1920\u001B[0m     forward_backward = self._select_forward_and_backward_functions(\n",
      "\u001B[0;32m~/anaconda3/envs/sls/lib/python3.9/site-packages/tensorflow/python/eager/function.py\u001B[0m in \u001B[0;36mcall\u001B[0;34m(self, ctx, args, cancellation_manager)\u001B[0m\n\u001B[1;32m    553\u001B[0m       \u001B[0;32mwith\u001B[0m \u001B[0m_InterpolateFunctionError\u001B[0m\u001B[0;34m(\u001B[0m\u001B[0mself\u001B[0m\u001B[0;34m)\u001B[0m\u001B[0;34m:\u001B[0m\u001B[0;34m\u001B[0m\u001B[0;34m\u001B[0m\u001B[0m\n\u001B[1;32m    554\u001B[0m         \u001B[0;32mif\u001B[0m \u001B[0mcancellation_manager\u001B[0m \u001B[0;32mis\u001B[0m \u001B[0;32mNone\u001B[0m\u001B[0;34m:\u001B[0m\u001B[0;34m\u001B[0m\u001B[0;34m\u001B[0m\u001B[0m\n\u001B[0;32m--> 555\u001B[0;31m           outputs = execute.execute(\n\u001B[0m\u001B[1;32m    556\u001B[0m               \u001B[0mstr\u001B[0m\u001B[0;34m(\u001B[0m\u001B[0mself\u001B[0m\u001B[0;34m.\u001B[0m\u001B[0msignature\u001B[0m\u001B[0;34m.\u001B[0m\u001B[0mname\u001B[0m\u001B[0;34m)\u001B[0m\u001B[0;34m,\u001B[0m\u001B[0;34m\u001B[0m\u001B[0;34m\u001B[0m\u001B[0m\n\u001B[1;32m    557\u001B[0m               \u001B[0mnum_outputs\u001B[0m\u001B[0;34m=\u001B[0m\u001B[0mself\u001B[0m\u001B[0;34m.\u001B[0m\u001B[0m_num_outputs\u001B[0m\u001B[0;34m,\u001B[0m\u001B[0;34m\u001B[0m\u001B[0;34m\u001B[0m\u001B[0m\n",
      "\u001B[0;32m~/anaconda3/envs/sls/lib/python3.9/site-packages/tensorflow/python/eager/execute.py\u001B[0m in \u001B[0;36mquick_execute\u001B[0;34m(op_name, num_outputs, inputs, attrs, ctx, name)\u001B[0m\n\u001B[1;32m     57\u001B[0m   \u001B[0;32mtry\u001B[0m\u001B[0;34m:\u001B[0m\u001B[0;34m\u001B[0m\u001B[0;34m\u001B[0m\u001B[0m\n\u001B[1;32m     58\u001B[0m     \u001B[0mctx\u001B[0m\u001B[0;34m.\u001B[0m\u001B[0mensure_initialized\u001B[0m\u001B[0;34m(\u001B[0m\u001B[0;34m)\u001B[0m\u001B[0;34m\u001B[0m\u001B[0;34m\u001B[0m\u001B[0m\n\u001B[0;32m---> 59\u001B[0;31m     tensors = pywrap_tfe.TFE_Py_Execute(ctx._handle, device_name, op_name,\n\u001B[0m\u001B[1;32m     60\u001B[0m                                         inputs, attrs, num_outputs)\n\u001B[1;32m     61\u001B[0m   \u001B[0;32mexcept\u001B[0m \u001B[0mcore\u001B[0m\u001B[0;34m.\u001B[0m\u001B[0m_NotOkStatusException\u001B[0m \u001B[0;32mas\u001B[0m \u001B[0me\u001B[0m\u001B[0;34m:\u001B[0m\u001B[0;34m\u001B[0m\u001B[0;34m\u001B[0m\u001B[0m\n",
      "\u001B[0;31mKeyboardInterrupt\u001B[0m: "
     ]
    }
   ],
   "source": [
    "vgg16 = build_base_model('vgg16', 'imagenet')\n",
    "vgg16_model = build_model(vgg16)\n",
    "vgg16_model = compile_model(vgg16_model, 0.0001, 0.9, 0.999, ['accuracy', 'Recall', 'Precision', 'AUC'])\n",
    "set_layers_trainable(False, vgg16)\n",
    "history = train_model(vgg16_model, train_image_gen, valid_image_gen, 5, [])\n",
    "set_layers_trainable(True, vgg16)\n",
    "save_model(vgg16_model, 'vgg16_first_train_step', 'saved_models/first_train_step/default_params/reduced_data')\n",
    "tensorboard_callback = tf.keras.callbacks.TensorBoard(log_dir=\"./logs\", histogram_freq=5, write_graph=True,\n",
    "                                                      write_images=True)\n",
    "custom_early_stopping = keras.callbacks.EarlyStopping(monitor='val_loss', patience=20)\n",
    "vgg16_model = compile_model(vgg16_model, 0.0001, 0.9, 0.999, ['accuracy', 'Recall', 'Precision', 'AUC'])\n",
    "history = train_model(vgg16_model, train_image_gen, valid_image_gen, 100,\n",
    "                      [custom_early_stopping, tensorboard_callback])\n",
    "loss, accuracy, recall, precision, auc = vgg16_model.evaluate(test_image_gen)\n",
    "# F1 score\n",
    "f1 = 2 * ((precision * recall) / (precision + recall))\n",
    "\n",
    "print(f\"loss: {loss}, \\n\"\n",
    "      f\"accuracy: {accuracy}, \\n\"\n",
    "      f\"recall: {recall}, \\n\"\n",
    "      f\"precision: {precision}, \\n\"\n",
    "      f\"auc: {auc}, \\n\"\n",
    "      f\"F1: {f1}\")\n",
    "save_model(vgg16_model, 'vgg16', 'saved_models/second_train_step/default_params/reduced_data')\n",
    "metrics = history.history\n",
    "plt.plot(history.epoch, metrics['loss'], metrics['val_loss'])\n",
    "plt.legend(['loss', 'val_loss'])\n",
    "save_fig('vgg16_loss', tight_layout=False)\n",
    "plt.show()\n",
    "plt.plot(history.epoch, metrics['accuracy'], metrics['val_accuracy'])\n",
    "plt.legend(['accuracy', 'val_accuracy'])\n",
    "save_fig('vgg16_accuracy', tight_layout=False)\n",
    "plt.show()\n",
    "plt.plot(history.epoch, metrics['recall'], metrics['val_recall'])\n",
    "plt.legend(['recall', 'val_recall'])\n",
    "save_fig('vgg16_recall', tight_layout=False)\n",
    "plt.show()\n",
    "plt.plot(history.epoch, metrics['precision'], metrics['val_precision'])\n",
    "plt.legend(['precision', 'val_precision'])\n",
    "save_fig('vgg16_precision', tight_layout=False)\n",
    "plt.show()\n",
    "plt.plot(history.epoch, metrics['auc'], metrics['val_auc'])\n",
    "plt.legend(['auc', 'val_auc'])\n",
    "save_fig('vgg16_auc', tight_layout=False)\n",
    "plt.show()"
   ],
   "metadata": {
    "collapsed": false,
    "pycharm": {
     "name": "#%%\n"
    }
   }
  },
  {
   "cell_type": "code",
   "execution_count": 15,
   "outputs": [
    {
     "name": "stdout",
     "output_type": "stream",
     "text": [
      "Epoch 1/5\n"
     ]
    },
    {
     "name": "stderr",
     "output_type": "stream",
     "text": [
      "2021-12-22 02:00:57.623813: W tensorflow/core/common_runtime/bfc_allocator.cc:248] Allocator (GPU_0_bfc) ran out of memory trying to allocate 2.30GiB with freed_by_count=0. The caller indicates that this is not a failure, but may mean that there could be performance gains if more memory were available.\n",
      "2021-12-22 02:00:57.903357: W tensorflow/core/common_runtime/bfc_allocator.cc:248] Allocator (GPU_0_bfc) ran out of memory trying to allocate 2.41GiB with freed_by_count=0. The caller indicates that this is not a failure, but may mean that there could be performance gains if more memory were available.\n",
      "2021-12-22 02:00:58.075041: W tensorflow/core/common_runtime/bfc_allocator.cc:248] Allocator (GPU_0_bfc) ran out of memory trying to allocate 2.28GiB with freed_by_count=0. The caller indicates that this is not a failure, but may mean that there could be performance gains if more memory were available.\n",
      "2021-12-22 02:00:58.284810: W tensorflow/core/common_runtime/bfc_allocator.cc:248] Allocator (GPU_0_bfc) ran out of memory trying to allocate 2.41GiB with freed_by_count=0. The caller indicates that this is not a failure, but may mean that there could be performance gains if more memory were available.\n",
      "2021-12-22 02:00:59.274894: W tensorflow/core/common_runtime/bfc_allocator.cc:248] Allocator (GPU_0_bfc) ran out of memory trying to allocate 2.30GiB with freed_by_count=0. The caller indicates that this is not a failure, but may mean that there could be performance gains if more memory were available.\n",
      "2021-12-22 02:00:59.484498: W tensorflow/core/common_runtime/bfc_allocator.cc:248] Allocator (GPU_0_bfc) ran out of memory trying to allocate 2.27GiB with freed_by_count=0. The caller indicates that this is not a failure, but may mean that there could be performance gains if more memory were available.\n"
     ]
    },
    {
     "name": "stdout",
     "output_type": "stream",
     "text": [
      "  37/1509 [..............................] - ETA: 7:45 - loss: 1.4441 - accuracy: 0.6622 - recall: 0.8035 - precision: 0.3006 - auc: 0.8027"
     ]
    },
    {
     "name": "stderr",
     "output_type": "stream",
     "text": [
      "2021-12-22 02:01:26.039932: W tensorflow/core/common_runtime/bfc_allocator.cc:248] Allocator (GPU_0_bfc) ran out of memory trying to allocate 2.29GiB with freed_by_count=0. The caller indicates that this is not a failure, but may mean that there could be performance gains if more memory were available.\n",
      "2021-12-22 02:01:26.325847: W tensorflow/core/common_runtime/bfc_allocator.cc:248] Allocator (GPU_0_bfc) ran out of memory trying to allocate 2.33GiB with freed_by_count=0. The caller indicates that this is not a failure, but may mean that there could be performance gains if more memory were available.\n",
      "2021-12-22 02:01:26.498202: W tensorflow/core/common_runtime/bfc_allocator.cc:248] Allocator (GPU_0_bfc) ran out of memory trying to allocate 2.27GiB with freed_by_count=0. The caller indicates that this is not a failure, but may mean that there could be performance gains if more memory were available.\n"
     ]
    },
    {
     "name": "stdout",
     "output_type": "stream",
     "text": [
      "1509/1509 [==============================] - 568s 363ms/step - loss: 0.2807 - accuracy: 0.9365 - recall: 0.9022 - precision: 0.7842 - auc: 0.9671 - val_loss: 3.0683 - val_accuracy: 0.4005 - val_recall: 0.8839 - val_precision: 0.2014 - val_auc: 0.6822\n",
      "Epoch 2/5\n",
      "1509/1509 [==============================] - 523s 347ms/step - loss: 0.0492 - accuracy: 0.9861 - recall: 0.9621 - precision: 0.9557 - auc: 0.9971 - val_loss: 0.0095 - val_accuracy: 0.9970 - val_recall: 0.9930 - val_precision: 0.9890 - val_auc: 1.0000\n",
      "Epoch 3/5\n",
      "1509/1509 [==============================] - 523s 347ms/step - loss: 0.0235 - accuracy: 0.9929 - recall: 0.9801 - precision: 0.9771 - auc: 0.9988 - val_loss: 0.0077 - val_accuracy: 0.9978 - val_recall: 0.9960 - val_precision: 0.9910 - val_auc: 0.9999\n",
      "Epoch 4/5\n",
      "1509/1509 [==============================] - 523s 347ms/step - loss: 0.0172 - accuracy: 0.9945 - recall: 0.9821 - precision: 0.9844 - auc: 0.9993 - val_loss: 0.0327 - val_accuracy: 0.9881 - val_recall: 0.9279 - val_precision: 1.0000 - val_auc: 0.9992\n",
      "Epoch 5/5\n",
      "1509/1509 [==============================] - 523s 347ms/step - loss: 0.0157 - accuracy: 0.9949 - recall: 0.9798 - precision: 0.9892 - auc: 0.9990 - val_loss: 0.0083 - val_accuracy: 0.9977 - val_recall: 0.9860 - val_precision: 1.0000 - val_auc: 0.9999\n"
     ]
    },
    {
     "name": "stderr",
     "output_type": "stream",
     "text": [
      "2021-12-22 02:45:08.904824: I tensorflow/core/profiler/lib/profiler_session.cc:136] Profiler session initializing.\n",
      "2021-12-22 02:45:08.904848: I tensorflow/core/profiler/lib/profiler_session.cc:155] Profiler session started.\n",
      "2021-12-22 02:45:08.904932: E tensorflow/core/profiler/internal/gpu/cupti_tracer.cc:1415] function cupti_interface_->Subscribe( &subscriber_, (CUpti_CallbackFunc)ApiCallback, this)failed with error CUPTI_ERROR_NOT_INITIALIZED\n",
      "2021-12-22 02:45:08.904946: I tensorflow/core/profiler/lib/profiler_session.cc:172] Profiler session tear down.\n"
     ]
    },
    {
     "name": "stdout",
     "output_type": "stream",
     "text": [
      "Epoch 1/100\n",
      "   1/1509 [..............................] - ETA: 1:43:25 - loss: 5.9768e-04 - accuracy: 1.0000 - recall: 1.0000 - precision: 1.0000 - auc: 1.0000"
     ]
    },
    {
     "name": "stderr",
     "output_type": "stream",
     "text": [
      "2021-12-22 02:45:13.429021: I tensorflow/core/profiler/lib/profiler_session.cc:136] Profiler session initializing.\n",
      "2021-12-22 02:45:13.429046: I tensorflow/core/profiler/lib/profiler_session.cc:155] Profiler session started.\n",
      "2021-12-22 02:45:13.429117: E tensorflow/core/profiler/internal/gpu/cupti_tracer.cc:1415] function cupti_interface_->Subscribe( &subscriber_, (CUpti_CallbackFunc)ApiCallback, this)failed with error CUPTI_ERROR_NOT_INITIALIZED\n"
     ]
    },
    {
     "name": "stdout",
     "output_type": "stream",
     "text": [
      "   2/1509 [..............................] - ETA: 10:34 - loss: 0.0012 - accuracy: 1.0000 - recall: 1.0000 - precision: 1.0000 - auc: 1.0000      "
     ]
    },
    {
     "name": "stderr",
     "output_type": "stream",
     "text": [
      "2021-12-22 02:45:14.363460: I tensorflow/core/profiler/lib/profiler_session.cc:71] Profiler session collecting data.\n",
      "2021-12-22 02:45:14.378568: I tensorflow/core/profiler/internal/gpu/cupti_collector.cc:228]  GpuTracer has collected 0 callback api events and 0 activity events. \n",
      "2021-12-22 02:45:14.383887: I tensorflow/core/profiler/lib/profiler_session.cc:172] Profiler session tear down.\n",
      "2021-12-22 02:45:14.396358: I tensorflow/core/profiler/rpc/client/save_profile.cc:137] Creating directory: ./logs/train/plugins/profile/2021_12_22_02_45_14\n",
      "2021-12-22 02:45:14.397907: I tensorflow/core/profiler/rpc/client/save_profile.cc:143] Dumped gzipped tool data for trace.json.gz to ./logs/train/plugins/profile/2021_12_22_02_45_14/pop-os.trace.json.gz\n",
      "2021-12-22 02:45:14.435757: I tensorflow/core/profiler/rpc/client/save_profile.cc:137] Creating directory: ./logs/train/plugins/profile/2021_12_22_02_45_14\n",
      "2021-12-22 02:45:14.442487: I tensorflow/core/profiler/rpc/client/save_profile.cc:143] Dumped gzipped tool data for memory_profile.json.gz to ./logs/train/plugins/profile/2021_12_22_02_45_14/pop-os.memory_profile.json.gz\n",
      "2021-12-22 02:45:14.442804: I tensorflow/core/profiler/rpc/client/capture_profile.cc:251] Creating directory: ./logs/train/plugins/profile/2021_12_22_02_45_14Dumped tool data for xplane.pb to ./logs/train/plugins/profile/2021_12_22_02_45_14/pop-os.xplane.pb\n",
      "Dumped tool data for overview_page.pb to ./logs/train/plugins/profile/2021_12_22_02_45_14/pop-os.overview_page.pb\n",
      "Dumped tool data for input_pipeline.pb to ./logs/train/plugins/profile/2021_12_22_02_45_14/pop-os.input_pipeline.pb\n",
      "Dumped tool data for tensorflow_stats.pb to ./logs/train/plugins/profile/2021_12_22_02_45_14/pop-os.tensorflow_stats.pb\n",
      "Dumped tool data for kernel_stats.pb to ./logs/train/plugins/profile/2021_12_22_02_45_14/pop-os.kernel_stats.pb\n",
      "\n"
     ]
    },
    {
     "name": "stdout",
     "output_type": "stream",
     "text": [
      "1509/1509 [==============================] - 528s 348ms/step - loss: 0.0124 - accuracy: 0.9958 - recall: 0.9863 - precision: 0.9887 - auc: 0.9994 - val_loss: 0.0071 - val_accuracy: 0.9980 - val_recall: 0.9900 - val_precision: 0.9980 - val_auc: 1.0000\n",
      "Epoch 2/100\n",
      "1509/1509 [==============================] - 523s 346ms/step - loss: 0.0113 - accuracy: 0.9965 - recall: 0.9885 - precision: 0.9902 - auc: 0.9993 - val_loss: 0.0117 - val_accuracy: 0.9964 - val_recall: 0.9830 - val_precision: 0.9949 - val_auc: 0.9998\n",
      "Epoch 3/100\n",
      "1509/1509 [==============================] - 523s 346ms/step - loss: 0.0082 - accuracy: 0.9974 - recall: 0.9912 - precision: 0.9929 - auc: 0.9997 - val_loss: 0.1231 - val_accuracy: 0.9576 - val_recall: 0.7618 - val_precision: 0.9769 - val_auc: 0.9853\n",
      "Epoch 4/100\n",
      "1509/1509 [==============================] - 523s 346ms/step - loss: 0.0059 - accuracy: 0.9978 - recall: 0.9927 - precision: 0.9941 - auc: 0.9999 - val_loss: 0.0055 - val_accuracy: 0.9983 - val_recall: 0.9970 - val_precision: 0.9930 - val_auc: 1.0000\n",
      "Epoch 5/100\n",
      "1509/1509 [==============================] - 523s 346ms/step - loss: 0.0082 - accuracy: 0.9973 - recall: 0.9912 - precision: 0.9922 - auc: 0.9997 - val_loss: 0.0027 - val_accuracy: 0.9995 - val_recall: 0.9980 - val_precision: 0.9990 - val_auc: 1.0000\n",
      "Epoch 6/100\n",
      "1509/1509 [==============================] - 523s 347ms/step - loss: 0.0040 - accuracy: 0.9988 - recall: 0.9955 - precision: 0.9971 - auc: 0.9998 - val_loss: 0.0068 - val_accuracy: 0.9973 - val_recall: 0.9870 - val_precision: 0.9970 - val_auc: 1.0000\n",
      "Epoch 7/100\n",
      "1509/1509 [==============================] - 523s 346ms/step - loss: 0.0047 - accuracy: 0.9986 - recall: 0.9953 - precision: 0.9964 - auc: 0.9996 - val_loss: 0.0040 - val_accuracy: 0.9987 - val_recall: 0.9920 - val_precision: 1.0000 - val_auc: 1.0000\n",
      "Epoch 8/100\n",
      "1509/1509 [==============================] - 523s 347ms/step - loss: 0.0029 - accuracy: 0.9991 - recall: 0.9973 - precision: 0.9969 - auc: 0.9998 - val_loss: 0.0291 - val_accuracy: 0.9910 - val_recall: 0.9980 - val_precision: 0.9504 - val_auc: 0.9992\n",
      "Epoch 9/100\n",
      "1509/1509 [==============================] - 523s 347ms/step - loss: 0.0039 - accuracy: 0.9986 - recall: 0.9955 - precision: 0.9961 - auc: 0.9999 - val_loss: 0.0058 - val_accuracy: 0.9982 - val_recall: 0.9950 - val_precision: 0.9940 - val_auc: 1.0000\n",
      "Epoch 10/100\n",
      "1509/1509 [==============================] - 523s 347ms/step - loss: 0.0044 - accuracy: 0.9986 - recall: 0.9954 - precision: 0.9962 - auc: 0.9996 - val_loss: 0.0017 - val_accuracy: 0.9993 - val_recall: 0.9960 - val_precision: 1.0000 - val_auc: 1.0000\n",
      "Epoch 11/100\n",
      "1509/1509 [==============================] - 523s 346ms/step - loss: 0.0032 - accuracy: 0.9990 - recall: 0.9966 - precision: 0.9971 - auc: 0.9998 - val_loss: 0.0027 - val_accuracy: 0.9988 - val_recall: 0.9990 - val_precision: 0.9940 - val_auc: 1.0000\n",
      "Epoch 12/100\n",
      "1509/1509 [==============================] - 523s 346ms/step - loss: 0.0044 - accuracy: 0.9985 - recall: 0.9948 - precision: 0.9960 - auc: 0.9997 - val_loss: 0.0012 - val_accuracy: 0.9997 - val_recall: 0.9980 - val_precision: 1.0000 - val_auc: 1.0000\n",
      "Epoch 13/100\n",
      "1509/1509 [==============================] - 523s 347ms/step - loss: 0.0030 - accuracy: 0.9991 - recall: 0.9969 - precision: 0.9979 - auc: 0.9999 - val_loss: 0.1420 - val_accuracy: 0.9412 - val_recall: 0.6446 - val_precision: 1.0000 - val_auc: 0.9960\n",
      "Epoch 14/100\n",
      "1509/1509 [==============================] - 523s 346ms/step - loss: 0.0050 - accuracy: 0.9983 - recall: 0.9942 - precision: 0.9958 - auc: 0.9998 - val_loss: 0.0016 - val_accuracy: 0.9992 - val_recall: 0.9950 - val_precision: 1.0000 - val_auc: 1.0000\n",
      "Epoch 15/100\n",
      "1509/1509 [==============================] - 523s 347ms/step - loss: 0.0034 - accuracy: 0.9989 - recall: 0.9960 - precision: 0.9975 - auc: 0.9999 - val_loss: 0.0029 - val_accuracy: 0.9990 - val_recall: 0.9970 - val_precision: 0.9970 - val_auc: 1.0000\n",
      "Epoch 16/100\n",
      "1509/1509 [==============================] - 523s 346ms/step - loss: 0.0025 - accuracy: 0.9992 - recall: 0.9969 - precision: 0.9984 - auc: 0.9998 - val_loss: 0.0044 - val_accuracy: 0.9982 - val_recall: 0.9900 - val_precision: 0.9990 - val_auc: 1.0000\n",
      "Epoch 17/100\n",
      "1509/1509 [==============================] - 523s 346ms/step - loss: 0.0029 - accuracy: 0.9992 - recall: 0.9971 - precision: 0.9983 - auc: 0.9998 - val_loss: 0.0012 - val_accuracy: 0.9997 - val_recall: 0.9990 - val_precision: 0.9990 - val_auc: 1.0000\n",
      "Epoch 18/100\n",
      "1509/1509 [==============================] - 523s 346ms/step - loss: 0.0028 - accuracy: 0.9990 - recall: 0.9971 - precision: 0.9971 - auc: 0.9999 - val_loss: 0.0046 - val_accuracy: 0.9985 - val_recall: 0.9910 - val_precision: 1.0000 - val_auc: 1.0000\n",
      "Epoch 19/100\n",
      "1509/1509 [==============================] - 523s 346ms/step - loss: 0.0015 - accuracy: 0.9996 - recall: 0.9984 - precision: 0.9991 - auc: 0.9999 - val_loss: 0.0044 - val_accuracy: 0.9985 - val_recall: 0.9920 - val_precision: 0.9990 - val_auc: 0.9995\n",
      "Epoch 20/100\n",
      "1509/1509 [==============================] - 523s 347ms/step - loss: 0.0020 - accuracy: 0.9993 - recall: 0.9979 - precision: 0.9979 - auc: 0.9999 - val_loss: 0.0138 - val_accuracy: 0.9957 - val_recall: 0.9740 - val_precision: 1.0000 - val_auc: 1.0000\n",
      "Epoch 21/100\n",
      "1509/1509 [==============================] - 523s 347ms/step - loss: 0.0024 - accuracy: 0.9991 - recall: 0.9962 - precision: 0.9982 - auc: 0.9999 - val_loss: 0.0036 - val_accuracy: 0.9990 - val_recall: 1.0000 - val_precision: 0.9940 - val_auc: 1.0000\n",
      "Epoch 22/100\n",
      "1509/1509 [==============================] - 523s 346ms/step - loss: 0.0025 - accuracy: 0.9991 - recall: 0.9966 - precision: 0.9977 - auc: 0.9999 - val_loss: 0.0043 - val_accuracy: 0.9985 - val_recall: 0.9970 - val_precision: 0.9940 - val_auc: 1.0000\n",
      "Epoch 23/100\n",
      "1509/1509 [==============================] - 523s 347ms/step - loss: 0.0032 - accuracy: 0.9990 - recall: 0.9966 - precision: 0.9972 - auc: 0.9999 - val_loss: 7.5828e-04 - val_accuracy: 1.0000 - val_recall: 1.0000 - val_precision: 1.0000 - val_auc: 1.0000\n",
      "Epoch 24/100\n",
      "1509/1509 [==============================] - 523s 346ms/step - loss: 0.0013 - accuracy: 0.9996 - recall: 0.9991 - precision: 0.9986 - auc: 1.0000 - val_loss: 0.0013 - val_accuracy: 0.9997 - val_recall: 1.0000 - val_precision: 0.9980 - val_auc: 1.0000\n",
      "Epoch 25/100\n",
      "1509/1509 [==============================] - 523s 346ms/step - loss: 0.0015 - accuracy: 0.9996 - recall: 0.9989 - precision: 0.9988 - auc: 0.9999 - val_loss: 0.0060 - val_accuracy: 0.9983 - val_recall: 0.9900 - val_precision: 1.0000 - val_auc: 1.0000\n",
      "Epoch 26/100\n",
      "1509/1509 [==============================] - 523s 347ms/step - loss: 0.0026 - accuracy: 0.9991 - recall: 0.9967 - precision: 0.9980 - auc: 0.9999 - val_loss: 0.0011 - val_accuracy: 0.9997 - val_recall: 0.9980 - val_precision: 1.0000 - val_auc: 1.0000\n",
      "Epoch 27/100\n",
      "1509/1509 [==============================] - 523s 346ms/step - loss: 0.0012 - accuracy: 0.9997 - recall: 0.9991 - precision: 0.9992 - auc: 1.0000 - val_loss: 0.0011 - val_accuracy: 0.9998 - val_recall: 1.0000 - val_precision: 0.9990 - val_auc: 1.0000\n",
      "Epoch 28/100\n",
      "1509/1509 [==============================] - 523s 346ms/step - loss: 6.6682e-04 - accuracy: 0.9998 - recall: 0.9992 - precision: 0.9995 - auc: 1.0000 - val_loss: 0.0304 - val_accuracy: 0.9899 - val_recall: 0.9409 - val_precision: 0.9979 - val_auc: 0.9974\n",
      "Epoch 29/100\n",
      "1509/1509 [==============================] - 523s 347ms/step - loss: 0.0023 - accuracy: 0.9992 - recall: 0.9974 - precision: 0.9978 - auc: 1.0000 - val_loss: 0.0038 - val_accuracy: 0.9988 - val_recall: 0.9940 - val_precision: 0.9990 - val_auc: 0.9990\n",
      "Epoch 30/100\n",
      "1509/1509 [==============================] - 533s 353ms/step - loss: 0.0033 - accuracy: 0.9989 - recall: 0.9964 - precision: 0.9968 - auc: 0.9997 - val_loss: 0.1137 - val_accuracy: 0.9713 - val_recall: 0.9960 - val_precision: 0.8548 - val_auc: 0.9956\n",
      "Epoch 31/100\n",
      "1509/1509 [==============================] - 528s 350ms/step - loss: 0.0021 - accuracy: 0.9994 - recall: 0.9977 - precision: 0.9984 - auc: 0.9998 - val_loss: 0.0233 - val_accuracy: 0.9924 - val_recall: 0.9970 - val_precision: 0.9586 - val_auc: 0.9998\n",
      "Epoch 32/100\n",
      "1509/1509 [==============================] - 528s 350ms/step - loss: 0.0025 - accuracy: 0.9992 - recall: 0.9970 - precision: 0.9980 - auc: 0.9999 - val_loss: 0.0036 - val_accuracy: 0.9988 - val_recall: 0.9930 - val_precision: 1.0000 - val_auc: 1.0000\n",
      "Epoch 33/100\n",
      "1509/1509 [==============================] - 560s 371ms/step - loss: 0.0011 - accuracy: 0.9995 - recall: 0.9984 - precision: 0.9987 - auc: 1.0000 - val_loss: 0.0018 - val_accuracy: 0.9992 - val_recall: 0.9950 - val_precision: 1.0000 - val_auc: 1.0000\n",
      "Epoch 34/100\n",
      "1509/1509 [==============================] - 575s 381ms/step - loss: 0.0027 - accuracy: 0.9993 - recall: 0.9979 - precision: 0.9980 - auc: 0.9997 - val_loss: 0.0018 - val_accuracy: 0.9997 - val_recall: 0.9980 - val_precision: 1.0000 - val_auc: 0.9995\n",
      "Epoch 35/100\n",
      "1509/1509 [==============================] - 575s 381ms/step - loss: 0.0015 - accuracy: 0.9996 - recall: 0.9985 - precision: 0.9990 - auc: 0.9999 - val_loss: 6.1479e-05 - val_accuracy: 1.0000 - val_recall: 1.0000 - val_precision: 1.0000 - val_auc: 1.0000\n",
      "Epoch 36/100\n",
      "1509/1509 [==============================] - 575s 381ms/step - loss: 0.0026 - accuracy: 0.9993 - recall: 0.9974 - precision: 0.9980 - auc: 0.9998 - val_loss: 0.0011 - val_accuracy: 0.9995 - val_recall: 0.9980 - val_precision: 0.9990 - val_auc: 1.0000\n",
      "Epoch 37/100\n",
      "1509/1509 [==============================] - 576s 381ms/step - loss: 0.0016 - accuracy: 0.9995 - recall: 0.9975 - precision: 0.9993 - auc: 0.9999 - val_loss: 0.0149 - val_accuracy: 0.9949 - val_recall: 0.9730 - val_precision: 0.9959 - val_auc: 0.9994\n",
      "Epoch 38/100\n",
      "1509/1509 [==============================] - 565s 374ms/step - loss: 0.0012 - accuracy: 0.9996 - recall: 0.9985 - precision: 0.9992 - auc: 0.9999 - val_loss: 0.0347 - val_accuracy: 0.9871 - val_recall: 0.9229 - val_precision: 0.9989 - val_auc: 0.9984\n",
      "Epoch 39/100\n",
      "1509/1509 [==============================] - 529s 350ms/step - loss: 6.0495e-04 - accuracy: 0.9998 - recall: 0.9996 - precision: 0.9994 - auc: 1.0000 - val_loss: 0.0494 - val_accuracy: 0.9866 - val_recall: 0.9209 - val_precision: 0.9978 - val_auc: 0.9923\n",
      "Epoch 40/100\n",
      "1509/1509 [==============================] - 529s 350ms/step - loss: 0.0026 - accuracy: 0.9990 - recall: 0.9967 - precision: 0.9973 - auc: 1.0000 - val_loss: 4.4555e-04 - val_accuracy: 0.9998 - val_recall: 0.9990 - val_precision: 1.0000 - val_auc: 1.0000\n",
      "Epoch 41/100\n",
      "1509/1509 [==============================] - 565s 374ms/step - loss: 0.0011 - accuracy: 0.9998 - recall: 0.9993 - precision: 0.9993 - auc: 0.9999 - val_loss: 0.0030 - val_accuracy: 0.9990 - val_recall: 0.9940 - val_precision: 1.0000 - val_auc: 1.0000\n",
      "Epoch 42/100\n",
      "1509/1509 [==============================] - 549s 364ms/step - loss: 0.0013 - accuracy: 0.9994 - recall: 0.9984 - precision: 0.9983 - auc: 1.0000 - val_loss: 0.0249 - val_accuracy: 0.9910 - val_recall: 0.9459 - val_precision: 1.0000 - val_auc: 0.9985\n",
      "Epoch 43/100\n",
      "1509/1509 [==============================] - 525s 348ms/step - loss: 8.4659e-04 - accuracy: 0.9997 - recall: 0.9990 - precision: 0.9993 - auc: 1.0000 - val_loss: 0.0021 - val_accuracy: 0.9992 - val_recall: 0.9960 - val_precision: 0.9990 - val_auc: 1.0000\n",
      "Epoch 44/100\n",
      "1509/1509 [==============================] - 525s 348ms/step - loss: 0.0013 - accuracy: 0.9995 - recall: 0.9982 - precision: 0.9986 - auc: 1.0000 - val_loss: 0.0391 - val_accuracy: 0.9869 - val_recall: 0.9219 - val_precision: 0.9989 - val_auc: 0.9964\n",
      "Epoch 45/100\n",
      "1509/1509 [==============================] - 526s 348ms/step - loss: 0.0013 - accuracy: 0.9994 - recall: 0.9983 - precision: 0.9981 - auc: 1.0000 - val_loss: 4.1501e-04 - val_accuracy: 0.9998 - val_recall: 1.0000 - val_precision: 0.9990 - val_auc: 1.0000\n",
      "Epoch 46/100\n",
      "1509/1509 [==============================] - 526s 348ms/step - loss: 0.0011 - accuracy: 0.9997 - recall: 0.9990 - precision: 0.9992 - auc: 1.0000 - val_loss: 0.0020 - val_accuracy: 0.9995 - val_recall: 0.9970 - val_precision: 1.0000 - val_auc: 1.0000\n",
      "Epoch 47/100\n",
      "1509/1509 [==============================] - 525s 348ms/step - loss: 0.0011 - accuracy: 0.9997 - recall: 0.9989 - precision: 0.9990 - auc: 1.0000 - val_loss: 4.2485e-04 - val_accuracy: 0.9998 - val_recall: 0.9990 - val_precision: 1.0000 - val_auc: 1.0000\n",
      "Epoch 48/100\n",
      "1509/1509 [==============================] - 525s 348ms/step - loss: 0.0020 - accuracy: 0.9995 - recall: 0.9984 - precision: 0.9986 - auc: 1.0000 - val_loss: 7.0767e-04 - val_accuracy: 0.9998 - val_recall: 0.9990 - val_precision: 1.0000 - val_auc: 1.0000\n",
      "Epoch 49/100\n",
      "1509/1509 [==============================] - 526s 349ms/step - loss: 7.0082e-04 - accuracy: 0.9998 - recall: 0.9993 - precision: 0.9994 - auc: 1.0000 - val_loss: 1.1361e-04 - val_accuracy: 1.0000 - val_recall: 1.0000 - val_precision: 1.0000 - val_auc: 1.0000\n",
      "Epoch 50/100\n",
      "1509/1509 [==============================] - 525s 348ms/step - loss: 0.0020 - accuracy: 0.9995 - recall: 0.9986 - precision: 0.9985 - auc: 0.9999 - val_loss: 7.3332e-04 - val_accuracy: 0.9998 - val_recall: 0.9990 - val_precision: 1.0000 - val_auc: 1.0000\n",
      "Epoch 51/100\n",
      "1509/1509 [==============================] - 525s 348ms/step - loss: 0.0012 - accuracy: 0.9997 - recall: 0.9990 - precision: 0.9991 - auc: 1.0000 - val_loss: 5.5115e-04 - val_accuracy: 0.9998 - val_recall: 0.9990 - val_precision: 1.0000 - val_auc: 1.0000\n",
      "Epoch 52/100\n",
      "1509/1509 [==============================] - 525s 348ms/step - loss: 0.0011 - accuracy: 0.9995 - recall: 0.9984 - precision: 0.9983 - auc: 1.0000 - val_loss: 0.0025 - val_accuracy: 0.9990 - val_recall: 0.9940 - val_precision: 1.0000 - val_auc: 1.0000\n",
      "Epoch 53/100\n",
      "1509/1509 [==============================] - 525s 348ms/step - loss: 5.0021e-04 - accuracy: 0.9998 - recall: 0.9995 - precision: 0.9993 - auc: 1.0000 - val_loss: 0.0015 - val_accuracy: 0.9993 - val_recall: 0.9960 - val_precision: 1.0000 - val_auc: 1.0000\n",
      "Epoch 54/100\n",
      "1509/1509 [==============================] - 525s 348ms/step - loss: 8.4190e-04 - accuracy: 0.9997 - recall: 0.9988 - precision: 0.9992 - auc: 1.0000 - val_loss: 0.0220 - val_accuracy: 0.9930 - val_recall: 0.9580 - val_precision: 1.0000 - val_auc: 0.9970\n",
      "Epoch 55/100\n",
      "1509/1509 [==============================] - 525s 348ms/step - loss: 0.0023 - accuracy: 0.9994 - recall: 0.9984 - precision: 0.9979 - auc: 0.9997 - val_loss: 4.1768e-04 - val_accuracy: 0.9997 - val_recall: 0.9980 - val_precision: 1.0000 - val_auc: 1.0000\n",
      "189/189 [==============================] - 55s 290ms/step - loss: 5.0816e-04 - accuracy: 0.9998 - recall: 0.9990 - precision: 1.0000 - auc: 1.0000\n",
      "loss: 0.0005081648123450577, \n",
      "accuracy: 0.9998342990875244, \n",
      "recall: 0.9990010261535645, \n",
      "precision: 1.0, \n",
      "auc: 1.0, \n",
      "F1: 0.9995002634649179\n",
      "Saving figure restNet_loss\n"
     ]
    },
    {
     "data": {
      "text/plain": "<Figure size 432x288 with 1 Axes>",
      "image/png": "[encoded data removed]"
     },
     "metadata": {
      "needs_background": "light"
     },
     "output_type": "display_data"
    },
    {
     "name": "stdout",
     "output_type": "stream",
     "text": [
      "Saving figure resNet_accuracy\n"
     ]
    },
    {
     "data": {
      "text/plain": "<Figure size 432x288 with 1 Axes>",
      "image/png": "[encoded data removed]"
     },
     "metadata": {
      "needs_background": "light"
     },
     "output_type": "display_data"
    },
    {
     "name": "stdout",
     "output_type": "stream",
     "text": [
      "Saving figure resNet_recall\n"
     ]
    },
    {
     "data": {
      "text/plain": "<Figure size 432x288 with 1 Axes>",
      "image/png": "[encoded data removed]"
     },
     "metadata": {
      "needs_background": "light"
     },
     "output_type": "display_data"
    },
    {
     "name": "stdout",
     "output_type": "stream",
     "text": [
      "Saving figure resNet_precision\n"
     ]
    },
    {
     "data": {
      "text/plain": "<Figure size 432x288 with 1 Axes>",
      "image/png": "[encoded data removed]"
     },
     "metadata": {
      "needs_background": "light"
     },
     "output_type": "display_data"
    },
    {
     "name": "stdout",
     "output_type": "stream",
     "text": [
      "Saving figure resNet_auc\n"
     ]
    },
    {
     "data": {
      "text/plain": "<Figure size 432x288 with 1 Axes>",
      "image/png": "[encoded data removed]"
     },
     "metadata": {
      "needs_background": "light"
     },
     "output_type": "display_data"
    }
   ],
   "source": [
    "resnet = build_base_model('resnet', 'imagenet')\n",
    "resnet_model = build_model(resnet)\n",
    "resnet_model = compile_model(resnet_model, 0.0001, 0.9, 0.999, ['accuracy', 'Recall', 'Precision', 'AUC'])\n",
    "set_layers_trainable(False, resnet)\n",
    "res_history = train_model(resnet_model, train_image_gen, valid_image_gen, 5, [])\n",
    "set_layers_trainable(True, resnet)\n",
    "save_model(resnet_model, 'resnet_first_train_step', 'saved_models/first_train_step/default_params/reduced_data')\n",
    "tensorboard_callback = tf.keras.callbacks.TensorBoard(log_dir=\"./logs\", histogram_freq=5, write_graph=True,\n",
    "                                                      write_images=True)\n",
    "custom_early_stopping = keras.callbacks.EarlyStopping(monitor='val_loss', patience=20)\n",
    "resnet_model = compile_model(resnet_model, 0.0001, 0.9, 0.999, ['accuracy', 'Recall', 'Precision', 'AUC'])\n",
    "res_history = train_model(resnet_model, train_image_gen, valid_image_gen, 100,\n",
    "                          [custom_early_stopping, tensorboard_callback])\n",
    "loss, accuracy, recall, precision, auc = resnet_model.evaluate(test_image_gen)\n",
    "# F1 score\n",
    "f1 = 2 * ((precision * recall) / (precision + recall))\n",
    "\n",
    "print(f\"loss: {loss}, \\n\"\n",
    "      f\"accuracy: {accuracy}, \\n\"\n",
    "      f\"recall: {recall}, \\n\"\n",
    "      f\"precision: {precision}, \\n\"\n",
    "      f\"auc: {auc}, \\n\"\n",
    "      f\"F1: {f1}\")\n",
    "\n",
    "save_model(resnet_model, 'resnet', 'saved_models/second_train_step/default_params/reduced_data')\n",
    "metrics = res_history.history\n",
    "plt.plot(res_history.epoch, metrics['loss'], metrics['val_loss'])\n",
    "plt.legend(['loss', 'val_loss'])\n",
    "save_fig('restNet_loss', tight_layout=False)\n",
    "plt.show()\n",
    "plt.plot(res_history.epoch, metrics['accuracy'], metrics['val_accuracy'])\n",
    "plt.legend(['accuracy', 'val_accuracy'])\n",
    "save_fig('resNet_accuracy', tight_layout=False)\n",
    "plt.show()\n",
    "plt.plot(res_history.epoch, metrics['recall'], metrics['val_recall'])\n",
    "plt.legend(['recall', 'val_recall'])\n",
    "save_fig('resNet_recall', tight_layout=False)\n",
    "plt.show()\n",
    "plt.plot(res_history.epoch, metrics['precision'], metrics['val_precision'])\n",
    "plt.legend(['precision', 'val_precision'])\n",
    "save_fig('resNet_precision', tight_layout=False)\n",
    "plt.show()\n",
    "plt.plot(res_history.epoch, metrics['auc'], metrics['val_auc'])\n",
    "plt.legend(['auc', 'val_auc'])\n",
    "save_fig('resNet_auc', tight_layout=False)\n",
    "plt.show()"
   ],
   "metadata": {
    "collapsed": false,
    "pycharm": {
     "name": "#%%\n"
    }
   }
  },
  {
   "cell_type": "code",
   "execution_count": 14,
   "outputs": [
    {
     "name": "stderr",
     "output_type": "stream",
     "text": [
      "2021-12-22 11:44:01.604895: I tensorflow/core/platform/cpu_feature_guard.cc:142] This TensorFlow binary is optimized with oneAPI Deep Neural Network Library (oneDNN) to use the following CPU instructions in performance-critical operations:  SSE4.1 SSE4.2 AVX AVX2 FMA\n",
      "To enable them in other operations, rebuild TensorFlow with the appropriate compiler flags.\n",
      "2021-12-22 11:44:01.605314: I tensorflow/stream_executor/cuda/cuda_gpu_executor.cc:941] successful NUMA node read from SysFS had negative value (-1), but there must be at least one NUMA node, so returning NUMA node zero\n",
      "2021-12-22 11:44:01.605462: I tensorflow/core/common_runtime/gpu/gpu_device.cc:1720] Found device 0 with properties: \n",
      "pciBusID: 0000:01:00.0 name: NVIDIA GeForce GTX 1080 computeCapability: 6.1\n",
      "coreClock: 1.8225GHz coreCount: 20 deviceMemorySize: 7.93GiB deviceMemoryBandwidth: 298.32GiB/s\n",
      "2021-12-22 11:44:01.605495: I tensorflow/stream_executor/platform/default/dso_loader.cc:49] Successfully opened dynamic library libcudart.so.10.1\n",
      "2021-12-22 11:44:01.605549: I tensorflow/stream_executor/platform/default/dso_loader.cc:49] Successfully opened dynamic library libcublas.so.10\n",
      "2021-12-22 11:44:01.605570: I tensorflow/stream_executor/platform/default/dso_loader.cc:49] Successfully opened dynamic library libcublasLt.so.10\n",
      "2021-12-22 11:44:01.605588: I tensorflow/stream_executor/platform/default/dso_loader.cc:49] Successfully opened dynamic library libcufft.so.10\n",
      "2021-12-22 11:44:01.605605: I tensorflow/stream_executor/platform/default/dso_loader.cc:49] Successfully opened dynamic library libcurand.so.10\n",
      "2021-12-22 11:44:01.605625: I tensorflow/stream_executor/platform/default/dso_loader.cc:49] Successfully opened dynamic library libcusolver.so.10\n",
      "2021-12-22 11:44:01.605644: I tensorflow/stream_executor/platform/default/dso_loader.cc:49] Successfully opened dynamic library libcusparse.so.10\n",
      "2021-12-22 11:44:01.605661: I tensorflow/stream_executor/platform/default/dso_loader.cc:49] Successfully opened dynamic library libcudnn.so.7\n",
      "2021-12-22 11:44:01.605751: I tensorflow/stream_executor/cuda/cuda_gpu_executor.cc:941] successful NUMA node read from SysFS had negative value (-1), but there must be at least one NUMA node, so returning NUMA node zero\n",
      "2021-12-22 11:44:01.605917: I tensorflow/stream_executor/cuda/cuda_gpu_executor.cc:941] successful NUMA node read from SysFS had negative value (-1), but there must be at least one NUMA node, so returning NUMA node zero\n",
      "2021-12-22 11:44:01.606001: I tensorflow/core/common_runtime/gpu/gpu_device.cc:1862] Adding visible gpu devices: 0\n",
      "2021-12-22 11:44:01.606460: I tensorflow/stream_executor/platform/default/dso_loader.cc:49] Successfully opened dynamic library libcudart.so.10.1\n",
      "2021-12-22 11:44:02.551358: I tensorflow/core/common_runtime/gpu/gpu_device.cc:1261] Device interconnect StreamExecutor with strength 1 edge matrix:\n",
      "2021-12-22 11:44:02.551383: I tensorflow/core/common_runtime/gpu/gpu_device.cc:1267]      0 \n",
      "2021-12-22 11:44:02.551388: I tensorflow/core/common_runtime/gpu/gpu_device.cc:1280] 0:   N \n",
      "2021-12-22 11:44:02.551963: I tensorflow/stream_executor/cuda/cuda_gpu_executor.cc:941] successful NUMA node read from SysFS had negative value (-1), but there must be at least one NUMA node, so returning NUMA node zero\n",
      "2021-12-22 11:44:02.552139: I tensorflow/stream_executor/cuda/cuda_gpu_executor.cc:941] successful NUMA node read from SysFS had negative value (-1), but there must be at least one NUMA node, so returning NUMA node zero\n",
      "2021-12-22 11:44:02.552259: I tensorflow/stream_executor/cuda/cuda_gpu_executor.cc:941] successful NUMA node read from SysFS had negative value (-1), but there must be at least one NUMA node, so returning NUMA node zero\n",
      "2021-12-22 11:44:02.552356: I tensorflow/core/common_runtime/gpu/gpu_device.cc:1406] Created TensorFlow device (/job:localhost/replica:0/task:0/device:GPU:0 with 6223 MB memory) -> physical GPU (device: 0, name: NVIDIA GeForce GTX 1080, pci bus id: 0000:01:00.0, compute capability: 6.1)\n",
      "2021-12-22 11:44:02.553954: I tensorflow/compiler/jit/xla_gpu_device.cc:99] Not creating XLA devices, tf_xla_enable_xla_devices not set\n",
      "2021-12-22 11:44:03.819870: I tensorflow/compiler/mlir/mlir_graph_optimization_pass.cc:116] None of the MLIR optimization passes are enabled (registered 2)\n",
      "2021-12-22 11:44:03.821461: I tensorflow/core/platform/profile_utils/cpu_utils.cc:112] CPU Frequency: 3999980000 Hz\n"
     ]
    },
    {
     "name": "stdout",
     "output_type": "stream",
     "text": [
      "Epoch 1/5\n"
     ]
    },
    {
     "name": "stderr",
     "output_type": "stream",
     "text": [
      "2021-12-22 11:44:07.169663: I tensorflow/stream_executor/platform/default/dso_loader.cc:49] Successfully opened dynamic library libcublas.so.10\n",
      "2021-12-22 11:44:07.469811: I tensorflow/stream_executor/platform/default/dso_loader.cc:49] Successfully opened dynamic library libcudnn.so.7\n",
      "2021-12-22 11:44:08.351047: W tensorflow/stream_executor/gpu/asm_compiler.cc:63] Running ptxas --version returned 256\n",
      "2021-12-22 11:44:08.374505: W tensorflow/stream_executor/gpu/redzone_allocator.cc:314] Internal: ptxas exited with non-zero error code 256, output: \n",
      "Relying on driver to perform ptx compilation. \n",
      "Modify $PATH to customize ptxas location.\n",
      "This message will be only logged once.\n",
      "2021-12-22 11:44:11.835613: W tensorflow/core/common_runtime/bfc_allocator.cc:248] Allocator (GPU_0_bfc) ran out of memory trying to allocate 3.45GiB with freed_by_count=0. The caller indicates that this is not a failure, but may mean that there could be performance gains if more memory were available.\n",
      "2021-12-22 11:44:12.545123: W tensorflow/core/common_runtime/bfc_allocator.cc:248] Allocator (GPU_0_bfc) ran out of memory trying to allocate 3.40GiB with freed_by_count=0. The caller indicates that this is not a failure, but may mean that there could be performance gains if more memory were available.\n",
      "2021-12-22 11:44:12.696671: W tensorflow/core/common_runtime/bfc_allocator.cc:248] Allocator (GPU_0_bfc) ran out of memory trying to allocate 3.48GiB with freed_by_count=0. The caller indicates that this is not a failure, but may mean that there could be performance gains if more memory were available.\n",
      "2021-12-22 11:44:15.417373: W tensorflow/core/common_runtime/bfc_allocator.cc:248] Allocator (GPU_0_bfc) ran out of memory trying to allocate 2.15GiB with freed_by_count=0. The caller indicates that this is not a failure, but may mean that there could be performance gains if more memory were available.\n",
      "2021-12-22 11:44:15.575714: W tensorflow/core/common_runtime/bfc_allocator.cc:248] Allocator (GPU_0_bfc) ran out of memory trying to allocate 2.27GiB with freed_by_count=0. The caller indicates that this is not a failure, but may mean that there could be performance gains if more memory were available.\n",
      "2021-12-22 11:44:16.468590: W tensorflow/core/common_runtime/bfc_allocator.cc:248] Allocator (GPU_0_bfc) ran out of memory trying to allocate 2.18GiB with freed_by_count=0. The caller indicates that this is not a failure, but may mean that there could be performance gains if more memory were available.\n",
      "2021-12-22 11:44:16.640308: W tensorflow/core/common_runtime/bfc_allocator.cc:248] Allocator (GPU_0_bfc) ran out of memory trying to allocate 2.43GiB with freed_by_count=0. The caller indicates that this is not a failure, but may mean that there could be performance gains if more memory were available.\n"
     ]
    },
    {
     "name": "stdout",
     "output_type": "stream",
     "text": [
      "2012/2012 [==============================] - ETA: 0s - loss: 0.2550 - accuracy: 0.9230 - recall: 0.9084 - precision: 0.7455 - auc: 0.9647"
     ]
    },
    {
     "name": "stderr",
     "output_type": "stream",
     "text": [
      "2021-12-22 12:00:30.665999: W tensorflow/core/common_runtime/bfc_allocator.cc:248] Allocator (GPU_0_bfc) ran out of memory trying to allocate 3.42GiB with freed_by_count=0. The caller indicates that this is not a failure, but may mean that there could be performance gains if more memory were available.\n"
     ]
    },
    {
     "name": "stdout",
     "output_type": "stream",
     "text": [
      "2012/2012 [==============================] - 987s 484ms/step - loss: 0.2550 - accuracy: 0.9231 - recall: 0.9084 - precision: 0.7456 - auc: 0.9647 - val_loss: 0.0212 - val_accuracy: 0.9940 - val_recall: 0.9930 - val_precision: 0.9716 - val_auc: 0.9992\n",
      "Epoch 2/5\n",
      "2012/2012 [==============================] - 909s 452ms/step - loss: 0.0262 - accuracy: 0.9928 - recall: 0.9808 - precision: 0.9757 - auc: 0.9980 - val_loss: 0.0098 - val_accuracy: 0.9965 - val_recall: 0.9980 - val_precision: 0.9813 - val_auc: 1.0000\n",
      "Epoch 3/5\n",
      "2012/2012 [==============================] - 917s 456ms/step - loss: 0.0158 - accuracy: 0.9958 - recall: 0.9854 - precision: 0.9889 - auc: 0.9986 - val_loss: 0.0054 - val_accuracy: 0.9987 - val_recall: 0.9970 - val_precision: 0.9950 - val_auc: 0.9998\n",
      "Epoch 4/5\n",
      "2012/2012 [==============================] - 918s 456ms/step - loss: 0.0097 - accuracy: 0.9970 - recall: 0.9894 - precision: 0.9927 - auc: 0.9994 - val_loss: 0.0011 - val_accuracy: 0.9993 - val_recall: 0.9970 - val_precision: 0.9990 - val_auc: 1.0000\n",
      "Epoch 5/5\n",
      "2012/2012 [==============================] - 933s 464ms/step - loss: 0.0078 - accuracy: 0.9980 - recall: 0.9922 - precision: 0.9960 - auc: 0.9995 - val_loss: 0.0054 - val_accuracy: 0.9987 - val_recall: 0.9990 - val_precision: 0.9930 - val_auc: 1.0000\n"
     ]
    },
    {
     "name": "stderr",
     "output_type": "stream",
     "text": [
      "2021-12-22 13:01:49.721755: I tensorflow/core/profiler/lib/profiler_session.cc:136] Profiler session initializing.\n",
      "2021-12-22 13:01:49.721776: I tensorflow/core/profiler/lib/profiler_session.cc:155] Profiler session started.\n",
      "2021-12-22 13:01:49.722010: I tensorflow/core/profiler/internal/gpu/cupti_tracer.cc:1365] Profiler found 1 GPUs\n",
      "2021-12-22 13:01:49.729746: I tensorflow/stream_executor/platform/default/dso_loader.cc:49] Successfully opened dynamic library libcupti.so.10.1\n",
      "2021-12-22 13:01:49.830778: E tensorflow/core/profiler/internal/gpu/cupti_tracer.cc:1415] function cupti_interface_->Subscribe( &subscriber_, (CUpti_CallbackFunc)ApiCallback, this)failed with error CUPTI_ERROR_INSUFFICIENT_PRIVILEGES\n",
      "2021-12-22 13:01:49.830932: I tensorflow/core/profiler/lib/profiler_session.cc:172] Profiler session tear down.\n"
     ]
    },
    {
     "name": "stdout",
     "output_type": "stream",
     "text": [
      "Epoch 1/100\n",
      "   1/2012 [..............................] - ETA: 2:01:32 - loss: 0.0036 - accuracy: 1.0000 - recall: 1.0000 - precision: 1.0000 - auc: 1.0000"
     ]
    },
    {
     "name": "stderr",
     "output_type": "stream",
     "text": [
      "2021-12-22 13:01:53.796901: I tensorflow/core/profiler/lib/profiler_session.cc:136] Profiler session initializing.\n",
      "2021-12-22 13:01:53.796921: I tensorflow/core/profiler/lib/profiler_session.cc:155] Profiler session started.\n",
      "2021-12-22 13:01:53.797442: E tensorflow/core/profiler/internal/gpu/cupti_tracer.cc:1415] function cupti_interface_->Subscribe( &subscriber_, (CUpti_CallbackFunc)ApiCallback, this)failed with error CUPTI_ERROR_INSUFFICIENT_PRIVILEGES\n"
     ]
    },
    {
     "name": "stdout",
     "output_type": "stream",
     "text": [
      "   2/2012 [..............................] - ETA: 17:05 - loss: 0.0029 - accuracy: 1.0000 - recall: 1.0000 - precision: 1.0000 - auc: 1.0000  "
     ]
    },
    {
     "name": "stderr",
     "output_type": "stream",
     "text": [
      "2021-12-22 13:01:54.224868: I tensorflow/core/profiler/lib/profiler_session.cc:71] Profiler session collecting data.\n",
      "2021-12-22 13:01:54.239459: I tensorflow/core/profiler/internal/gpu/cupti_collector.cc:228]  GpuTracer has collected 0 callback api events and 0 activity events. \n",
      "2021-12-22 13:01:54.242928: I tensorflow/core/profiler/lib/profiler_session.cc:172] Profiler session tear down.\n",
      "2021-12-22 13:01:54.248729: I tensorflow/core/profiler/rpc/client/save_profile.cc:137] Creating directory: ./logs/train/plugins/profile/2021_12_22_13_01_54\n",
      "2021-12-22 13:01:54.250494: I tensorflow/core/profiler/rpc/client/save_profile.cc:143] Dumped gzipped tool data for trace.json.gz to ./logs/train/plugins/profile/2021_12_22_13_01_54/pop-os.trace.json.gz\n",
      "2021-12-22 13:01:54.279881: I tensorflow/core/profiler/rpc/client/save_profile.cc:137] Creating directory: ./logs/train/plugins/profile/2021_12_22_13_01_54\n",
      "2021-12-22 13:01:54.284710: I tensorflow/core/profiler/rpc/client/save_profile.cc:143] Dumped gzipped tool data for memory_profile.json.gz to ./logs/train/plugins/profile/2021_12_22_13_01_54/pop-os.memory_profile.json.gz\n",
      "2021-12-22 13:01:54.285016: I tensorflow/core/profiler/rpc/client/capture_profile.cc:251] Creating directory: ./logs/train/plugins/profile/2021_12_22_13_01_54Dumped tool data for xplane.pb to ./logs/train/plugins/profile/2021_12_22_13_01_54/pop-os.xplane.pb\n",
      "Dumped tool data for overview_page.pb to ./logs/train/plugins/profile/2021_12_22_13_01_54/pop-os.overview_page.pb\n",
      "Dumped tool data for input_pipeline.pb to ./logs/train/plugins/profile/2021_12_22_13_01_54/pop-os.input_pipeline.pb\n",
      "Dumped tool data for tensorflow_stats.pb to ./logs/train/plugins/profile/2021_12_22_13_01_54/pop-os.tensorflow_stats.pb\n",
      "Dumped tool data for kernel_stats.pb to ./logs/train/plugins/profile/2021_12_22_13_01_54/pop-os.kernel_stats.pb\n",
      "\n"
     ]
    },
    {
     "name": "stdout",
     "output_type": "stream",
     "text": [
      "2012/2012 [==============================] - 905s 448ms/step - loss: 0.0066 - accuracy: 0.9984 - recall: 0.9945 - precision: 0.9954 - auc: 0.9997 - val_loss: 0.0011 - val_accuracy: 0.9998 - val_recall: 0.9990 - val_precision: 1.0000 - val_auc: 1.0000\n",
      "Epoch 2/100\n",
      "2012/2012 [==============================] - 903s 449ms/step - loss: 0.0047 - accuracy: 0.9989 - recall: 0.9959 - precision: 0.9975 - auc: 0.9993 - val_loss: 0.0014 - val_accuracy: 0.9998 - val_recall: 1.0000 - val_precision: 0.9990 - val_auc: 1.0000\n",
      "Epoch 3/100\n",
      "2012/2012 [==============================] - 902s 448ms/step - loss: 0.0031 - accuracy: 0.9993 - recall: 0.9973 - precision: 0.9983 - auc: 0.9997 - val_loss: 8.7638e-04 - val_accuracy: 0.9997 - val_recall: 0.9990 - val_precision: 0.9990 - val_auc: 1.0000\n",
      "Epoch 4/100\n",
      "2012/2012 [==============================] - 899s 447ms/step - loss: 0.0040 - accuracy: 0.9990 - recall: 0.9957 - precision: 0.9983 - auc: 0.9996 - val_loss: 0.0018 - val_accuracy: 0.9995 - val_recall: 0.9970 - val_precision: 1.0000 - val_auc: 1.0000\n",
      "Epoch 5/100\n",
      "2012/2012 [==============================] - 903s 449ms/step - loss: 0.0029 - accuracy: 0.9991 - recall: 0.9970 - precision: 0.9977 - auc: 0.9999 - val_loss: 1.9970e-04 - val_accuracy: 1.0000 - val_recall: 1.0000 - val_precision: 1.0000 - val_auc: 1.0000\n",
      "Epoch 6/100\n",
      "2012/2012 [==============================] - 900s 447ms/step - loss: 0.0029 - accuracy: 0.9993 - recall: 0.9975 - precision: 0.9984 - auc: 0.9998 - val_loss: 7.6027e-05 - val_accuracy: 1.0000 - val_recall: 1.0000 - val_precision: 1.0000 - val_auc: 1.0000\n",
      "Epoch 7/100\n",
      "2012/2012 [==============================] - 901s 448ms/step - loss: 0.0057 - accuracy: 0.9989 - recall: 0.9954 - precision: 0.9978 - auc: 0.9997 - val_loss: 0.0015 - val_accuracy: 0.9995 - val_recall: 0.9970 - val_precision: 1.0000 - val_auc: 1.0000\n",
      "Epoch 8/100\n",
      " 953/2012 [=============>................] - ETA: 8:18 - loss: 0.0031 - accuracy: 0.9991 - recall: 0.9964 - precision: 0.9982 - auc: 1.0000"
     ]
    },
    {
     "ename": "KeyboardInterrupt",
     "evalue": "",
     "output_type": "error",
     "traceback": [
      "\u001B[0;31m---------------------------------------------------------------------------\u001B[0m",
      "\u001B[0;31mKeyboardInterrupt\u001B[0m                         Traceback (most recent call last)",
      "\u001B[0;32m/tmp/ipykernel_6593/1611783299.py\u001B[0m in \u001B[0;36m<module>\u001B[0;34m\u001B[0m\n\u001B[1;32m     10\u001B[0m \u001B[0mcustom_early_stopping\u001B[0m \u001B[0;34m=\u001B[0m \u001B[0mkeras\u001B[0m\u001B[0;34m.\u001B[0m\u001B[0mcallbacks\u001B[0m\u001B[0;34m.\u001B[0m\u001B[0mEarlyStopping\u001B[0m\u001B[0;34m(\u001B[0m\u001B[0mmonitor\u001B[0m\u001B[0;34m=\u001B[0m\u001B[0;34m'val_loss'\u001B[0m\u001B[0;34m,\u001B[0m \u001B[0mpatience\u001B[0m\u001B[0;34m=\u001B[0m\u001B[0;36m20\u001B[0m\u001B[0;34m)\u001B[0m\u001B[0;34m\u001B[0m\u001B[0;34m\u001B[0m\u001B[0m\n\u001B[1;32m     11\u001B[0m \u001B[0mxception_model\u001B[0m \u001B[0;34m=\u001B[0m \u001B[0mcompile_model\u001B[0m\u001B[0;34m(\u001B[0m\u001B[0mxception_model\u001B[0m\u001B[0;34m,\u001B[0m \u001B[0;36m0.0001\u001B[0m\u001B[0;34m,\u001B[0m \u001B[0;36m0.9\u001B[0m\u001B[0;34m,\u001B[0m \u001B[0;36m0.999\u001B[0m\u001B[0;34m,\u001B[0m \u001B[0;34m[\u001B[0m\u001B[0;34m'accuracy'\u001B[0m\u001B[0;34m,\u001B[0m \u001B[0;34m'Recall'\u001B[0m\u001B[0;34m,\u001B[0m \u001B[0;34m'Precision'\u001B[0m\u001B[0;34m,\u001B[0m \u001B[0;34m'AUC'\u001B[0m\u001B[0;34m]\u001B[0m\u001B[0;34m)\u001B[0m\u001B[0;34m\u001B[0m\u001B[0;34m\u001B[0m\u001B[0m\n\u001B[0;32m---> 12\u001B[0;31m xc_history = train_model(xception_model, train_image_gen, valid_image_gen, 100,\n\u001B[0m\u001B[1;32m     13\u001B[0m                          [custom_early_stopping, tensorboard_callback])\n\u001B[1;32m     14\u001B[0m \u001B[0mloss\u001B[0m\u001B[0;34m,\u001B[0m \u001B[0maccuracy\u001B[0m\u001B[0;34m,\u001B[0m \u001B[0mrecall\u001B[0m\u001B[0;34m,\u001B[0m \u001B[0mprecision\u001B[0m\u001B[0;34m,\u001B[0m \u001B[0mauc\u001B[0m \u001B[0;34m=\u001B[0m \u001B[0mxception_model\u001B[0m\u001B[0;34m.\u001B[0m\u001B[0mevaluate\u001B[0m\u001B[0;34m(\u001B[0m\u001B[0mtest_image_gen\u001B[0m\u001B[0;34m)\u001B[0m\u001B[0;34m\u001B[0m\u001B[0;34m\u001B[0m\u001B[0m\n",
      "\u001B[0;32m/tmp/ipykernel_6593/663974549.py\u001B[0m in \u001B[0;36mtrain_model\u001B[0;34m(model, train_set, validation_set, epochs, callback)\u001B[0m\n\u001B[1;32m      1\u001B[0m \u001B[0;32mdef\u001B[0m \u001B[0mtrain_model\u001B[0m\u001B[0;34m(\u001B[0m\u001B[0mmodel\u001B[0m\u001B[0;34m,\u001B[0m \u001B[0mtrain_set\u001B[0m\u001B[0;34m,\u001B[0m \u001B[0mvalidation_set\u001B[0m\u001B[0;34m,\u001B[0m \u001B[0mepochs\u001B[0m\u001B[0;34m,\u001B[0m \u001B[0mcallback\u001B[0m\u001B[0;34m)\u001B[0m\u001B[0;34m:\u001B[0m\u001B[0;34m\u001B[0m\u001B[0;34m\u001B[0m\u001B[0m\n\u001B[0;32m----> 2\u001B[0;31m     return model.fit(train_set,\n\u001B[0m\u001B[1;32m      3\u001B[0m                      \u001B[0mvalidation_data\u001B[0m\u001B[0;34m=\u001B[0m\u001B[0mvalidation_set\u001B[0m\u001B[0;34m,\u001B[0m\u001B[0;34m\u001B[0m\u001B[0;34m\u001B[0m\u001B[0m\n\u001B[1;32m      4\u001B[0m                      \u001B[0mepochs\u001B[0m\u001B[0;34m=\u001B[0m\u001B[0mepochs\u001B[0m\u001B[0;34m,\u001B[0m\u001B[0;34m\u001B[0m\u001B[0;34m\u001B[0m\u001B[0m\n\u001B[1;32m      5\u001B[0m                      callbacks=callback)\n",
      "\u001B[0;32m~/anaconda3/envs/sls/lib/python3.9/site-packages/tensorflow/python/keras/engine/training.py\u001B[0m in \u001B[0;36mfit\u001B[0;34m(self, x, y, batch_size, epochs, verbose, callbacks, validation_split, validation_data, shuffle, class_weight, sample_weight, initial_epoch, steps_per_epoch, validation_steps, validation_batch_size, validation_freq, max_queue_size, workers, use_multiprocessing)\u001B[0m\n\u001B[1;32m   1098\u001B[0m                 _r=1):\n\u001B[1;32m   1099\u001B[0m               \u001B[0mcallbacks\u001B[0m\u001B[0;34m.\u001B[0m\u001B[0mon_train_batch_begin\u001B[0m\u001B[0;34m(\u001B[0m\u001B[0mstep\u001B[0m\u001B[0;34m)\u001B[0m\u001B[0;34m\u001B[0m\u001B[0;34m\u001B[0m\u001B[0m\n\u001B[0;32m-> 1100\u001B[0;31m               \u001B[0mtmp_logs\u001B[0m \u001B[0;34m=\u001B[0m \u001B[0mself\u001B[0m\u001B[0;34m.\u001B[0m\u001B[0mtrain_function\u001B[0m\u001B[0;34m(\u001B[0m\u001B[0miterator\u001B[0m\u001B[0;34m)\u001B[0m\u001B[0;34m\u001B[0m\u001B[0;34m\u001B[0m\u001B[0m\n\u001B[0m\u001B[1;32m   1101\u001B[0m               \u001B[0;32mif\u001B[0m \u001B[0mdata_handler\u001B[0m\u001B[0;34m.\u001B[0m\u001B[0mshould_sync\u001B[0m\u001B[0;34m:\u001B[0m\u001B[0;34m\u001B[0m\u001B[0;34m\u001B[0m\u001B[0m\n\u001B[1;32m   1102\u001B[0m                 \u001B[0mcontext\u001B[0m\u001B[0;34m.\u001B[0m\u001B[0masync_wait\u001B[0m\u001B[0;34m(\u001B[0m\u001B[0;34m)\u001B[0m\u001B[0;34m\u001B[0m\u001B[0;34m\u001B[0m\u001B[0m\n",
      "\u001B[0;32m~/anaconda3/envs/sls/lib/python3.9/site-packages/tensorflow/python/eager/def_function.py\u001B[0m in \u001B[0;36m__call__\u001B[0;34m(self, *args, **kwds)\u001B[0m\n\u001B[1;32m    826\u001B[0m     \u001B[0mtracing_count\u001B[0m \u001B[0;34m=\u001B[0m \u001B[0mself\u001B[0m\u001B[0;34m.\u001B[0m\u001B[0mexperimental_get_tracing_count\u001B[0m\u001B[0;34m(\u001B[0m\u001B[0;34m)\u001B[0m\u001B[0;34m\u001B[0m\u001B[0;34m\u001B[0m\u001B[0m\n\u001B[1;32m    827\u001B[0m     \u001B[0;32mwith\u001B[0m \u001B[0mtrace\u001B[0m\u001B[0;34m.\u001B[0m\u001B[0mTrace\u001B[0m\u001B[0;34m(\u001B[0m\u001B[0mself\u001B[0m\u001B[0;34m.\u001B[0m\u001B[0m_name\u001B[0m\u001B[0;34m)\u001B[0m \u001B[0;32mas\u001B[0m \u001B[0mtm\u001B[0m\u001B[0;34m:\u001B[0m\u001B[0;34m\u001B[0m\u001B[0;34m\u001B[0m\u001B[0m\n\u001B[0;32m--> 828\u001B[0;31m       \u001B[0mresult\u001B[0m \u001B[0;34m=\u001B[0m \u001B[0mself\u001B[0m\u001B[0;34m.\u001B[0m\u001B[0m_call\u001B[0m\u001B[0;34m(\u001B[0m\u001B[0;34m*\u001B[0m\u001B[0margs\u001B[0m\u001B[0;34m,\u001B[0m \u001B[0;34m**\u001B[0m\u001B[0mkwds\u001B[0m\u001B[0;34m)\u001B[0m\u001B[0;34m\u001B[0m\u001B[0;34m\u001B[0m\u001B[0m\n\u001B[0m\u001B[1;32m    829\u001B[0m       \u001B[0mcompiler\u001B[0m \u001B[0;34m=\u001B[0m \u001B[0;34m\"xla\"\u001B[0m \u001B[0;32mif\u001B[0m \u001B[0mself\u001B[0m\u001B[0;34m.\u001B[0m\u001B[0m_experimental_compile\u001B[0m \u001B[0;32melse\u001B[0m \u001B[0;34m\"nonXla\"\u001B[0m\u001B[0;34m\u001B[0m\u001B[0;34m\u001B[0m\u001B[0m\n\u001B[1;32m    830\u001B[0m       \u001B[0mnew_tracing_count\u001B[0m \u001B[0;34m=\u001B[0m \u001B[0mself\u001B[0m\u001B[0;34m.\u001B[0m\u001B[0mexperimental_get_tracing_count\u001B[0m\u001B[0;34m(\u001B[0m\u001B[0;34m)\u001B[0m\u001B[0;34m\u001B[0m\u001B[0;34m\u001B[0m\u001B[0m\n",
      "\u001B[0;32m~/anaconda3/envs/sls/lib/python3.9/site-packages/tensorflow/python/eager/def_function.py\u001B[0m in \u001B[0;36m_call\u001B[0;34m(self, *args, **kwds)\u001B[0m\n\u001B[1;32m    853\u001B[0m       \u001B[0;31m# In this case we have created variables on the first call, so we run the\u001B[0m\u001B[0;34m\u001B[0m\u001B[0;34m\u001B[0m\u001B[0m\n\u001B[1;32m    854\u001B[0m       \u001B[0;31m# defunned version which is guaranteed to never create variables.\u001B[0m\u001B[0;34m\u001B[0m\u001B[0;34m\u001B[0m\u001B[0m\n\u001B[0;32m--> 855\u001B[0;31m       \u001B[0;32mreturn\u001B[0m \u001B[0mself\u001B[0m\u001B[0;34m.\u001B[0m\u001B[0m_stateless_fn\u001B[0m\u001B[0;34m(\u001B[0m\u001B[0;34m*\u001B[0m\u001B[0margs\u001B[0m\u001B[0;34m,\u001B[0m \u001B[0;34m**\u001B[0m\u001B[0mkwds\u001B[0m\u001B[0;34m)\u001B[0m  \u001B[0;31m# pylint: disable=not-callable\u001B[0m\u001B[0;34m\u001B[0m\u001B[0;34m\u001B[0m\u001B[0m\n\u001B[0m\u001B[1;32m    856\u001B[0m     \u001B[0;32melif\u001B[0m \u001B[0mself\u001B[0m\u001B[0;34m.\u001B[0m\u001B[0m_stateful_fn\u001B[0m \u001B[0;32mis\u001B[0m \u001B[0;32mnot\u001B[0m \u001B[0;32mNone\u001B[0m\u001B[0;34m:\u001B[0m\u001B[0;34m\u001B[0m\u001B[0;34m\u001B[0m\u001B[0m\n\u001B[1;32m    857\u001B[0m       \u001B[0;31m# Release the lock early so that multiple threads can perform the call\u001B[0m\u001B[0;34m\u001B[0m\u001B[0;34m\u001B[0m\u001B[0m\n",
      "\u001B[0;32m~/anaconda3/envs/sls/lib/python3.9/site-packages/tensorflow/python/eager/function.py\u001B[0m in \u001B[0;36m__call__\u001B[0;34m(self, *args, **kwargs)\u001B[0m\n\u001B[1;32m   2940\u001B[0m       (graph_function,\n\u001B[1;32m   2941\u001B[0m        filtered_flat_args) = self._maybe_define_function(args, kwargs)\n\u001B[0;32m-> 2942\u001B[0;31m     return graph_function._call_flat(\n\u001B[0m\u001B[1;32m   2943\u001B[0m         filtered_flat_args, captured_inputs=graph_function.captured_inputs)  # pylint: disable=protected-access\n\u001B[1;32m   2944\u001B[0m \u001B[0;34m\u001B[0m\u001B[0m\n",
      "\u001B[0;32m~/anaconda3/envs/sls/lib/python3.9/site-packages/tensorflow/python/eager/function.py\u001B[0m in \u001B[0;36m_call_flat\u001B[0;34m(self, args, captured_inputs, cancellation_manager)\u001B[0m\n\u001B[1;32m   1916\u001B[0m         and executing_eagerly):\n\u001B[1;32m   1917\u001B[0m       \u001B[0;31m# No tape is watching; skip to running the function.\u001B[0m\u001B[0;34m\u001B[0m\u001B[0;34m\u001B[0m\u001B[0m\n\u001B[0;32m-> 1918\u001B[0;31m       return self._build_call_outputs(self._inference_function.call(\n\u001B[0m\u001B[1;32m   1919\u001B[0m           ctx, args, cancellation_manager=cancellation_manager))\n\u001B[1;32m   1920\u001B[0m     forward_backward = self._select_forward_and_backward_functions(\n",
      "\u001B[0;32m~/anaconda3/envs/sls/lib/python3.9/site-packages/tensorflow/python/eager/function.py\u001B[0m in \u001B[0;36mcall\u001B[0;34m(self, ctx, args, cancellation_manager)\u001B[0m\n\u001B[1;32m    553\u001B[0m       \u001B[0;32mwith\u001B[0m \u001B[0m_InterpolateFunctionError\u001B[0m\u001B[0;34m(\u001B[0m\u001B[0mself\u001B[0m\u001B[0;34m)\u001B[0m\u001B[0;34m:\u001B[0m\u001B[0;34m\u001B[0m\u001B[0;34m\u001B[0m\u001B[0m\n\u001B[1;32m    554\u001B[0m         \u001B[0;32mif\u001B[0m \u001B[0mcancellation_manager\u001B[0m \u001B[0;32mis\u001B[0m \u001B[0;32mNone\u001B[0m\u001B[0;34m:\u001B[0m\u001B[0;34m\u001B[0m\u001B[0;34m\u001B[0m\u001B[0m\n\u001B[0;32m--> 555\u001B[0;31m           outputs = execute.execute(\n\u001B[0m\u001B[1;32m    556\u001B[0m               \u001B[0mstr\u001B[0m\u001B[0;34m(\u001B[0m\u001B[0mself\u001B[0m\u001B[0;34m.\u001B[0m\u001B[0msignature\u001B[0m\u001B[0;34m.\u001B[0m\u001B[0mname\u001B[0m\u001B[0;34m)\u001B[0m\u001B[0;34m,\u001B[0m\u001B[0;34m\u001B[0m\u001B[0;34m\u001B[0m\u001B[0m\n\u001B[1;32m    557\u001B[0m               \u001B[0mnum_outputs\u001B[0m\u001B[0;34m=\u001B[0m\u001B[0mself\u001B[0m\u001B[0;34m.\u001B[0m\u001B[0m_num_outputs\u001B[0m\u001B[0;34m,\u001B[0m\u001B[0;34m\u001B[0m\u001B[0;34m\u001B[0m\u001B[0m\n",
      "\u001B[0;32m~/anaconda3/envs/sls/lib/python3.9/site-packages/tensorflow/python/eager/execute.py\u001B[0m in \u001B[0;36mquick_execute\u001B[0;34m(op_name, num_outputs, inputs, attrs, ctx, name)\u001B[0m\n\u001B[1;32m     57\u001B[0m   \u001B[0;32mtry\u001B[0m\u001B[0;34m:\u001B[0m\u001B[0;34m\u001B[0m\u001B[0;34m\u001B[0m\u001B[0m\n\u001B[1;32m     58\u001B[0m     \u001B[0mctx\u001B[0m\u001B[0;34m.\u001B[0m\u001B[0mensure_initialized\u001B[0m\u001B[0;34m(\u001B[0m\u001B[0;34m)\u001B[0m\u001B[0;34m\u001B[0m\u001B[0;34m\u001B[0m\u001B[0m\n\u001B[0;32m---> 59\u001B[0;31m     tensors = pywrap_tfe.TFE_Py_Execute(ctx._handle, device_name, op_name,\n\u001B[0m\u001B[1;32m     60\u001B[0m                                         inputs, attrs, num_outputs)\n\u001B[1;32m     61\u001B[0m   \u001B[0;32mexcept\u001B[0m \u001B[0mcore\u001B[0m\u001B[0;34m.\u001B[0m\u001B[0m_NotOkStatusException\u001B[0m \u001B[0;32mas\u001B[0m \u001B[0me\u001B[0m\u001B[0;34m:\u001B[0m\u001B[0;34m\u001B[0m\u001B[0;34m\u001B[0m\u001B[0m\n",
      "\u001B[0;31mKeyboardInterrupt\u001B[0m: "
     ]
    }
   ],
   "source": [
    "xception = build_base_model('xception', 'imagenet')\n",
    "xception_model = build_model(xception)\n",
    "xception_model = compile_model(xception_model, 0.0001, 0.9, 0.999, ['accuracy', 'Recall', 'Precision', 'AUC'])\n",
    "set_layers_trainable(False, xception)\n",
    "xc_history = train_model(xception_model, train_image_gen, valid_image_gen, 5, [])\n",
    "set_layers_trainable(True, xception)\n",
    "save_model(xception_model, 'xception_first_train_step', 'saved_models/first_train_step/default_params/full_data')\n",
    "tensorboard_callback = tf.keras.callbacks.TensorBoard(log_dir=\"./logs\", histogram_freq=5, write_graph=True,\n",
    "                                                      write_images=True)\n",
    "custom_early_stopping = keras.callbacks.EarlyStopping(monitor='val_loss', patience=20)\n",
    "xception_model = compile_model(xception_model, 0.0001, 0.9, 0.999, ['accuracy', 'Recall', 'Precision', 'AUC'])\n",
    "xc_history = train_model(xception_model, train_image_gen, valid_image_gen, 100,\n",
    "                         [custom_early_stopping, tensorboard_callback])\n",
    "loss, accuracy, recall, precision, auc = xception_model.evaluate(test_image_gen)\n",
    "# F1 score\n",
    "f1 = 2 * ((precision * recall) / (precision + recall))\n",
    "\n",
    "print(f\"loss: {loss}, \\n\"\n",
    "      f\"accuracy: {accuracy}, \\n\"\n",
    "      f\"recall: {recall}, \\n\"\n",
    "      f\"precision: {precision}, \\n\"\n",
    "      f\"auc: {auc}, \\n\"\n",
    "      f\"F1: {f1}\")\n",
    "save_model(xception_model, 'xception', 'saved_models/second_train_step/default_params/full_data')\n",
    "tf.config.get_visible_devices()\n",
    "metrics = xc_history.history\n",
    "plt.plot(xc_history.epoch, metrics['loss'], metrics['val_loss'])\n",
    "plt.legend(['loss', 'val_loss'])\n",
    "save_fig('xception_loss', tight_layout=False)\n",
    "plt.show()\n",
    "plt.plot(xc_history.epoch, metrics['accuracy'], metrics['val_accuracy'])\n",
    "plt.legend(['accuracy', 'val_accuracy'])\n",
    "save_fig('xception_accuracy', tight_layout=False)\n",
    "plt.show()\n",
    "plt.plot(xc_history.epoch, metrics['recall'], metrics['val_recall'])\n",
    "plt.legend(['recall', 'val_recall'])\n",
    "save_fig('xception_recall', tight_layout=False)\n",
    "plt.show()\n",
    "plt.plot(xc_history.epoch, metrics['precision'], metrics['val_precision'])\n",
    "plt.legend(['precision', 'val_precision'])\n",
    "save_fig('xception_precision', tight_layout=False)\n",
    "plt.show()\n",
    "plt.plot(xc_history.epoch, metrics['auc'], metrics['val_auc'])\n",
    "plt.legend(['auc', 'val_auc'])\n",
    "save_fig('xception_auc', tight_layout=False)\n",
    "plt.show()"
   ],
   "metadata": {
    "collapsed": false,
    "pycharm": {
     "name": "#%%\n"
    }
   }
  },
  {
   "cell_type": "code",
   "execution_count": null,
   "outputs": [],
   "source": [],
   "metadata": {
    "collapsed": false,
    "pycharm": {
     "name": "#%%\n"
    }
   }
  }
 ],
 "metadata": {
  "kernelspec": {
   "name": "pycharm-8f8e9c42",
   "language": "python",
   "display_name": "PyCharm (Quality Control of SLS manufacturing using Convolutional Neural Networks -implementation)"
  },
  "language_info": {
   "codemirror_mode": {
    "name": "ipython",
    "version": 2
   },
   "file_extension": ".py",
   "mimetype": "text/x-python",
   "name": "python",
   "nbconvert_exporter": "python",
   "pygments_lexer": "ipython2",
   "version": "2.7.6"
  }
 },
 "nbformat": 4,
 "nbformat_minor": 0
}