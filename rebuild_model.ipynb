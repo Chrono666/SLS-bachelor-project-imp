{
 "cells": [
  {
   "cell_type": "code",
   "execution_count": 1,
   "metadata": {
    "tags": []
   },
   "outputs": [
    {
     "name": "stderr",
     "output_type": "stream",
     "text": [
      "2021-12-05 18:20:28.604829: I tensorflow/stream_executor/platform/default/dso_loader.cc:49] Successfully opened dynamic library libcudart.so.10.1\n"
     ]
    }
   ],
   "source": [
    "import tensorflow as tf\n",
    "from tensorflow import keras\n",
    "import numpy as np\n",
    "import pandas as pd\n",
    "import datetime\n",
    "\n",
    "np.random.seed(42)\n",
    "tf.random.set_seed(42)\n",
    "\n",
    "import matplotlib as mpl\n",
    "import matplotlib.pyplot as plt\n",
    "\n",
    "mpl.rc('axes', labelsize=14)\n",
    "mpl.rc('xtick', labelsize=12)\n",
    "mpl.rc('ytick', labelsize=12)"
   ]
  },
  {
   "cell_type": "code",
   "execution_count": 2,
   "metadata": {
    "collapsed": false,
    "jupyter": {
     "outputs_hidden": false
    },
    "pycharm": {
     "name": "#%%\n"
    }
   },
   "outputs": [
    {
     "name": "stderr",
     "output_type": "stream",
     "text": [
      "2021-12-05 18:20:31.544240: I tensorflow/compiler/jit/xla_cpu_device.cc:41] Not creating XLA devices, tf_xla_enable_xla_devices not set\n",
      "2021-12-05 18:20:31.545196: I tensorflow/stream_executor/platform/default/dso_loader.cc:49] Successfully opened dynamic library libcuda.so.1\n",
      "2021-12-05 18:20:31.601159: I tensorflow/stream_executor/cuda/cuda_gpu_executor.cc:941] successful NUMA node read from SysFS had negative value (-1), but there must be at least one NUMA node, so returning NUMA node zero\n",
      "2021-12-05 18:20:31.601297: I tensorflow/core/common_runtime/gpu/gpu_device.cc:1720] Found device 0 with properties: \n",
      "pciBusID: 0000:01:00.0 name: NVIDIA GeForce GTX 1080 computeCapability: 6.1\n",
      "coreClock: 1.8225GHz coreCount: 20 deviceMemorySize: 7.93GiB deviceMemoryBandwidth: 298.32GiB/s\n",
      "2021-12-05 18:20:31.601314: I tensorflow/stream_executor/platform/default/dso_loader.cc:49] Successfully opened dynamic library libcudart.so.10.1\n",
      "2021-12-05 18:20:31.602721: I tensorflow/stream_executor/platform/default/dso_loader.cc:49] Successfully opened dynamic library libcublas.so.10\n",
      "2021-12-05 18:20:31.602795: I tensorflow/stream_executor/platform/default/dso_loader.cc:49] Successfully opened dynamic library libcublasLt.so.10\n",
      "2021-12-05 18:20:31.604274: I tensorflow/stream_executor/platform/default/dso_loader.cc:49] Successfully opened dynamic library libcufft.so.10\n",
      "2021-12-05 18:20:31.604653: I tensorflow/stream_executor/platform/default/dso_loader.cc:49] Successfully opened dynamic library libcurand.so.10\n",
      "2021-12-05 18:20:31.606169: I tensorflow/stream_executor/platform/default/dso_loader.cc:49] Successfully opened dynamic library libcusolver.so.10\n",
      "2021-12-05 18:20:31.607132: I tensorflow/stream_executor/platform/default/dso_loader.cc:49] Successfully opened dynamic library libcusparse.so.10\n",
      "2021-12-05 18:20:31.610360: I tensorflow/stream_executor/platform/default/dso_loader.cc:49] Successfully opened dynamic library libcudnn.so.7\n",
      "2021-12-05 18:20:31.610510: I tensorflow/stream_executor/cuda/cuda_gpu_executor.cc:941] successful NUMA node read from SysFS had negative value (-1), but there must be at least one NUMA node, so returning NUMA node zero\n",
      "2021-12-05 18:20:31.610683: I tensorflow/stream_executor/cuda/cuda_gpu_executor.cc:941] successful NUMA node read from SysFS had negative value (-1), but there must be at least one NUMA node, so returning NUMA node zero\n",
      "2021-12-05 18:20:31.610779: I tensorflow/core/common_runtime/gpu/gpu_device.cc:1862] Adding visible gpu devices: 0\n"
     ]
    },
    {
     "data": {
      "text/plain": "[PhysicalDevice(name='/physical_device:CPU:0', device_type='CPU'),\n PhysicalDevice(name='/physical_device:GPU:0', device_type='GPU')]"
     },
     "execution_count": 2,
     "metadata": {},
     "output_type": "execute_result"
    }
   ],
   "source": [
    "# lists possible devices (CPU, GPU)\n",
    "# used to check if GPU is recognized/exists\n",
    "tf.config.get_visible_devices()\n"
   ]
  },
  {
   "cell_type": "code",
   "execution_count": 3,
   "metadata": {
    "collapsed": false,
    "jupyter": {
     "outputs_hidden": false
    },
    "pycharm": {
     "name": "#%%\n"
    }
   },
   "outputs": [],
   "source": [
    "# preprocessing of the images applied when loading image data set from disk with\n",
    "# tensorflows flow_from_directory\n",
    "\n",
    "image_gen = keras.preprocessing.image.ImageDataGenerator(rotation_range=20,  # rotate the image 20 degrees\n",
    "                                                         width_shift_range=0.2,\n",
    "                                                         height_shift_range=0.2,\n",
    "                                                         rescale=1 / 255,  # Rescale the image by normalzing it.\n",
    "                                                         shear_range=0.15,\n",
    "                                                         # Shear means cutting away part of the image (max 20%)\n",
    "                                                         zoom_range=0.15,  # Zoom in by 15% max\n",
    "                                                         horizontal_flip=True,  # Allow horizontal flipping\n",
    "                                                         fill_mode='nearest'\n",
    "                                                         # Fill in missing pixels with the nearest filled value\n",
    "                                                         )"
   ]
  },
  {
   "cell_type": "code",
   "execution_count": 4,
   "metadata": {
    "collapsed": false,
    "jupyter": {
     "outputs_hidden": false
    },
    "pycharm": {
     "name": "#%%\n"
    }
   },
   "outputs": [],
   "source": [
    "# path to the image data set\n",
    "\n",
    "#train_data_path = './drive/MyDrive/Bachelor/data_balanced/train' #google colab\n",
    "#test_data_path = './drive/MyDrive/Bachelor/data_balanced/test' #google colab\n",
    "#validation_data_path = './drive/MyDrive/Bachelor/data_balanced/validation' #google colab\n",
    "train_data_path = './data/data_heavily_reduced/data_balanced/train'  #local notebook\n",
    "test_data_path = './data/data_heavily_reduced/data_balanced/test'  #local notebook\n",
    "validation_data_path = './data/data_heavily_reduced/data_balanced/val'  #local notebook\n"
   ]
  },
  {
   "cell_type": "code",
   "execution_count": 5,
   "metadata": {
    "collapsed": false,
    "jupyter": {
     "outputs_hidden": false
    },
    "pycharm": {
     "name": "#%%\n"
    }
   },
   "outputs": [
    {
     "name": "stdout",
     "output_type": "stream",
     "text": [
      "Found 7999 images belonging to 2 classes.\n"
     ]
    }
   ],
   "source": [
    "# generate training set by loading the images from their directories with flow_from_directory\n",
    "# important: the folder structure has to match! i.e {train} -> {ok,def}\n",
    "# at the \"same time\" the data augmentation is applied on the images through the ImageDataGenerator\n",
    "\n",
    "train_image_gen = image_gen.flow_from_directory(train_data_path,\n",
    "                                                target_size=(224, 224),\n",
    "                                                class_mode='binary')"
   ]
  },
  {
   "cell_type": "code",
   "execution_count": 6,
   "metadata": {
    "collapsed": false,
    "jupyter": {
     "outputs_hidden": false
    },
    "pycharm": {
     "name": "#%%\n"
    }
   },
   "outputs": [
    {
     "name": "stdout",
     "output_type": "stream",
     "text": [
      "Found 1001 images belonging to 2 classes.\n"
     ]
    }
   ],
   "source": [
    "# generate test set by loading the images from their directories with flow_from_directory\n",
    "# important: the folder structure has to match! i.e {test} -> {ok,def}\n",
    "# at the \"same time\" the data augmentation is applied on the images through the ImageDataGenerator\n",
    "\n",
    "test_image_gen = image_gen.flow_from_directory(test_data_path,\n",
    "                                               target_size=(224, 224),\n",
    "                                               class_mode='binary')"
   ]
  },
  {
   "cell_type": "code",
   "execution_count": 7,
   "metadata": {
    "collapsed": false,
    "jupyter": {
     "outputs_hidden": false
    },
    "pycharm": {
     "name": "#%%\n"
    }
   },
   "outputs": [
    {
     "name": "stdout",
     "output_type": "stream",
     "text": [
      "Found 999 images belonging to 2 classes.\n"
     ]
    }
   ],
   "source": [
    "# generate validation set by loading the images from their directories with flow_from_directory\n",
    "# important: the folder structure has to match! i.e {validation} -> {ok,def}\n",
    "# at the \"same time\" the data augmentation is applied on the images through the ImageDataGenerator\n",
    "\n",
    "valid_set = image_gen.flow_from_directory(validation_data_path,\n",
    "                                          target_size=(224, 224),\n",
    "                                          class_mode='binary')"
   ]
  },
  {
   "cell_type": "code",
   "execution_count": 8,
   "metadata": {
    "collapsed": false,
    "jupyter": {
     "outputs_hidden": false
    },
    "pycharm": {
     "name": "#%%\n"
    }
   },
   "outputs": [],
   "source": [
    "# saves the model and its weights as a json file in the folder saved_models\n",
    "\n",
    "def save_model(model, model_name):\n",
    "    my_model = model.to_json()\n",
    "    with open(f'./saved_models/{model_name}.json', \"w\") as file:\n",
    "        file.write(my_model)\n",
    "    # serialize weights to HDF5\n",
    "    model.save_weights(f'./saved_models/{model_name}_weights.h5')"
   ]
  },
  {
   "cell_type": "code",
   "execution_count": 9,
   "metadata": {
    "collapsed": false,
    "jupyter": {
     "outputs_hidden": false
    },
    "pycharm": {
     "name": "#%%\n"
    }
   },
   "outputs": [],
   "source": [
    "#TODO: load model no compiling ?\n",
    "\n",
    "def load_model(model_path, weight_path):\n",
    "    # load json and create model\n",
    "    file = open(model_path, 'r')\n",
    "    model_json = file.read()\n",
    "    file.close()\n",
    "    loaded_model = keras.models.model_from_json(model_json)\n",
    "    # load weights\n",
    "    loaded_model.load_weights(weight_path)\n",
    "    optimizer = keras.optimizers.Adam(learning_rate=0.0001, beta_1=0.9, beta_2=0.999)\n",
    "    loaded_model.compile(loss=\"binary_crossentropy\", optimizer=optimizer,\n",
    "                         metrics=['accuracy', 'Recall', 'Precision', 'AUC'])\n",
    "    return loaded_model"
   ]
  },
  {
   "cell_type": "code",
   "execution_count": 18,
   "outputs": [],
   "source": [
    "input = tf.keras.Input(shape=(224, 224, 3))\n",
    "vgg16 = tf.keras.applications.vgg16.VGG16(weights='imagenet',\n",
    "                                          include_top=False,\n",
    "                                          input_tensor=input)\n",
    "\n",
    "\n",
    "flat = keras.layers.Flatten(name='flatten')(vgg16.output)\n",
    "dense_1 = keras.layers.Dense(1000)(flat)\n",
    "dropout = keras.layers.Dropout(0.25)(dense_1)\n",
    "batch = keras.layers.BatchNormalization()(dropout)\n",
    "output = keras.layers.Dense(1, activation='sigmoid')(batch)\n",
    "\n",
    "# bind all\n",
    "model = tf.keras.Model(vgg16.input, output)"
   ],
   "metadata": {
    "collapsed": false,
    "pycharm": {
     "name": "#%%\n"
    }
   }
  },
  {
   "cell_type": "code",
   "execution_count": 19,
   "metadata": {
    "collapsed": false,
    "jupyter": {
     "outputs_hidden": false
    },
    "pycharm": {
     "name": "#%%\n"
    }
   },
   "outputs": [
    {
     "name": "stdout",
     "output_type": "stream",
     "text": [
      "Model: \"model_3\"\n",
      "_________________________________________________________________\n",
      "Layer (type)                 Output Shape              Param #   \n",
      "=================================================================\n",
      "input_5 (InputLayer)         [(None, 224, 224, 3)]     0         \n",
      "_________________________________________________________________\n",
      "block1_conv1 (Conv2D)        (None, 224, 224, 64)      1792      \n",
      "_________________________________________________________________\n",
      "block1_conv2 (Conv2D)        (None, 224, 224, 64)      36928     \n",
      "_________________________________________________________________\n",
      "block1_pool (MaxPooling2D)   (None, 112, 112, 64)      0         \n",
      "_________________________________________________________________\n",
      "block2_conv1 (Conv2D)        (None, 112, 112, 128)     73856     \n",
      "_________________________________________________________________\n",
      "block2_conv2 (Conv2D)        (None, 112, 112, 128)     147584    \n",
      "_________________________________________________________________\n",
      "block2_pool (MaxPooling2D)   (None, 56, 56, 128)       0         \n",
      "_________________________________________________________________\n",
      "block3_conv1 (Conv2D)        (None, 56, 56, 256)       295168    \n",
      "_________________________________________________________________\n",
      "block3_conv2 (Conv2D)        (None, 56, 56, 256)       590080    \n",
      "_________________________________________________________________\n",
      "block3_conv3 (Conv2D)        (None, 56, 56, 256)       590080    \n",
      "_________________________________________________________________\n",
      "block3_pool (MaxPooling2D)   (None, 28, 28, 256)       0         \n",
      "_________________________________________________________________\n",
      "block4_conv1 (Conv2D)        (None, 28, 28, 512)       1180160   \n",
      "_________________________________________________________________\n",
      "block4_conv2 (Conv2D)        (None, 28, 28, 512)       2359808   \n",
      "_________________________________________________________________\n",
      "block4_conv3 (Conv2D)        (None, 28, 28, 512)       2359808   \n",
      "_________________________________________________________________\n",
      "block4_pool (MaxPooling2D)   (None, 14, 14, 512)       0         \n",
      "_________________________________________________________________\n",
      "block5_conv1 (Conv2D)        (None, 14, 14, 512)       2359808   \n",
      "_________________________________________________________________\n",
      "block5_conv2 (Conv2D)        (None, 14, 14, 512)       2359808   \n",
      "_________________________________________________________________\n",
      "block5_conv3 (Conv2D)        (None, 14, 14, 512)       2359808   \n",
      "_________________________________________________________________\n",
      "block5_pool (MaxPooling2D)   (None, 7, 7, 512)         0         \n",
      "_________________________________________________________________\n",
      "flatten (Flatten)            (None, 25088)             0         \n",
      "_________________________________________________________________\n",
      "dense_7 (Dense)              (None, 1000)              25089000  \n",
      "_________________________________________________________________\n",
      "dropout_3 (Dropout)          (None, 1000)              0         \n",
      "_________________________________________________________________\n",
      "batch_normalization_3 (Batch (None, 1000)              4000      \n",
      "_________________________________________________________________\n",
      "dense_8 (Dense)              (None, 1)                 1001      \n",
      "=================================================================\n",
      "Total params: 39,808,689\n",
      "Trainable params: 39,806,689\n",
      "Non-trainable params: 2,000\n",
      "_________________________________________________________________\n"
     ]
    }
   ],
   "source": [
    "model.summary()"
   ]
  },
  {
   "cell_type": "code",
   "execution_count": 20,
   "outputs": [
    {
     "name": "stdout",
     "output_type": "stream",
     "text": [
      "Epoch 1/5\n"
     ]
    },
    {
     "name": "stderr",
     "output_type": "stream",
     "text": [
      "2021-12-05 18:29:10.239557: I tensorflow/stream_executor/platform/default/dso_loader.cc:49] Successfully opened dynamic library libcublas.so.10\n",
      "2021-12-05 18:29:10.509911: I tensorflow/stream_executor/platform/default/dso_loader.cc:49] Successfully opened dynamic library libcudnn.so.7\n",
      "2021-12-05 18:29:10.963660: W tensorflow/stream_executor/gpu/asm_compiler.cc:63] Running ptxas --version returned 256\n",
      "2021-12-05 18:29:10.991415: W tensorflow/stream_executor/gpu/redzone_allocator.cc:314] Internal: ptxas exited with non-zero error code 256, output: \n",
      "Relying on driver to perform ptx compilation. \n",
      "Modify $PATH to customize ptxas location.\n",
      "This message will be only logged once.\n",
      "2021-12-05 18:29:11.609005: W tensorflow/core/common_runtime/bfc_allocator.cc:248] Allocator (GPU_0_bfc) ran out of memory trying to allocate 3.46GiB with freed_by_count=0. The caller indicates that this is not a failure, but may mean that there could be performance gains if more memory were available.\n",
      "2021-12-05 18:29:19.536195: W tensorflow/core/common_runtime/bfc_allocator.cc:248] Allocator (GPU_0_bfc) ran out of memory trying to allocate 2.55GiB with freed_by_count=0. The caller indicates that this is not a failure, but may mean that there could be performance gains if more memory were available.\n",
      "2021-12-05 18:29:21.178775: W tensorflow/core/common_runtime/bfc_allocator.cc:248] Allocator (GPU_0_bfc) ran out of memory trying to allocate 3.04GiB with freed_by_count=0. The caller indicates that this is not a failure, but may mean that there could be performance gains if more memory were available.\n"
     ]
    },
    {
     "name": "stdout",
     "output_type": "stream",
     "text": [
      " 85/250 [=========>....................] - ETA: 56s - loss: 0.5086 - accuracy: 0.7832 - recall: 0.7869 - precision: 0.7890 - auc: 0.8547"
     ]
    },
    {
     "name": "stderr",
     "output_type": "stream",
     "text": [
      "2021-12-05 18:29:52.121489: W tensorflow/core/common_runtime/bfc_allocator.cc:248] Allocator (GPU_0_bfc) ran out of memory trying to allocate 3.35GiB with freed_by_count=0. The caller indicates that this is not a failure, but may mean that there could be performance gains if more memory were available.\n",
      "2021-12-05 18:30:00.924356: W tensorflow/core/common_runtime/bfc_allocator.cc:248] Allocator (GPU_0_bfc) ran out of memory trying to allocate 2.54GiB with freed_by_count=0. The caller indicates that this is not a failure, but may mean that there could be performance gains if more memory were available.\n",
      "2021-12-05 18:30:02.748546: W tensorflow/core/common_runtime/bfc_allocator.cc:248] Allocator (GPU_0_bfc) ran out of memory trying to allocate 3.01GiB with freed_by_count=0. The caller indicates that this is not a failure, but may mean that there could be performance gains if more memory were available.\n"
     ]
    },
    {
     "name": "stdout",
     "output_type": "stream",
     "text": [
      "250/250 [==============================] - 128s 461ms/step - loss: 0.3885 - accuracy: 0.8424 - recall: 0.8472 - precision: 0.8410 - auc: 0.9130 - val_loss: 4.1584 - val_accuracy: 0.5025 - val_recall: 0.0060 - val_precision: 1.0000 - val_auc: 0.5939\n",
      "Epoch 2/5\n",
      "250/250 [==============================] - 98s 389ms/step - loss: 0.1756 - accuracy: 0.9341 - recall: 0.9439 - precision: 0.9267 - auc: 0.9820 - val_loss: 0.2255 - val_accuracy: 0.9241 - val_recall: 0.9960 - val_precision: 0.8709 - val_auc: 0.9844\n",
      "Epoch 3/5\n",
      "250/250 [==============================] - 94s 374ms/step - loss: 0.1097 - accuracy: 0.9588 - recall: 0.9637 - precision: 0.9544 - auc: 0.9916 - val_loss: 0.1401 - val_accuracy: 0.9540 - val_recall: 1.0000 - val_precision: 0.9159 - val_auc: 0.9964\n",
      "Epoch 4/5\n",
      "250/250 [==============================] - 93s 372ms/step - loss: 0.0844 - accuracy: 0.9675 - recall: 0.9735 - precision: 0.9626 - auc: 0.9948 - val_loss: 0.0709 - val_accuracy: 0.9770 - val_recall: 0.9960 - val_precision: 0.9596 - val_auc: 0.9968\n",
      "Epoch 5/5\n",
      "250/250 [==============================] - 95s 378ms/step - loss: 0.1157 - accuracy: 0.9593 - recall: 0.9671 - precision: 0.9519 - auc: 0.9907 - val_loss: 0.0988 - val_accuracy: 0.9610 - val_recall: 0.9960 - val_precision: 0.9310 - val_auc: 0.9985\n",
      "Epoch 1/100\n",
      "250/250 [==============================] - 95s 376ms/step - loss: 0.0623 - accuracy: 0.9756 - recall: 0.9812 - precision: 0.9703 - auc: 0.9971 - val_loss: 0.0272 - val_accuracy: 0.9890 - val_recall: 0.9980 - val_precision: 0.9804 - val_auc: 0.9998\n",
      "Epoch 2/100\n",
      "250/250 [==============================] - 95s 379ms/step - loss: 0.0662 - accuracy: 0.9769 - recall: 0.9808 - precision: 0.9732 - auc: 0.9960 - val_loss: 0.0308 - val_accuracy: 0.9880 - val_recall: 1.0000 - val_precision: 0.9766 - val_auc: 0.9997\n",
      "Epoch 3/100\n",
      "250/250 [==============================] - 95s 380ms/step - loss: 0.0410 - accuracy: 0.9835 - recall: 0.9839 - precision: 0.9830 - auc: 0.9988 - val_loss: 0.1794 - val_accuracy: 0.9481 - val_recall: 0.9960 - val_precision: 0.9089 - val_auc: 0.9890\n",
      "Epoch 4/100\n",
      "250/250 [==============================] - 97s 387ms/step - loss: 0.0396 - accuracy: 0.9853 - recall: 0.9848 - precision: 0.9862 - auc: 0.9987 - val_loss: 0.0495 - val_accuracy: 0.9790 - val_recall: 0.9601 - val_precision: 0.9979 - val_auc: 0.9994\n",
      "Epoch 5/100\n",
      "250/250 [==============================] - 94s 373ms/step - loss: 0.0421 - accuracy: 0.9843 - recall: 0.9843 - precision: 0.9847 - auc: 0.9983 - val_loss: 0.1851 - val_accuracy: 0.9251 - val_recall: 0.9980 - val_precision: 0.8711 - val_auc: 0.9992\n",
      "Epoch 6/100\n",
      "250/250 [==============================] - 110s 438ms/step - loss: 0.0429 - accuracy: 0.9855 - recall: 0.9851 - precision: 0.9855 - auc: 0.9973 - val_loss: 0.0118 - val_accuracy: 0.9950 - val_recall: 0.9960 - val_precision: 0.9940 - val_auc: 0.9999\n",
      "Epoch 7/100\n",
      "250/250 [==============================] - 99s 394ms/step - loss: 0.0293 - accuracy: 0.9902 - recall: 0.9909 - precision: 0.9896 - auc: 0.9990 - val_loss: 0.0198 - val_accuracy: 0.9930 - val_recall: 1.0000 - val_precision: 0.9862 - val_auc: 1.0000\n",
      "Epoch 8/100\n",
      "250/250 [==============================] - 97s 387ms/step - loss: 0.0257 - accuracy: 0.9932 - recall: 0.9942 - precision: 0.9923 - auc: 0.9988 - val_loss: 0.0501 - val_accuracy: 0.9820 - val_recall: 0.9641 - val_precision: 1.0000 - val_auc: 0.9999\n",
      "Epoch 9/100\n",
      "250/250 [==============================] - 98s 390ms/step - loss: 0.0326 - accuracy: 0.9873 - recall: 0.9888 - precision: 0.9857 - auc: 0.9989 - val_loss: 0.0299 - val_accuracy: 0.9880 - val_recall: 0.9800 - val_precision: 0.9959 - val_auc: 0.9995\n",
      "Epoch 10/100\n",
      "250/250 [==============================] - 97s 387ms/step - loss: 0.0356 - accuracy: 0.9878 - recall: 0.9872 - precision: 0.9882 - auc: 0.9988 - val_loss: 0.0616 - val_accuracy: 0.9870 - val_recall: 0.9980 - val_precision: 0.9766 - val_auc: 0.9946\n",
      "Epoch 11/100\n",
      "250/250 [==============================] - 98s 391ms/step - loss: 0.0371 - accuracy: 0.9849 - recall: 0.9866 - precision: 0.9836 - auc: 0.9986 - val_loss: 0.8679 - val_accuracy: 0.7053 - val_recall: 1.0000 - val_precision: 0.6294 - val_auc: 0.9650\n",
      "Epoch 12/100\n",
      "250/250 [==============================] - 100s 399ms/step - loss: 0.0356 - accuracy: 0.9883 - recall: 0.9895 - precision: 0.9871 - auc: 0.9988 - val_loss: 0.0252 - val_accuracy: 0.9950 - val_recall: 0.9900 - val_precision: 1.0000 - val_auc: 0.9990\n",
      "Epoch 13/100\n",
      "250/250 [==============================] - 100s 398ms/step - loss: 0.0204 - accuracy: 0.9929 - recall: 0.9925 - precision: 0.9933 - auc: 0.9993 - val_loss: 0.0098 - val_accuracy: 0.9970 - val_recall: 0.9980 - val_precision: 0.9960 - val_auc: 1.0000\n",
      "Epoch 14/100\n",
      "250/250 [==============================] - 101s 403ms/step - loss: 0.0243 - accuracy: 0.9929 - recall: 0.9938 - precision: 0.9918 - auc: 0.9989 - val_loss: 0.0082 - val_accuracy: 0.9990 - val_recall: 1.0000 - val_precision: 0.9980 - val_auc: 0.9999\n",
      "Epoch 15/100\n",
      "250/250 [==============================] - 99s 397ms/step - loss: 0.0237 - accuracy: 0.9913 - recall: 0.9913 - precision: 0.9913 - auc: 0.9992 - val_loss: 0.0076 - val_accuracy: 0.9990 - val_recall: 0.9980 - val_precision: 1.0000 - val_auc: 1.0000\n",
      "Epoch 16/100\n",
      "250/250 [==============================] - 100s 398ms/step - loss: 0.0175 - accuracy: 0.9934 - recall: 0.9931 - precision: 0.9939 - auc: 0.9997 - val_loss: 0.1405 - val_accuracy: 0.9411 - val_recall: 0.8822 - val_precision: 1.0000 - val_auc: 0.9997\n",
      "Epoch 17/100\n",
      "250/250 [==============================] - 100s 398ms/step - loss: 0.0254 - accuracy: 0.9918 - recall: 0.9929 - precision: 0.9907 - auc: 0.9989 - val_loss: 0.0245 - val_accuracy: 0.9940 - val_recall: 0.9900 - val_precision: 0.9980 - val_auc: 0.9989\n",
      "Epoch 18/100\n",
      "250/250 [==============================] - 100s 399ms/step - loss: 0.0209 - accuracy: 0.9931 - recall: 0.9932 - precision: 0.9930 - auc: 0.9994 - val_loss: 0.0100 - val_accuracy: 0.9960 - val_recall: 1.0000 - val_precision: 0.9921 - val_auc: 1.0000\n",
      "Epoch 19/100\n",
      "250/250 [==============================] - 100s 398ms/step - loss: 0.0177 - accuracy: 0.9940 - recall: 0.9938 - precision: 0.9940 - auc: 0.9995 - val_loss: 0.2530 - val_accuracy: 0.9101 - val_recall: 0.8204 - val_precision: 1.0000 - val_auc: 0.9940\n",
      "Epoch 20/100\n",
      "250/250 [==============================] - 100s 398ms/step - loss: 0.0184 - accuracy: 0.9927 - recall: 0.9912 - precision: 0.9943 - auc: 0.9996 - val_loss: 0.0034 - val_accuracy: 0.9990 - val_recall: 1.0000 - val_precision: 0.9980 - val_auc: 1.0000\n",
      "Epoch 21/100\n",
      "250/250 [==============================] - 101s 403ms/step - loss: 0.0182 - accuracy: 0.9932 - recall: 0.9935 - precision: 0.9932 - auc: 0.9997 - val_loss: 0.0147 - val_accuracy: 0.9940 - val_recall: 1.0000 - val_precision: 0.9882 - val_auc: 1.0000\n",
      "Epoch 22/100\n",
      "250/250 [==============================] - 100s 398ms/step - loss: 0.0310 - accuracy: 0.9898 - recall: 0.9907 - precision: 0.9886 - auc: 0.9985 - val_loss: 0.0022 - val_accuracy: 1.0000 - val_recall: 1.0000 - val_precision: 1.0000 - val_auc: 1.0000\n",
      "Epoch 23/100\n",
      "250/250 [==============================] - 99s 397ms/step - loss: 0.0217 - accuracy: 0.9916 - recall: 0.9917 - precision: 0.9908 - auc: 0.9993 - val_loss: 0.0042 - val_accuracy: 0.9990 - val_recall: 1.0000 - val_precision: 0.9980 - val_auc: 1.0000\n",
      "Epoch 24/100\n",
      "250/250 [==============================] - 100s 398ms/step - loss: 0.0213 - accuracy: 0.9944 - recall: 0.9954 - precision: 0.9936 - auc: 0.9990 - val_loss: 0.0032 - val_accuracy: 0.9990 - val_recall: 1.0000 - val_precision: 0.9980 - val_auc: 1.0000\n",
      "Epoch 25/100\n",
      "250/250 [==============================] - 105s 419ms/step - loss: 0.0162 - accuracy: 0.9932 - recall: 0.9934 - precision: 0.9929 - auc: 0.9998 - val_loss: 0.0174 - val_accuracy: 0.9950 - val_recall: 1.0000 - val_precision: 0.9901 - val_auc: 0.9990\n",
      "Epoch 26/100\n",
      "250/250 [==============================] - 107s 428ms/step - loss: 0.0159 - accuracy: 0.9950 - recall: 0.9954 - precision: 0.9946 - auc: 0.9995 - val_loss: 0.0093 - val_accuracy: 0.9950 - val_recall: 1.0000 - val_precision: 0.9901 - val_auc: 1.0000\n",
      "Epoch 27/100\n",
      "250/250 [==============================] - 108s 430ms/step - loss: 0.0332 - accuracy: 0.9899 - recall: 0.9937 - precision: 0.9863 - auc: 0.9984 - val_loss: 0.0613 - val_accuracy: 0.9790 - val_recall: 0.9581 - val_precision: 1.0000 - val_auc: 0.9980\n",
      "Epoch 28/100\n",
      "250/250 [==============================] - 108s 431ms/step - loss: 0.0113 - accuracy: 0.9946 - recall: 0.9950 - precision: 0.9943 - auc: 0.9999 - val_loss: 0.0013 - val_accuracy: 1.0000 - val_recall: 1.0000 - val_precision: 1.0000 - val_auc: 1.0000\n",
      "Epoch 29/100\n",
      "250/250 [==============================] - 109s 436ms/step - loss: 0.0203 - accuracy: 0.9925 - recall: 0.9924 - precision: 0.9924 - auc: 0.9995 - val_loss: 0.0023 - val_accuracy: 0.9990 - val_recall: 0.9980 - val_precision: 1.0000 - val_auc: 1.0000\n",
      "Epoch 30/100\n",
      "250/250 [==============================] - 110s 439ms/step - loss: 0.0097 - accuracy: 0.9972 - recall: 0.9970 - precision: 0.9974 - auc: 0.9999 - val_loss: 0.0620 - val_accuracy: 0.9820 - val_recall: 0.9721 - val_precision: 0.9919 - val_auc: 0.9974\n",
      "Epoch 31/100\n",
      "250/250 [==============================] - 110s 439ms/step - loss: 0.0256 - accuracy: 0.9905 - recall: 0.9885 - precision: 0.9926 - auc: 0.9992 - val_loss: 0.0227 - val_accuracy: 0.9930 - val_recall: 1.0000 - val_precision: 0.9862 - val_auc: 0.9989\n",
      "Epoch 32/100\n",
      "250/250 [==============================] - 110s 438ms/step - loss: 0.0168 - accuracy: 0.9933 - recall: 0.9933 - precision: 0.9933 - auc: 0.9997 - val_loss: 0.0039 - val_accuracy: 0.9990 - val_recall: 1.0000 - val_precision: 0.9980 - val_auc: 1.0000\n",
      "Epoch 33/100\n",
      "250/250 [==============================] - 110s 439ms/step - loss: 0.0102 - accuracy: 0.9973 - recall: 0.9970 - precision: 0.9975 - auc: 0.9995 - val_loss: 7.1709e-04 - val_accuracy: 1.0000 - val_recall: 1.0000 - val_precision: 1.0000 - val_auc: 1.0000\n",
      "Epoch 34/100\n",
      "250/250 [==============================] - 107s 427ms/step - loss: 0.0036 - accuracy: 0.9991 - recall: 0.9993 - precision: 0.9990 - auc: 1.0000 - val_loss: 0.1177 - val_accuracy: 0.9720 - val_recall: 0.9441 - val_precision: 1.0000 - val_auc: 0.9940\n",
      "Epoch 35/100\n",
      "250/250 [==============================] - 99s 394ms/step - loss: 0.0342 - accuracy: 0.9865 - recall: 0.9849 - precision: 0.9883 - auc: 0.9990 - val_loss: 0.0519 - val_accuracy: 0.9830 - val_recall: 0.9661 - val_precision: 1.0000 - val_auc: 0.9970\n",
      "Epoch 36/100\n",
      "250/250 [==============================] - 99s 395ms/step - loss: 0.0204 - accuracy: 0.9915 - recall: 0.9912 - precision: 0.9920 - auc: 0.9994 - val_loss: 0.0105 - val_accuracy: 0.9940 - val_recall: 0.9980 - val_precision: 0.9901 - val_auc: 1.0000\n",
      "Epoch 37/100\n",
      "250/250 [==============================] - 99s 397ms/step - loss: 0.0118 - accuracy: 0.9958 - recall: 0.9960 - precision: 0.9956 - auc: 0.9999 - val_loss: 0.0198 - val_accuracy: 0.9950 - val_recall: 0.9900 - val_precision: 1.0000 - val_auc: 0.9990\n",
      "Epoch 38/100\n",
      "250/250 [==============================] - 100s 400ms/step - loss: 0.0123 - accuracy: 0.9960 - recall: 0.9947 - precision: 0.9974 - auc: 0.9997 - val_loss: 0.0068 - val_accuracy: 0.9980 - val_recall: 1.0000 - val_precision: 0.9960 - val_auc: 1.0000\n",
      "Epoch 39/100\n",
      "250/250 [==============================] - 101s 402ms/step - loss: 0.0115 - accuracy: 0.9958 - recall: 0.9948 - precision: 0.9970 - auc: 0.9999 - val_loss: 0.0119 - val_accuracy: 0.9950 - val_recall: 1.0000 - val_precision: 0.9901 - val_auc: 1.0000\n",
      "Epoch 40/100\n",
      "250/250 [==============================] - 101s 404ms/step - loss: 0.0084 - accuracy: 0.9966 - recall: 0.9969 - precision: 0.9963 - auc: 0.9999 - val_loss: 0.0071 - val_accuracy: 0.9970 - val_recall: 0.9940 - val_precision: 1.0000 - val_auc: 1.0000\n",
      "Epoch 41/100\n",
      "250/250 [==============================] - 104s 414ms/step - loss: 0.0165 - accuracy: 0.9941 - recall: 0.9941 - precision: 0.9941 - auc: 0.9997 - val_loss: 0.0093 - val_accuracy: 0.9980 - val_recall: 1.0000 - val_precision: 0.9960 - val_auc: 1.0000\n",
      "Epoch 42/100\n",
      "250/250 [==============================] - 99s 395ms/step - loss: 0.0128 - accuracy: 0.9959 - recall: 0.9947 - precision: 0.9971 - auc: 0.9996 - val_loss: 0.0384 - val_accuracy: 0.9860 - val_recall: 1.0000 - val_precision: 0.9728 - val_auc: 0.9990\n",
      "Epoch 43/100\n",
      "250/250 [==============================] - 97s 386ms/step - loss: 0.0089 - accuracy: 0.9974 - recall: 0.9974 - precision: 0.9974 - auc: 1.0000 - val_loss: 0.0074 - val_accuracy: 0.9970 - val_recall: 0.9940 - val_precision: 1.0000 - val_auc: 1.0000\n",
      "Epoch 44/100\n",
      "250/250 [==============================] - 98s 389ms/step - loss: 0.0052 - accuracy: 0.9978 - recall: 0.9977 - precision: 0.9978 - auc: 1.0000 - val_loss: 0.0053 - val_accuracy: 0.9980 - val_recall: 0.9980 - val_precision: 0.9980 - val_auc: 1.0000\n",
      "Epoch 45/100\n",
      "250/250 [==============================] - 100s 400ms/step - loss: 0.0166 - accuracy: 0.9947 - recall: 0.9953 - precision: 0.9942 - auc: 0.9996 - val_loss: 0.0801 - val_accuracy: 0.9790 - val_recall: 0.9581 - val_precision: 1.0000 - val_auc: 0.9950\n",
      "Epoch 46/100\n",
      "250/250 [==============================] - 98s 391ms/step - loss: 0.0115 - accuracy: 0.9958 - recall: 0.9951 - precision: 0.9965 - auc: 0.9999 - val_loss: 0.0046 - val_accuracy: 0.9980 - val_recall: 1.0000 - val_precision: 0.9960 - val_auc: 1.0000\n",
      "Epoch 47/100\n",
      "250/250 [==============================] - 99s 394ms/step - loss: 0.0049 - accuracy: 0.9982 - recall: 0.9992 - precision: 0.9973 - auc: 0.9998 - val_loss: 0.0130 - val_accuracy: 0.9960 - val_recall: 1.0000 - val_precision: 0.9921 - val_auc: 0.9999\n",
      "Epoch 48/100\n",
      "250/250 [==============================] - 100s 397ms/step - loss: 0.0171 - accuracy: 0.9951 - recall: 0.9952 - precision: 0.9949 - auc: 0.9994 - val_loss: 0.0195 - val_accuracy: 0.9940 - val_recall: 0.9880 - val_precision: 1.0000 - val_auc: 1.0000\n",
      "Epoch 49/100\n",
      "250/250 [==============================] - 101s 403ms/step - loss: 0.0113 - accuracy: 0.9959 - recall: 0.9956 - precision: 0.9961 - auc: 0.9997 - val_loss: 0.0058 - val_accuracy: 0.9970 - val_recall: 1.0000 - val_precision: 0.9940 - val_auc: 1.0000\n",
      "Epoch 50/100\n",
      "250/250 [==============================] - 100s 398ms/step - loss: 0.0076 - accuracy: 0.9976 - recall: 0.9980 - precision: 0.9972 - auc: 0.9999 - val_loss: 0.6906 - val_accuracy: 0.8242 - val_recall: 0.6487 - val_precision: 1.0000 - val_auc: 0.9551\n",
      "Epoch 51/100\n",
      "250/250 [==============================] - 100s 401ms/step - loss: 0.0149 - accuracy: 0.9954 - recall: 0.9946 - precision: 0.9964 - auc: 0.9995 - val_loss: 0.0054 - val_accuracy: 0.9970 - val_recall: 1.0000 - val_precision: 0.9940 - val_auc: 1.0000\n",
      "Epoch 52/100\n",
      "250/250 [==============================] - 101s 402ms/step - loss: 0.0086 - accuracy: 0.9969 - recall: 0.9967 - precision: 0.9970 - auc: 0.9999 - val_loss: 0.0017 - val_accuracy: 0.9990 - val_recall: 0.9980 - val_precision: 1.0000 - val_auc: 1.0000\n",
      "Epoch 53/100\n",
      "250/250 [==============================] - 102s 406ms/step - loss: 0.0112 - accuracy: 0.9958 - recall: 0.9957 - precision: 0.9960 - auc: 0.9999 - val_loss: 0.0209 - val_accuracy: 0.9900 - val_recall: 0.9800 - val_precision: 1.0000 - val_auc: 1.0000\n"
     ]
    }
   ],
   "source": [
    "optimizer = keras.optimizers.Adam(learning_rate=0.0001, beta_1=0.9, beta_2=0.999)\n",
    "\n",
    "model.compile(loss=\"binary_crossentropy\", optimizer=optimizer, metrics=['accuracy', 'Recall', 'Precision', 'AUC'])\n",
    "\n",
    "# freeze layers\n",
    "for layer in vgg16.layers:\n",
    "    layer.trainable = False\n",
    "\n",
    "history = model.fit(train_image_gen,\n",
    "                    validation_data=test_image_gen,\n",
    "                    epochs=5,\n",
    "                    callbacks=[])\n",
    "\n",
    "# un freeze\n",
    "for layer in vgg16.layers:\n",
    "    layer.trainable = True\n",
    "custom_early_stopping = keras.callbacks.EarlyStopping(patience=20)\n",
    "\n",
    "model.compile(loss=\"binary_crossentropy\", optimizer=optimizer, metrics=['accuracy', 'Recall', 'Precision', 'AUC'])\n",
    "history = model.fit(train_image_gen,\n",
    "                    validation_data=test_image_gen,\n",
    "                    epochs=100,\n",
    "                    callbacks=[custom_early_stopping])\n"
   ],
   "metadata": {
    "collapsed": false,
    "pycharm": {
     "name": "#%%\n"
    }
   }
  },
  {
   "cell_type": "code",
   "execution_count": 21,
   "outputs": [
    {
     "data": {
      "text/plain": "<tensorflow.python.keras.callbacks.History at 0x7f5fc8527d30>"
     },
     "execution_count": 21,
     "metadata": {},
     "output_type": "execute_result"
    }
   ],
   "source": [
    "history"
   ],
   "metadata": {
    "collapsed": false,
    "pycharm": {
     "name": "#%%\n"
    }
   }
  },
  {
   "cell_type": "code",
   "execution_count": 22,
   "outputs": [],
   "source": [
    "save_model(model, 'vgg16_heavily_reduced_data_v2')"
   ],
   "metadata": {
    "collapsed": false,
    "pycharm": {
     "name": "#%%\n"
    }
   }
  },
  {
   "cell_type": "code",
   "execution_count": 23,
   "outputs": [],
   "source": [
    "from tensorflow.keras.models import Model\n",
    "import cv2\n",
    "\n",
    "\n",
    "class GradCAM:\n",
    "    def __init__(self, model, classIdx, layerName=None):\n",
    "        # store the model, the class index used to measure the class\n",
    "        # activation map, and the layer to be used when visualizing\n",
    "        # the class activation map\n",
    "        self.model = model\n",
    "        self.classIdx = classIdx\n",
    "        self.layerName = layerName\n",
    "        # if the layer name is None, attempt to automatically find\n",
    "        # the target output layer\n",
    "        if self.layerName is None:\n",
    "            self.layerName = self.find_target_layer()\n",
    "\n",
    "    def find_target_layer(self):\n",
    "        # attempt to find the final convolutional layer in the network\n",
    "        # by looping over the layers of the network in reverse order\n",
    "        for layer in reversed(self.model.layers):\n",
    "            print(self.model.layers)\n",
    "            # check to see if the layer has a 4D output\n",
    "            if len(layer.output_shape) == 4:\n",
    "                return layer.name\n",
    "        # otherwise, we could not find a 4D layer so the GradCAM\n",
    "        # algorithm cannot be applied\n",
    "        raise ValueError(\"Could not find 4D layer. Cannot apply GradCAM.\")\n",
    "\n",
    "    def compute_heatmap(self, image, eps=1e-8):\n",
    "        # construct our gradient model by supplying (1) the inputs\n",
    "        # to our pre-trained model, (2) the output of the (presumably)\n",
    "        # final 4D layer in the network, and (3) the output of the\n",
    "        # softmax activations from the model\n",
    "        gradModel = Model(\n",
    "            inputs=[self.model.inputs],\n",
    "            outputs=[self.model.get_layer(self.layerName).output, self.model.output])\n",
    "\n",
    "        # record operations for automatic differentiation\n",
    "        with tf.GradientTape() as tape:\n",
    "            # cast the image tensor to a float-32 data type, pass the\n",
    "            # image through the gradient model, and grab the loss\n",
    "            # associated with the specific class index\n",
    "            inputs = tf.cast(image, tf.float32)\n",
    "            (convOutputs, predictions) = gradModel(inputs)\n",
    "\n",
    "            loss = predictions[:, tf.argmax(predictions[0])]\n",
    "\n",
    "        # use automatic differentiation to compute the gradients\n",
    "        grads = tape.gradient(loss, convOutputs)\n",
    "\n",
    "        # compute the guided gradients\n",
    "        castConvOutputs = tf.cast(convOutputs > 0, \"float32\")\n",
    "        castGrads = tf.cast(grads > 0, \"float32\")\n",
    "        guidedGrads = castConvOutputs * castGrads * grads\n",
    "        # the convolution and guided gradients have a batch dimension\n",
    "        # (which we don't need) so let's grab the volume itself and\n",
    "        # discard the batch\n",
    "        convOutputs = convOutputs[0]\n",
    "        guidedGrads = guidedGrads[0]\n",
    "\n",
    "        # compute the average of the gradient values, and using them\n",
    "        # as weights, compute the ponderation of the filters with\n",
    "        # respect to the weights\n",
    "        weights = tf.reduce_mean(guidedGrads, axis=(0, 1))\n",
    "        cam = tf.reduce_sum(tf.multiply(weights, convOutputs), axis=-1)\n",
    "\n",
    "        # grab the spatial dimensions of the input image and resize\n",
    "        # the output class activation map to match the input image\n",
    "        # dimensions\n",
    "        (w, h) = (image.shape[2], image.shape[1])\n",
    "        heatmap = cv2.resize(cam.numpy(), (w, h))\n",
    "        # normalize the heatmap such that all values lie in the range\n",
    "        # [0, 1], scale the resulting values to the range [0, 255],\n",
    "        # and then convert to an unsigned 8-bit integer\n",
    "        numer = heatmap - np.min(heatmap)\n",
    "        denom = (heatmap.max() - heatmap.min()) + eps\n",
    "        heatmap = numer / denom\n",
    "        heatmap = (heatmap * 255).astype(\"uint8\")\n",
    "        # return the resulting heatmap to the calling function\n",
    "        return heatmap\n",
    "\n",
    "    def overlay_heatmap(self, heatmap, image, alpha=0.5,\n",
    "                        colormap=cv2.COLORMAP_VIRIDIS):\n",
    "        # apply the supplied color map to the heatmap and then\n",
    "        # overlay the heatmap on the input image\n",
    "        heatmap = cv2.applyColorMap(heatmap, colormap)\n",
    "        output = cv2.addWeighted(image, alpha, heatmap, 1 - alpha, 0)\n",
    "        # return a 2-tuple of the color mapped heatmap and the output,\n",
    "        # overlaid image\n",
    "        return (heatmap, output)"
   ],
   "metadata": {
    "collapsed": false,
    "pycharm": {
     "name": "#%%\n"
    }
   }
  },
  {
   "cell_type": "code",
   "execution_count": 24,
   "outputs": [],
   "source": [
    "image = cv2.imread('data/data_predictions/MyRecord2021-11-19T125431028-from_00_49_00.00.mp4-img-44016.jpg')\n",
    "image = cv2.resize(image, (224, 224))\n",
    "image = image.astype('float32') / 255\n",
    "image = np.expand_dims(image, axis=0)\n",
    "\n",
    "preds = model.predict(image)\n",
    "i = np.argmax(preds[0])"
   ],
   "metadata": {
    "collapsed": false,
    "pycharm": {
     "name": "#%%\n"
    }
   }
  },
  {
   "cell_type": "code",
   "execution_count": 25,
   "outputs": [
    {
     "name": "stdout",
     "output_type": "stream",
     "text": [
      "input_5\n",
      "block1_conv1\n",
      "block1_conv2\n",
      "block1_pool\n",
      "block2_conv1\n",
      "block2_conv2\n",
      "block2_pool\n",
      "block3_conv1\n",
      "block3_conv2\n",
      "block3_conv3\n",
      "block3_pool\n",
      "block4_conv1\n",
      "block4_conv2\n",
      "block4_conv3\n",
      "block4_pool\n",
      "block5_conv1\n",
      "block5_conv2\n",
      "block5_conv3\n",
      "block5_pool\n",
      "flatten\n",
      "dense_7\n",
      "dropout_3\n",
      "batch_normalization_3\n",
      "dense_8\n"
     ]
    }
   ],
   "source": [
    "for idx in range(len(model.layers)):\n",
    "    print(model.get_layer(index=idx).name)\n",
    "\n",
    "# we picked `block5c_project_con` layer"
   ],
   "metadata": {
    "collapsed": false,
    "pycharm": {
     "name": "#%%\n"
    }
   }
  },
  {
   "cell_type": "code",
   "execution_count": 27,
   "outputs": [
    {
     "name": "stdout",
     "output_type": "stream",
     "text": [
      "(224, 224) (224, 224, 3)\n"
     ]
    }
   ],
   "source": [
    "icam = GradCAM(model, i, 'block5_conv3')\n",
    "heatmap = icam.compute_heatmap(image)\n",
    "heatmap = cv2.resize(heatmap, (224, 224))\n",
    "\n",
    "image = cv2.imread('data/data_predictions/MyRecord2021-11-19T125431028-from_00_49_00.00.mp4-img-44016.jpg')\n",
    "image = cv2.resize(image, (224, 224))\n",
    "print(heatmap.shape, image.shape)\n",
    "\n",
    "(heatmap, output) = icam.overlay_heatmap(heatmap, image, alpha=0.5)"
   ],
   "metadata": {
    "collapsed": false,
    "pycharm": {
     "name": "#%%\n"
    }
   }
  },
  {
   "cell_type": "code",
   "execution_count": 28,
   "outputs": [
    {
     "data": {
      "text/plain": "<matplotlib.image.AxesImage at 0x7f5e383dbb50>"
     },
     "execution_count": 28,
     "metadata": {},
     "output_type": "execute_result"
    },
    {
     "data": {
      "text/plain": "<Figure size 432x288 with 3 Axes>",
      "image/png": "[encoded data removed]"
     },
     "metadata": {
      "needs_background": "light"
     },
     "output_type": "display_data"
    }
   ],
   "source": [
    "fig, ax = plt.subplots(1, 3)\n",
    "\n",
    "ax[0].imshow(heatmap)\n",
    "ax[1].imshow(image)\n",
    "ax[2].imshow(output)"
   ],
   "metadata": {
    "collapsed": false,
    "pycharm": {
     "name": "#%%\n"
    }
   }
  },
  {
   "cell_type": "code",
   "execution_count": null,
   "outputs": [],
   "source": [],
   "metadata": {
    "collapsed": false,
    "pycharm": {
     "name": "#%%\n"
    }
   }
  }
 ],
 "metadata": {
  "kernelspec": {
   "display_name": "PyCharm (Quality Control of SLS manufacturing using Convolutional Neural Networks -implementation)",
   "language": "python",
   "name": "pycharm-8f8e9c42"
  },
  "language_info": {
   "codemirror_mode": {
    "name": "ipython",
    "version": 3
   },
   "file_extension": ".py",
   "mimetype": "text/x-python",
   "name": "python",
   "nbconvert_exporter": "python",
   "pygments_lexer": "ipython3",
   "version": "3.9.7"
  }
 },
 "nbformat": 4,
 "nbformat_minor": 4
}