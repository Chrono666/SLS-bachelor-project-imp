{
 "cells": [
  {
   "cell_type": "markdown",
   "metadata": {},
   "source": [
    "# Jupyter Notebook to train a model"
   ]
  },
  {
   "cell_type": "code",
   "execution_count": 1,
   "metadata": {
    "collapsed": false,
    "jupyter": {
     "outputs_hidden": false
    },
    "pycharm": {
     "name": "#%%\n"
    }
   },
   "outputs": [
    {
     "name": "stderr",
     "output_type": "stream",
     "text": [
      "2021-12-23 23:19:51.164081: I tensorflow/stream_executor/platform/default/dso_loader.cc:49] Successfully opened dynamic library libcudart.so.10.1\n"
     ]
    }
   ],
   "source": [
    "import tensorflow as tf\n",
    "from tensorflow import keras\n",
    "import numpy as np\n",
    "import os\n",
    "import matplotlib as mpl\n",
    "import matplotlib.pyplot as plt\n",
    "\n",
    "\n",
    "# use random seed to reproduce results\n",
    "np.random.seed(42)\n",
    "tf.random.set_seed(42)\n",
    "\n",
    "\n",
    "mpl.rc('axes', labelsize=14)\n",
    "mpl.rc('xtick', labelsize=12)\n",
    "mpl.rc('ytick', labelsize=12)"
   ]
  },
  {
   "cell_type": "code",
   "execution_count": 2,
   "outputs": [],
   "source": [
    "PROJECT_ROOT_DIR = \".\"\n",
    "CHAPTER_ID = \"tuned_metrics\"\n",
    "IMAGES_PATH = os.path.join(PROJECT_ROOT_DIR, \"images\", CHAPTER_ID)\n",
    "os.makedirs(IMAGES_PATH, exist_ok=True)\n",
    "\n",
    "def save_fig(fig_id, tight_layout=True, fig_extension=\"png\", resolution=300):\n",
    "    path = os.path.join(IMAGES_PATH, fig_id + \".\" + fig_extension)\n",
    "    print(\"Saving figure\", fig_id)\n",
    "    if tight_layout:\n",
    "        plt.tight_layout()\n",
    "    plt.savefig(path, format=fig_extension, dpi=resolution)"
   ],
   "metadata": {
    "collapsed": false,
    "pycharm": {
     "name": "#%%\n"
    }
   }
  },
  {
   "cell_type": "markdown",
   "metadata": {},
   "source": [
    "### lists possible devices (CPU, GPU), used to check if GPU is recognized/exists"
   ]
  },
  {
   "cell_type": "code",
   "execution_count": 3,
   "metadata": {
    "collapsed": false,
    "jupyter": {
     "outputs_hidden": false
    },
    "pycharm": {
     "name": "#%%\n"
    }
   },
   "outputs": [
    {
     "name": "stderr",
     "output_type": "stream",
     "text": [
      "2021-12-23 23:19:53.936214: I tensorflow/compiler/jit/xla_cpu_device.cc:41] Not creating XLA devices, tf_xla_enable_xla_devices not set\n",
      "2021-12-23 23:19:53.943447: I tensorflow/stream_executor/platform/default/dso_loader.cc:49] Successfully opened dynamic library libcuda.so.1\n",
      "2021-12-23 23:19:54.010300: I tensorflow/stream_executor/cuda/cuda_gpu_executor.cc:941] successful NUMA node read from SysFS had negative value (-1), but there must be at least one NUMA node, so returning NUMA node zero\n",
      "2021-12-23 23:19:54.010513: I tensorflow/core/common_runtime/gpu/gpu_device.cc:1720] Found device 0 with properties: \n",
      "pciBusID: 0000:01:00.0 name: NVIDIA GeForce GTX 1080 computeCapability: 6.1\n",
      "coreClock: 1.8225GHz coreCount: 20 deviceMemorySize: 7.93GiB deviceMemoryBandwidth: 298.32GiB/s\n",
      "2021-12-23 23:19:54.010543: I tensorflow/stream_executor/platform/default/dso_loader.cc:49] Successfully opened dynamic library libcudart.so.10.1\n",
      "2021-12-23 23:19:54.040455: I tensorflow/stream_executor/platform/default/dso_loader.cc:49] Successfully opened dynamic library libcublas.so.10\n",
      "2021-12-23 23:19:54.040535: I tensorflow/stream_executor/platform/default/dso_loader.cc:49] Successfully opened dynamic library libcublasLt.so.10\n",
      "2021-12-23 23:19:54.056966: I tensorflow/stream_executor/platform/default/dso_loader.cc:49] Successfully opened dynamic library libcufft.so.10\n",
      "2021-12-23 23:19:54.061388: I tensorflow/stream_executor/platform/default/dso_loader.cc:49] Successfully opened dynamic library libcurand.so.10\n",
      "2021-12-23 23:19:54.093338: I tensorflow/stream_executor/platform/default/dso_loader.cc:49] Successfully opened dynamic library libcusolver.so.10\n",
      "2021-12-23 23:19:54.098062: I tensorflow/stream_executor/platform/default/dso_loader.cc:49] Successfully opened dynamic library libcusparse.so.10\n",
      "2021-12-23 23:19:54.154806: I tensorflow/stream_executor/platform/default/dso_loader.cc:49] Successfully opened dynamic library libcudnn.so.7\n",
      "2021-12-23 23:19:54.154999: I tensorflow/stream_executor/cuda/cuda_gpu_executor.cc:941] successful NUMA node read from SysFS had negative value (-1), but there must be at least one NUMA node, so returning NUMA node zero\n",
      "2021-12-23 23:19:54.155213: I tensorflow/stream_executor/cuda/cuda_gpu_executor.cc:941] successful NUMA node read from SysFS had negative value (-1), but there must be at least one NUMA node, so returning NUMA node zero\n",
      "2021-12-23 23:19:54.155300: I tensorflow/core/common_runtime/gpu/gpu_device.cc:1862] Adding visible gpu devices: 0\n"
     ]
    },
    {
     "data": {
      "text/plain": "[PhysicalDevice(name='/physical_device:CPU:0', device_type='CPU'),\n PhysicalDevice(name='/physical_device:GPU:0', device_type='GPU')]"
     },
     "execution_count": 3,
     "metadata": {},
     "output_type": "execute_result"
    }
   ],
   "source": [
    "tf.config.get_visible_devices()"
   ]
  },
  {
   "cell_type": "markdown",
   "metadata": {},
   "source": [
    "## Methods"
   ]
  },
  {
   "cell_type": "markdown",
   "metadata": {},
   "source": [
    "### used to save a trained model as a json file and its weights as a h5 file"
   ]
  },
  {
   "cell_type": "code",
   "execution_count": 4,
   "metadata": {
    "collapsed": false,
    "jupyter": {
     "outputs_hidden": false
    },
    "pycharm": {
     "name": "#%%\n"
    }
   },
   "outputs": [],
   "source": [
    "def save_model(model, model_name, path):\n",
    "    my_model = model.to_json()\n",
    "    with open(f'./{path}/{model_name}.json', \"w\") as file:\n",
    "        file.write(my_model)\n",
    "    # serialize weights to HDF5\n",
    "    model.save_weights(f'./{path}/{model_name}_weights.h5')"
   ]
  },
  {
   "cell_type": "markdown",
   "metadata": {
    "pycharm": {
     "name": "#%% md\n"
    }
   },
   "source": [
    "### used to build the base model using predefined architectures\n",
    "currently: vgg16, xception, resnet"
   ]
  },
  {
   "cell_type": "code",
   "execution_count": 5,
   "metadata": {
    "collapsed": false,
    "jupyter": {
     "outputs_hidden": false
    },
    "pycharm": {
     "name": "#%%\n"
    }
   },
   "outputs": [],
   "source": [
    "def build_base_model(architecture, weights):\n",
    "    input = tf.keras.Input(shape=(224, 224, 3))\n",
    "    if architecture == 'vgg16':\n",
    "        return tf.keras.applications.vgg16.VGG16(weights=weights, include_top=False, input_tensor=input)\n",
    "    if architecture == 'xception':\n",
    "        return tf.keras.applications.xception.Xception(weights=weights, include_top=False, input_tensor=input)\n",
    "    if architecture == 'resnet':\n",
    "        return tf.keras.applications.resnet.ResNet50(weights=weights, include_top=False, input_tensor=input)"
   ]
  },
  {
   "cell_type": "markdown",
   "metadata": {},
   "source": [
    "### gets base model as input and builds a new top layer and returns the model with custom top layers"
   ]
  },
  {
   "cell_type": "code",
   "execution_count": 6,
   "metadata": {
    "collapsed": false,
    "jupyter": {
     "outputs_hidden": false
    },
    "pycharm": {
     "name": "#%%\n"
    }
   },
   "outputs": [],
   "source": [
    "def build_model(base_model):\n",
    "    flat = keras.layers.Flatten(name='flatten')(base_model.output)\n",
    "    dense_1 = keras.layers.Dense(1400)(flat)\n",
    "    dropout = keras.layers.Dropout(0.05)(dense_1)\n",
    "    batch = keras.layers.BatchNormalization()(dropout)\n",
    "    output = keras.layers.Dense(1, activation='sigmoid')(batch)\n",
    "    return tf.keras.Model(base_model.input, output)"
   ]
  },
  {
   "cell_type": "markdown",
   "metadata": {},
   "source": [
    "### gets a model as input and returns a model compiled with the adam optimizer"
   ]
  },
  {
   "cell_type": "code",
   "execution_count": 7,
   "metadata": {
    "collapsed": false,
    "jupyter": {
     "outputs_hidden": false
    },
    "pycharm": {
     "name": "#%%\n"
    }
   },
   "outputs": [],
   "source": [
    "def compile_model(model, alpha, beta1, beta2, metrics):\n",
    "    optimizer = keras.optimizers.Adam(learning_rate=alpha, beta_1=beta1, beta_2=beta2)\n",
    "    model.compile(loss=\"binary_crossentropy\", optimizer=optimizer, metrics=metrics)\n",
    "    return model"
   ]
  },
  {
   "cell_type": "markdown",
   "metadata": {},
   "source": [
    "### gets a model as input and trains it on the data-set with the defined callbacks and epochs"
   ]
  },
  {
   "cell_type": "code",
   "execution_count": 8,
   "metadata": {
    "collapsed": false,
    "jupyter": {
     "outputs_hidden": false
    },
    "pycharm": {
     "name": "#%%\n"
    }
   },
   "outputs": [],
   "source": [
    "def train_model(model, train_set, validation_set, epochs, callback):\n",
    "    return model.fit(train_set,\n",
    "                     validation_data=validation_set,\n",
    "                     epochs=epochs,\n",
    "                     callbacks=callback)"
   ]
  },
  {
   "cell_type": "markdown",
   "metadata": {},
   "source": [
    "### gets a model as input and changes its layers trainable attribute"
   ]
  },
  {
   "cell_type": "code",
   "execution_count": 9,
   "metadata": {
    "collapsed": false,
    "jupyter": {
     "outputs_hidden": false
    },
    "pycharm": {
     "name": "#%%\n"
    }
   },
   "outputs": [],
   "source": [
    "def set_layers_trainable(trainable, input_model):\n",
    "    for layer in input_model.layers:\n",
    "        layer.trainable = trainable"
   ]
  },
  {
   "cell_type": "markdown",
   "metadata": {},
   "source": [
    "## Data preprocessing"
   ]
  },
  {
   "cell_type": "markdown",
   "metadata": {},
   "source": [
    "#### preprocessing of the images applied when loading image data set from disk with tensorflows flow_from_directory\n"
   ]
  },
  {
   "cell_type": "code",
   "execution_count": 10,
   "metadata": {
    "collapsed": false,
    "jupyter": {
     "outputs_hidden": false
    },
    "pycharm": {
     "name": "#%%\n"
    }
   },
   "outputs": [],
   "source": [
    "image_gen = keras.preprocessing.image.ImageDataGenerator(rotation_range=20,  # rotate the image 20 degrees\n",
    "                                                         width_shift_range=0.2,\n",
    "                                                         height_shift_range=0.2,\n",
    "                                                         rescale=1 / 255,  # Rescale the image by normalzing it.\n",
    "                                                         shear_range=0.15,\n",
    "                                                         # Shear means cutting away part of the image (max 20%)\n",
    "                                                         zoom_range=0.15,  # Zoom in by 15% max\n",
    "                                                         horizontal_flip=True,  # Allow horizontal flipping\n",
    "                                                         fill_mode='nearest'\n",
    "                                                         # Fill in missing pixels with the nearest filled value\n",
    "                                                         )"
   ]
  },
  {
   "cell_type": "markdown",
   "metadata": {},
   "source": [
    "### path to the data set"
   ]
  },
  {
   "cell_type": "code",
   "execution_count": 11,
   "metadata": {
    "collapsed": false,
    "jupyter": {
     "outputs_hidden": false
    },
    "pycharm": {
     "name": "#%%\n"
    }
   },
   "outputs": [],
   "source": [
    "train_data_path = './data/data_full/train'  #local notebook\n",
    "validation_data_path = './data/data_full/val'  #local notebook\n",
    "test_data_path = './data/data_full/test'  #local notebook"
   ]
  },
  {
   "cell_type": "markdown",
   "metadata": {},
   "source": [
    "### generate training set by loading the images from their directories with flow_from_directory\n",
    "### important: the folder structure has to match! i.e {train} -> {ok,def}\n",
    "### at the \"same time\" the data augmentation is applied on the images through the ImageDataGenerator"
   ]
  },
  {
   "cell_type": "code",
   "execution_count": 12,
   "metadata": {
    "collapsed": false,
    "jupyter": {
     "outputs_hidden": false
    },
    "pycharm": {
     "name": "#%%\n"
    }
   },
   "outputs": [
    {
     "name": "stdout",
     "output_type": "stream",
     "text": [
      "Found 48271 images belonging to 2 classes.\n"
     ]
    }
   ],
   "source": [
    "# add batch size for xception\n",
    "# batch_size = 24\n",
    "train_image_gen = image_gen.flow_from_directory(train_data_path,\n",
    "                                                target_size=(224, 224),\n",
    "                                                class_mode='binary')"
   ]
  },
  {
   "cell_type": "code",
   "execution_count": 13,
   "metadata": {
    "collapsed": false,
    "jupyter": {
     "outputs_hidden": false
    },
    "pycharm": {
     "name": "#%%\n"
    }
   },
   "outputs": [
    {
     "name": "stdout",
     "output_type": "stream",
     "text": [
      "Found 6033 images belonging to 2 classes.\n"
     ]
    }
   ],
   "source": [
    "valid_image_gen = image_gen.flow_from_directory(validation_data_path,\n",
    "                                                target_size=(224, 224),\n",
    "                                                class_mode='binary')"
   ]
  },
  {
   "cell_type": "code",
   "execution_count": 14,
   "metadata": {
    "collapsed": false,
    "jupyter": {
     "outputs_hidden": false
    },
    "pycharm": {
     "name": "#%%\n"
    }
   },
   "outputs": [
    {
     "name": "stdout",
     "output_type": "stream",
     "text": [
      "Found 6036 images belonging to 2 classes.\n"
     ]
    }
   ],
   "source": [
    "t_image_gen = keras.preprocessing.image.ImageDataGenerator()\n",
    "test_image_gen = t_image_gen.flow_from_directory(test_data_path,\n",
    "                                               target_size=(224, 224),\n",
    "                                               class_mode='binary')"
   ]
  },
  {
   "cell_type": "markdown",
   "metadata": {},
   "source": [
    "# Training of the model"
   ]
  },
  {
   "cell_type": "markdown",
   "metadata": {},
   "source": [
    "### Pre Training\n",
    "* build base model with vgg16 architecture and pretrained with imagenet weights\n",
    "* add custom layers on base model\n",
    "* compile model with adam optimizer\n",
    "* freeze layers of pretrained vgg16 base model to not destroy imagenet weights\n",
    "* train model"
   ]
  },
  {
   "cell_type": "code",
   "execution_count": 15,
   "metadata": {
    "collapsed": false,
    "jupyter": {
     "outputs_hidden": false
    },
    "pycharm": {
     "name": "#%%\n"
    }
   },
   "outputs": [
    {
     "name": "stderr",
     "output_type": "stream",
     "text": [
      "2021-12-23 23:20:19.503395: I tensorflow/core/platform/cpu_feature_guard.cc:142] This TensorFlow binary is optimized with oneAPI Deep Neural Network Library (oneDNN) to use the following CPU instructions in performance-critical operations:  SSE4.1 SSE4.2 AVX AVX2 FMA\n",
      "To enable them in other operations, rebuild TensorFlow with the appropriate compiler flags.\n",
      "2021-12-23 23:20:19.503760: I tensorflow/stream_executor/cuda/cuda_gpu_executor.cc:941] successful NUMA node read from SysFS had negative value (-1), but there must be at least one NUMA node, so returning NUMA node zero\n",
      "2021-12-23 23:20:19.503889: I tensorflow/core/common_runtime/gpu/gpu_device.cc:1720] Found device 0 with properties: \n",
      "pciBusID: 0000:01:00.0 name: NVIDIA GeForce GTX 1080 computeCapability: 6.1\n",
      "coreClock: 1.8225GHz coreCount: 20 deviceMemorySize: 7.93GiB deviceMemoryBandwidth: 298.32GiB/s\n",
      "2021-12-23 23:20:19.503912: I tensorflow/stream_executor/platform/default/dso_loader.cc:49] Successfully opened dynamic library libcudart.so.10.1\n",
      "2021-12-23 23:20:19.503938: I tensorflow/stream_executor/platform/default/dso_loader.cc:49] Successfully opened dynamic library libcublas.so.10\n",
      "2021-12-23 23:20:19.503949: I tensorflow/stream_executor/platform/default/dso_loader.cc:49] Successfully opened dynamic library libcublasLt.so.10\n",
      "2021-12-23 23:20:19.503959: I tensorflow/stream_executor/platform/default/dso_loader.cc:49] Successfully opened dynamic library libcufft.so.10\n",
      "2021-12-23 23:20:19.503969: I tensorflow/stream_executor/platform/default/dso_loader.cc:49] Successfully opened dynamic library libcurand.so.10\n",
      "2021-12-23 23:20:19.503979: I tensorflow/stream_executor/platform/default/dso_loader.cc:49] Successfully opened dynamic library libcusolver.so.10\n",
      "2021-12-23 23:20:19.503988: I tensorflow/stream_executor/platform/default/dso_loader.cc:49] Successfully opened dynamic library libcusparse.so.10\n",
      "2021-12-23 23:20:19.503998: I tensorflow/stream_executor/platform/default/dso_loader.cc:49] Successfully opened dynamic library libcudnn.so.7\n",
      "2021-12-23 23:20:19.504047: I tensorflow/stream_executor/cuda/cuda_gpu_executor.cc:941] successful NUMA node read from SysFS had negative value (-1), but there must be at least one NUMA node, so returning NUMA node zero\n",
      "2021-12-23 23:20:19.504165: I tensorflow/stream_executor/cuda/cuda_gpu_executor.cc:941] successful NUMA node read from SysFS had negative value (-1), but there must be at least one NUMA node, so returning NUMA node zero\n",
      "2021-12-23 23:20:19.504247: I tensorflow/core/common_runtime/gpu/gpu_device.cc:1862] Adding visible gpu devices: 0\n",
      "2021-12-23 23:20:19.504696: I tensorflow/stream_executor/platform/default/dso_loader.cc:49] Successfully opened dynamic library libcudart.so.10.1\n",
      "2021-12-23 23:20:20.693028: I tensorflow/core/common_runtime/gpu/gpu_device.cc:1261] Device interconnect StreamExecutor with strength 1 edge matrix:\n",
      "2021-12-23 23:20:20.693057: I tensorflow/core/common_runtime/gpu/gpu_device.cc:1267]      0 \n",
      "2021-12-23 23:20:20.693064: I tensorflow/core/common_runtime/gpu/gpu_device.cc:1280] 0:   N \n",
      "2021-12-23 23:20:20.693685: I tensorflow/stream_executor/cuda/cuda_gpu_executor.cc:941] successful NUMA node read from SysFS had negative value (-1), but there must be at least one NUMA node, so returning NUMA node zero\n",
      "2021-12-23 23:20:20.693906: I tensorflow/stream_executor/cuda/cuda_gpu_executor.cc:941] successful NUMA node read from SysFS had negative value (-1), but there must be at least one NUMA node, so returning NUMA node zero\n",
      "2021-12-23 23:20:20.694070: I tensorflow/stream_executor/cuda/cuda_gpu_executor.cc:941] successful NUMA node read from SysFS had negative value (-1), but there must be at least one NUMA node, so returning NUMA node zero\n",
      "2021-12-23 23:20:20.694201: I tensorflow/core/common_runtime/gpu/gpu_device.cc:1406] Created TensorFlow device (/job:localhost/replica:0/task:0/device:GPU:0 with 6018 MB memory) -> physical GPU (device: 0, name: NVIDIA GeForce GTX 1080, pci bus id: 0000:01:00.0, compute capability: 6.1)\n",
      "2021-12-23 23:20:20.695886: I tensorflow/compiler/jit/xla_gpu_device.cc:99] Not creating XLA devices, tf_xla_enable_xla_devices not set\n",
      "2021-12-23 23:20:21.559131: I tensorflow/compiler/mlir/mlir_graph_optimization_pass.cc:116] None of the MLIR optimization passes are enabled (registered 2)\n",
      "2021-12-23 23:20:21.577078: I tensorflow/core/platform/profile_utils/cpu_utils.cc:112] CPU Frequency: 3999980000 Hz\n"
     ]
    },
    {
     "name": "stdout",
     "output_type": "stream",
     "text": [
      "Epoch 1/5\n"
     ]
    },
    {
     "name": "stderr",
     "output_type": "stream",
     "text": [
      "2021-12-23 23:20:22.924909: I tensorflow/stream_executor/platform/default/dso_loader.cc:49] Successfully opened dynamic library libcublas.so.10\n",
      "2021-12-23 23:20:23.288610: I tensorflow/stream_executor/platform/default/dso_loader.cc:49] Successfully opened dynamic library libcudnn.so.7\n",
      "2021-12-23 23:20:24.411480: W tensorflow/stream_executor/gpu/asm_compiler.cc:63] Running ptxas --version returned 256\n",
      "2021-12-23 23:20:24.439990: W tensorflow/stream_executor/gpu/redzone_allocator.cc:314] Internal: ptxas exited with non-zero error code 256, output: \n",
      "Relying on driver to perform ptx compilation. \n",
      "Modify $PATH to customize ptxas location.\n",
      "This message will be only logged once.\n",
      "2021-12-23 23:20:35.022259: W tensorflow/core/common_runtime/bfc_allocator.cc:248] Allocator (GPU_0_bfc) ran out of memory trying to allocate 3.04GiB with freed_by_count=0. The caller indicates that this is not a failure, but may mean that there could be performance gains if more memory were available.\n"
     ]
    },
    {
     "name": "stdout",
     "output_type": "stream",
     "text": [
      "1509/1509 [==============================] - 702s 456ms/step - loss: 0.3302 - accuracy: 0.8616 - recall: 0.8282 - precision: 0.5854 - auc: 0.9254 - val_loss: 0.1914 - val_accuracy: 0.9420 - val_recall: 0.6507 - val_precision: 0.9985 - val_auc: 0.9791\n",
      "Epoch 2/5\n",
      "1509/1509 [==============================] - 639s 423ms/step - loss: 0.0685 - accuracy: 0.9757 - recall: 0.9220 - precision: 0.9319 - auc: 0.9925 - val_loss: 0.6571 - val_accuracy: 0.7369 - val_recall: 0.9950 - val_precision: 0.3859 - val_auc: 0.9882\n",
      "Epoch 3/5\n",
      "1509/1509 [==============================] - 641s 424ms/step - loss: 0.0440 - accuracy: 0.9855 - recall: 0.9524 - precision: 0.9590 - auc: 0.9965 - val_loss: 0.0634 - val_accuracy: 0.9816 - val_recall: 0.8909 - val_precision: 0.9978 - val_auc: 0.9896\n",
      "Epoch 4/5\n",
      "1509/1509 [==============================] - 596s 395ms/step - loss: 0.0298 - accuracy: 0.9908 - recall: 0.9688 - precision: 0.9762 - auc: 0.9982 - val_loss: 0.4302 - val_accuracy: 0.8349 - val_recall: 1.0000 - val_precision: 0.5008 - val_auc: 0.9939\n",
      "Epoch 5/5\n",
      "1509/1509 [==============================] - 597s 395ms/step - loss: 0.0191 - accuracy: 0.9932 - recall: 0.9772 - precision: 0.9816 - auc: 0.9989 - val_loss: 0.0141 - val_accuracy: 0.9965 - val_recall: 0.9990 - val_precision: 0.9804 - val_auc: 0.9999\n"
     ]
    }
   ],
   "source": [
    "vgg16 = build_base_model('vgg16', 'imagenet')\n",
    "model = build_model(vgg16)\n",
    "model = compile_model(model, 6.89841179756804e-05, 0.8999999999999999, 0.9650000000000002, ['accuracy', 'Recall', 'Precision', 'AUC'])\n",
    "set_layers_trainable(False, vgg16)\n",
    "history = train_model(model, train_image_gen, valid_image_gen, 5, [])"
   ]
  },
  {
   "cell_type": "markdown",
   "metadata": {},
   "source": [
    "### Full Training\n",
    "* un freeze layers of pretrained vgg16 base model\n",
    "* define callbacks\n",
    "    * tensorboard callback to generate reports which can be viewed in tensorboard\n",
    "    * early stopping callback to stop training after monitored metric has not changed after, by the patience defined, epochs\n",
    "* compile model with adam optimizer\n",
    "* train model"
   ]
  },
  {
   "cell_type": "code",
   "execution_count": 16,
   "metadata": {
    "collapsed": false,
    "jupyter": {
     "outputs_hidden": false
    },
    "pycharm": {
     "name": "#%%\n"
    }
   },
   "outputs": [],
   "source": [
    "set_layers_trainable(True, vgg16)\n",
    "save_model(model, 'vgg16_first_train_step', 'saved_models/first_train_step/tuned_params')"
   ]
  },
  {
   "cell_type": "markdown",
   "metadata": {},
   "source": [
    "#### Callbacks"
   ]
  },
  {
   "cell_type": "code",
   "execution_count": 17,
   "metadata": {
    "collapsed": false,
    "jupyter": {
     "outputs_hidden": false
    },
    "pycharm": {
     "name": "#%%\n"
    }
   },
   "outputs": [
    {
     "name": "stderr",
     "output_type": "stream",
     "text": [
      "2021-12-24 00:13:16.103365: I tensorflow/core/profiler/lib/profiler_session.cc:136] Profiler session initializing.\n",
      "2021-12-24 00:13:16.103396: I tensorflow/core/profiler/lib/profiler_session.cc:155] Profiler session started.\n",
      "2021-12-24 00:13:16.103831: I tensorflow/core/profiler/internal/gpu/cupti_tracer.cc:1365] Profiler found 1 GPUs\n",
      "2021-12-24 00:13:16.113150: I tensorflow/stream_executor/platform/default/dso_loader.cc:49] Successfully opened dynamic library libcupti.so.10.1\n",
      "2021-12-24 00:13:16.214678: E tensorflow/core/profiler/internal/gpu/cupti_tracer.cc:1415] function cupti_interface_->Subscribe( &subscriber_, (CUpti_CallbackFunc)ApiCallback, this)failed with error CUPTI_ERROR_INSUFFICIENT_PRIVILEGES\n",
      "2021-12-24 00:13:16.216365: I tensorflow/core/profiler/lib/profiler_session.cc:172] Profiler session tear down.\n"
     ]
    }
   ],
   "source": [
    "tensorboard_callback = tf.keras.callbacks.TensorBoard(log_dir=\"./logs\", histogram_freq=5, write_graph=True, write_images=True)\n",
    "custom_early_stopping = keras.callbacks.EarlyStopping(monitor='val_loss', patience=20)"
   ]
  },
  {
   "cell_type": "code",
   "execution_count": 18,
   "metadata": {
    "collapsed": false,
    "jupyter": {
     "outputs_hidden": false
    },
    "pycharm": {
     "name": "#%%\n"
    }
   },
   "outputs": [
    {
     "name": "stdout",
     "output_type": "stream",
     "text": [
      "Epoch 1/100\n",
      "   1/1509 [..............................] - ETA: 38:48 - loss: 1.0398e-05 - accuracy: 1.0000 - recall: 1.0000 - precision: 1.0000 - auc: 1.0000"
     ]
    },
    {
     "name": "stderr",
     "output_type": "stream",
     "text": [
      "2021-12-24 00:13:18.111679: I tensorflow/core/profiler/lib/profiler_session.cc:136] Profiler session initializing.\n",
      "2021-12-24 00:13:18.111707: I tensorflow/core/profiler/lib/profiler_session.cc:155] Profiler session started.\n",
      "2021-12-24 00:13:18.112245: E tensorflow/core/profiler/internal/gpu/cupti_tracer.cc:1415] function cupti_interface_->Subscribe( &subscriber_, (CUpti_CallbackFunc)ApiCallback, this)failed with error CUPTI_ERROR_INSUFFICIENT_PRIVILEGES\n"
     ]
    },
    {
     "name": "stdout",
     "output_type": "stream",
     "text": [
      "   2/1509 [..............................] - ETA: 9:28 - loss: 1.6477e-04 - accuracy: 1.0000 - recall: 1.0000 - precision: 1.0000 - auc: 1.0000 "
     ]
    },
    {
     "name": "stderr",
     "output_type": "stream",
     "text": [
      "2021-12-24 00:13:18.466276: I tensorflow/core/profiler/lib/profiler_session.cc:71] Profiler session collecting data.\n",
      "2021-12-24 00:13:18.484880: I tensorflow/core/profiler/internal/gpu/cupti_collector.cc:228]  GpuTracer has collected 0 callback api events and 0 activity events. \n",
      "2021-12-24 00:13:18.490466: I tensorflow/core/profiler/lib/profiler_session.cc:172] Profiler session tear down.\n",
      "2021-12-24 00:13:18.501604: I tensorflow/core/profiler/rpc/client/save_profile.cc:137] Creating directory: ./logs/train/plugins/profile/2021_12_24_00_13_18\n",
      "2021-12-24 00:13:18.505740: I tensorflow/core/profiler/rpc/client/save_profile.cc:143] Dumped gzipped tool data for trace.json.gz to ./logs/train/plugins/profile/2021_12_24_00_13_18/pop-os.trace.json.gz\n",
      "2021-12-24 00:13:18.531818: I tensorflow/core/profiler/rpc/client/save_profile.cc:137] Creating directory: ./logs/train/plugins/profile/2021_12_24_00_13_18\n",
      "2021-12-24 00:13:18.535063: I tensorflow/core/profiler/rpc/client/save_profile.cc:143] Dumped gzipped tool data for memory_profile.json.gz to ./logs/train/plugins/profile/2021_12_24_00_13_18/pop-os.memory_profile.json.gz\n",
      "2021-12-24 00:13:18.535296: I tensorflow/core/profiler/rpc/client/capture_profile.cc:251] Creating directory: ./logs/train/plugins/profile/2021_12_24_00_13_18Dumped tool data for xplane.pb to ./logs/train/plugins/profile/2021_12_24_00_13_18/pop-os.xplane.pb\n",
      "Dumped tool data for overview_page.pb to ./logs/train/plugins/profile/2021_12_24_00_13_18/pop-os.overview_page.pb\n",
      "Dumped tool data for input_pipeline.pb to ./logs/train/plugins/profile/2021_12_24_00_13_18/pop-os.input_pipeline.pb\n",
      "Dumped tool data for tensorflow_stats.pb to ./logs/train/plugins/profile/2021_12_24_00_13_18/pop-os.tensorflow_stats.pb\n",
      "Dumped tool data for kernel_stats.pb to ./logs/train/plugins/profile/2021_12_24_00_13_18/pop-os.kernel_stats.pb\n",
      "\n"
     ]
    },
    {
     "name": "stdout",
     "output_type": "stream",
     "text": [
      "1509/1509 [==============================] - 552s 365ms/step - loss: 0.0063 - accuracy: 0.9982 - recall: 0.9924 - precision: 0.9964 - auc: 0.9996 - val_loss: 0.0023 - val_accuracy: 0.9993 - val_recall: 0.9960 - val_precision: 1.0000 - val_auc: 0.9995\n",
      "Epoch 2/100\n",
      "1509/1509 [==============================] - 551s 365ms/step - loss: 0.0047 - accuracy: 0.9988 - recall: 0.9951 - precision: 0.9973 - auc: 0.9997 - val_loss: 0.0136 - val_accuracy: 0.9949 - val_recall: 1.0000 - val_precision: 0.9699 - val_auc: 0.9999\n",
      "Epoch 3/100\n",
      "1509/1509 [==============================] - 551s 365ms/step - loss: 0.0033 - accuracy: 0.9990 - recall: 0.9973 - precision: 0.9966 - auc: 0.9998 - val_loss: 8.1773e-04 - val_accuracy: 0.9997 - val_recall: 0.9980 - val_precision: 1.0000 - val_auc: 1.0000\n",
      "Epoch 4/100\n",
      "1509/1509 [==============================] - 550s 365ms/step - loss: 0.0045 - accuracy: 0.9989 - recall: 0.9965 - precision: 0.9971 - auc: 0.9993 - val_loss: 0.0047 - val_accuracy: 0.9987 - val_recall: 0.9990 - val_precision: 0.9930 - val_auc: 0.9999\n",
      "Epoch 5/100\n",
      "1509/1509 [==============================] - 551s 365ms/step - loss: 0.0028 - accuracy: 0.9991 - recall: 0.9964 - precision: 0.9979 - auc: 0.9998 - val_loss: 0.0013 - val_accuracy: 0.9997 - val_recall: 0.9980 - val_precision: 1.0000 - val_auc: 1.0000\n",
      "Epoch 6/100\n",
      "1509/1509 [==============================] - 550s 364ms/step - loss: 0.0029 - accuracy: 0.9995 - recall: 0.9984 - precision: 0.9986 - auc: 0.9997 - val_loss: 5.1937e-04 - val_accuracy: 0.9998 - val_recall: 0.9990 - val_precision: 1.0000 - val_auc: 1.0000\n",
      "Epoch 7/100\n",
      "1509/1509 [==============================] - 550s 365ms/step - loss: 0.0028 - accuracy: 0.9993 - recall: 0.9975 - precision: 0.9983 - auc: 0.9997 - val_loss: 0.0016 - val_accuracy: 0.9992 - val_recall: 0.9950 - val_precision: 1.0000 - val_auc: 1.0000\n",
      "Epoch 8/100\n",
      "1509/1509 [==============================] - 550s 365ms/step - loss: 0.0035 - accuracy: 0.9992 - recall: 0.9974 - precision: 0.9979 - auc: 0.9996 - val_loss: 0.0220 - val_accuracy: 0.9947 - val_recall: 0.9680 - val_precision: 1.0000 - val_auc: 0.9955\n",
      "Epoch 9/100\n",
      "1509/1509 [==============================] - 550s 365ms/step - loss: 0.0037 - accuracy: 0.9993 - recall: 0.9975 - precision: 0.9983 - auc: 0.9995 - val_loss: 8.9706e-04 - val_accuracy: 0.9998 - val_recall: 1.0000 - val_precision: 0.9990 - val_auc: 1.0000\n",
      "Epoch 10/100\n",
      "1509/1509 [==============================] - 550s 365ms/step - loss: 0.0022 - accuracy: 0.9994 - recall: 0.9972 - precision: 0.9989 - auc: 0.9998 - val_loss: 1.5050e-04 - val_accuracy: 1.0000 - val_recall: 1.0000 - val_precision: 1.0000 - val_auc: 1.0000\n",
      "Epoch 11/100\n",
      "1509/1509 [==============================] - 550s 365ms/step - loss: 0.0032 - accuracy: 0.9992 - recall: 0.9974 - precision: 0.9979 - auc: 0.9997 - val_loss: 0.0041 - val_accuracy: 0.9990 - val_recall: 0.9940 - val_precision: 1.0000 - val_auc: 0.9995\n",
      "Epoch 12/100\n",
      "1509/1509 [==============================] - 550s 365ms/step - loss: 0.0024 - accuracy: 0.9994 - recall: 0.9982 - precision: 0.9985 - auc: 0.9999 - val_loss: 1.1801e-04 - val_accuracy: 1.0000 - val_recall: 1.0000 - val_precision: 1.0000 - val_auc: 1.0000\n",
      "Epoch 13/100\n",
      "1509/1509 [==============================] - 551s 365ms/step - loss: 0.0029 - accuracy: 0.9993 - recall: 0.9977 - precision: 0.9978 - auc: 0.9997 - val_loss: 3.6439e-04 - val_accuracy: 0.9998 - val_recall: 1.0000 - val_precision: 0.9990 - val_auc: 1.0000\n",
      "Epoch 14/100\n",
      "1509/1509 [==============================] - 550s 365ms/step - loss: 0.0030 - accuracy: 0.9992 - recall: 0.9974 - precision: 0.9980 - auc: 0.9995 - val_loss: 0.0020 - val_accuracy: 0.9993 - val_recall: 1.0000 - val_precision: 0.9960 - val_auc: 1.0000\n",
      "Epoch 15/100\n",
      "1509/1509 [==============================] - 551s 365ms/step - loss: 0.0018 - accuracy: 0.9995 - recall: 0.9991 - precision: 0.9980 - auc: 0.9999 - val_loss: 0.0011 - val_accuracy: 0.9992 - val_recall: 0.9960 - val_precision: 0.9990 - val_auc: 1.0000\n",
      "Epoch 16/100\n",
      "1509/1509 [==============================] - 551s 365ms/step - loss: 0.0035 - accuracy: 0.9992 - recall: 0.9976 - precision: 0.9979 - auc: 0.9995 - val_loss: 6.8777e-04 - val_accuracy: 0.9997 - val_recall: 0.9980 - val_precision: 1.0000 - val_auc: 1.0000\n",
      "Epoch 17/100\n",
      "1509/1509 [==============================] - 550s 364ms/step - loss: 0.0023 - accuracy: 0.9994 - recall: 0.9979 - precision: 0.9987 - auc: 0.9997 - val_loss: 2.1403e-04 - val_accuracy: 1.0000 - val_recall: 1.0000 - val_precision: 1.0000 - val_auc: 1.0000\n",
      "Epoch 18/100\n",
      "1509/1509 [==============================] - 551s 365ms/step - loss: 0.0024 - accuracy: 0.9994 - recall: 0.9972 - precision: 0.9990 - auc: 0.9998 - val_loss: 2.3106e-05 - val_accuracy: 1.0000 - val_recall: 1.0000 - val_precision: 1.0000 - val_auc: 1.0000\n",
      "Epoch 19/100\n",
      "1509/1509 [==============================] - 550s 364ms/step - loss: 0.0033 - accuracy: 0.9990 - recall: 0.9967 - precision: 0.9973 - auc: 0.9996 - val_loss: 0.0012 - val_accuracy: 0.9998 - val_recall: 0.9990 - val_precision: 1.0000 - val_auc: 0.9995\n",
      "Epoch 20/100\n",
      "1509/1509 [==============================] - 550s 365ms/step - loss: 0.0037 - accuracy: 0.9992 - recall: 0.9974 - precision: 0.9979 - auc: 0.9994 - val_loss: 7.4185e-04 - val_accuracy: 0.9997 - val_recall: 0.9980 - val_precision: 1.0000 - val_auc: 1.0000\n",
      "Epoch 21/100\n",
      "1509/1509 [==============================] - 551s 365ms/step - loss: 0.0014 - accuracy: 0.9996 - recall: 0.9983 - precision: 0.9990 - auc: 1.0000 - val_loss: 6.0790e-04 - val_accuracy: 0.9998 - val_recall: 0.9990 - val_precision: 1.0000 - val_auc: 1.0000\n",
      "Epoch 22/100\n",
      "1509/1509 [==============================] - 551s 365ms/step - loss: 0.0020 - accuracy: 0.9994 - recall: 0.9978 - precision: 0.9986 - auc: 0.9998 - val_loss: 7.0690e-05 - val_accuracy: 1.0000 - val_recall: 1.0000 - val_precision: 1.0000 - val_auc: 1.0000\n",
      "Epoch 23/100\n",
      "1509/1509 [==============================] - 551s 365ms/step - loss: 0.0023 - accuracy: 0.9994 - recall: 0.9983 - precision: 0.9980 - auc: 0.9997 - val_loss: 0.0084 - val_accuracy: 0.9975 - val_recall: 1.0000 - val_precision: 0.9852 - val_auc: 0.9997\n",
      "Epoch 24/100\n",
      "1509/1509 [==============================] - 551s 365ms/step - loss: 0.0022 - accuracy: 0.9993 - recall: 0.9975 - precision: 0.9981 - auc: 0.9997 - val_loss: 0.0012 - val_accuracy: 0.9995 - val_recall: 1.0000 - val_precision: 0.9970 - val_auc: 1.0000\n",
      "Epoch 25/100\n",
      "1509/1509 [==============================] - 551s 365ms/step - loss: 0.0036 - accuracy: 0.9991 - recall: 0.9968 - precision: 0.9981 - auc: 0.9993 - val_loss: 0.0028 - val_accuracy: 0.9997 - val_recall: 1.0000 - val_precision: 0.9980 - val_auc: 0.9998\n",
      "Epoch 26/100\n",
      "1509/1509 [==============================] - 551s 365ms/step - loss: 0.0013 - accuracy: 0.9995 - recall: 0.9983 - precision: 0.9985 - auc: 1.0000 - val_loss: 6.5202e-04 - val_accuracy: 0.9995 - val_recall: 0.9970 - val_precision: 1.0000 - val_auc: 1.0000\n",
      "Epoch 27/100\n",
      "1509/1509 [==============================] - 551s 365ms/step - loss: 0.0023 - accuracy: 0.9993 - recall: 0.9979 - precision: 0.9980 - auc: 0.9997 - val_loss: 1.8167e-04 - val_accuracy: 0.9998 - val_recall: 0.9990 - val_precision: 1.0000 - val_auc: 1.0000\n",
      "Epoch 28/100\n",
      "1509/1509 [==============================] - 551s 365ms/step - loss: 0.0024 - accuracy: 0.9993 - recall: 0.9978 - precision: 0.9983 - auc: 0.9997 - val_loss: 6.6575e-04 - val_accuracy: 0.9997 - val_recall: 1.0000 - val_precision: 0.9980 - val_auc: 1.0000\n",
      "Epoch 29/100\n",
      "1509/1509 [==============================] - 551s 365ms/step - loss: 0.0018 - accuracy: 0.9994 - recall: 0.9978 - precision: 0.9985 - auc: 0.9999 - val_loss: 0.0274 - val_accuracy: 0.9930 - val_recall: 0.9580 - val_precision: 1.0000 - val_auc: 0.9945\n",
      "Epoch 30/100\n",
      "1509/1509 [==============================] - 551s 365ms/step - loss: 0.0019 - accuracy: 0.9995 - recall: 0.9981 - precision: 0.9987 - auc: 0.9998 - val_loss: 1.4528e-04 - val_accuracy: 1.0000 - val_recall: 1.0000 - val_precision: 1.0000 - val_auc: 1.0000\n",
      "Epoch 31/100\n",
      "1509/1509 [==============================] - 551s 365ms/step - loss: 0.0021 - accuracy: 0.9994 - recall: 0.9977 - precision: 0.9985 - auc: 0.9998 - val_loss: 0.0046 - val_accuracy: 0.9987 - val_recall: 0.9920 - val_precision: 1.0000 - val_auc: 0.9995\n",
      "Epoch 32/100\n",
      "1509/1509 [==============================] - 551s 365ms/step - loss: 0.0016 - accuracy: 0.9995 - recall: 0.9980 - precision: 0.9992 - auc: 0.9998 - val_loss: 5.2700e-04 - val_accuracy: 0.9998 - val_recall: 0.9990 - val_precision: 1.0000 - val_auc: 1.0000\n",
      "Epoch 33/100\n",
      "1509/1509 [==============================] - 551s 365ms/step - loss: 0.0040 - accuracy: 0.9992 - recall: 0.9979 - precision: 0.9972 - auc: 0.9995 - val_loss: 3.1016e-04 - val_accuracy: 0.9998 - val_recall: 1.0000 - val_precision: 0.9990 - val_auc: 1.0000\n",
      "Epoch 34/100\n",
      "1509/1509 [==============================] - 550s 364ms/step - loss: 0.0041 - accuracy: 0.9992 - recall: 0.9983 - precision: 0.9970 - auc: 0.9997 - val_loss: 0.0103 - val_accuracy: 0.9972 - val_recall: 0.9830 - val_precision: 1.0000 - val_auc: 0.9985\n",
      "Epoch 35/100\n",
      "1509/1509 [==============================] - 551s 365ms/step - loss: 0.0029 - accuracy: 0.9992 - recall: 0.9972 - precision: 0.9981 - auc: 0.9996 - val_loss: 0.0017 - val_accuracy: 0.9997 - val_recall: 0.9980 - val_precision: 1.0000 - val_auc: 0.9995\n",
      "Epoch 36/100\n",
      "1509/1509 [==============================] - 551s 365ms/step - loss: 0.0014 - accuracy: 0.9996 - recall: 0.9988 - precision: 0.9988 - auc: 0.9997 - val_loss: 8.8610e-04 - val_accuracy: 0.9997 - val_recall: 0.9990 - val_precision: 0.9990 - val_auc: 1.0000\n",
      "Epoch 37/100\n",
      "1509/1509 [==============================] - 551s 365ms/step - loss: 0.0021 - accuracy: 0.9994 - recall: 0.9975 - precision: 0.9991 - auc: 0.9998 - val_loss: 2.4663e-04 - val_accuracy: 0.9998 - val_recall: 0.9990 - val_precision: 1.0000 - val_auc: 1.0000\n",
      "Epoch 38/100\n",
      "1509/1509 [==============================] - 551s 365ms/step - loss: 0.0037 - accuracy: 0.9993 - recall: 0.9980 - precision: 0.9980 - auc: 0.9996 - val_loss: 8.7368e-04 - val_accuracy: 0.9993 - val_recall: 1.0000 - val_precision: 0.9960 - val_auc: 1.0000\n"
     ]
    }
   ],
   "source": [
    "model = compile_model(model, 1.9508e-05 , 0.7, 0.851, ['accuracy', 'Recall', 'Precision', 'AUC'])\n",
    "history = train_model(model, train_image_gen, valid_image_gen, 100,\n",
    "                      [custom_early_stopping, tensorboard_callback])"
   ]
  },
  {
   "cell_type": "markdown",
   "source": [
    "## loss vs. validation_loss"
   ],
   "metadata": {
    "collapsed": false
   }
  },
  {
   "cell_type": "code",
   "execution_count": 19,
   "outputs": [],
   "source": [
    "metrics = history.history"
   ],
   "metadata": {
    "collapsed": false,
    "pycharm": {
     "name": "#%%\n"
    }
   }
  },
  {
   "cell_type": "code",
   "execution_count": 20,
   "outputs": [
    {
     "name": "stdout",
     "output_type": "stream",
     "text": [
      "Saving figure vgg16_loss\n"
     ]
    },
    {
     "data": {
      "text/plain": "<Figure size 432x288 with 1 Axes>",
      "image/png": "[encoded data removed]"
     },
     "metadata": {
      "needs_background": "light"
     },
     "output_type": "display_data"
    }
   ],
   "source": [
    "\n",
    "plt.plot(history.epoch, metrics['loss'], metrics['val_loss'])\n",
    "plt.legend(['loss', 'val_loss'])\n",
    "save_fig('vgg16_loss', tight_layout=False)\n",
    "plt.show()"
   ],
   "metadata": {
    "collapsed": false,
    "pycharm": {
     "name": "#%%\n"
    }
   }
  },
  {
   "cell_type": "code",
   "execution_count": 21,
   "outputs": [
    {
     "name": "stdout",
     "output_type": "stream",
     "text": [
      "Saving figure vgg16_accuracy\n"
     ]
    },
    {
     "data": {
      "text/plain": "<Figure size 432x288 with 1 Axes>",
      "image/png": "[encoded data removed]"
     },
     "metadata": {
      "needs_background": "light"
     },
     "output_type": "display_data"
    }
   ],
   "source": [
    "plt.plot(history.epoch, metrics['accuracy'], metrics['val_accuracy'])\n",
    "plt.legend(['accuracy','val_accuracy'])\n",
    "save_fig('vgg16_accuracy', tight_layout=False)\n",
    "plt.show()"
   ],
   "metadata": {
    "collapsed": false,
    "pycharm": {
     "name": "#%%\n"
    }
   }
  },
  {
   "cell_type": "code",
   "execution_count": 22,
   "outputs": [
    {
     "name": "stdout",
     "output_type": "stream",
     "text": [
      "Saving figure vgg16_recall\n"
     ]
    },
    {
     "data": {
      "text/plain": "<Figure size 432x288 with 1 Axes>",
      "image/png": "[encoded data removed]"
     },
     "metadata": {
      "needs_background": "light"
     },
     "output_type": "display_data"
    }
   ],
   "source": [
    "plt.plot(history.epoch, metrics['recall'], metrics['val_recall'])\n",
    "plt.legend(['recall','val_recall'])\n",
    "save_fig('vgg16_recall', tight_layout=False)\n",
    "plt.show()"
   ],
   "metadata": {
    "collapsed": false,
    "pycharm": {
     "name": "#%%\n"
    }
   }
  },
  {
   "cell_type": "code",
   "execution_count": 23,
   "outputs": [
    {
     "name": "stdout",
     "output_type": "stream",
     "text": [
      "Saving figure vgg16_precision\n"
     ]
    },
    {
     "data": {
      "text/plain": "<Figure size 432x288 with 1 Axes>",
      "image/png": "[encoded data removed]"
     },
     "metadata": {
      "needs_background": "light"
     },
     "output_type": "display_data"
    }
   ],
   "source": [
    "plt.plot(history.epoch, metrics['precision'], metrics['val_precision'])\n",
    "plt.legend(['precision','val_precision'])\n",
    "save_fig('vgg16_precision', tight_layout=False)\n",
    "plt.show()"
   ],
   "metadata": {
    "collapsed": false,
    "pycharm": {
     "name": "#%%\n"
    }
   }
  },
  {
   "cell_type": "code",
   "execution_count": 24,
   "outputs": [
    {
     "name": "stdout",
     "output_type": "stream",
     "text": [
      "Saving figure vgg16_auc\n"
     ]
    },
    {
     "data": {
      "text/plain": "<Figure size 432x288 with 1 Axes>",
      "image/png": "[encoded data removed]"
     },
     "metadata": {
      "needs_background": "light"
     },
     "output_type": "display_data"
    }
   ],
   "source": [
    "plt.plot(history.epoch, metrics['auc'], metrics['val_auc'])\n",
    "plt.legend(['auc','val_auc'])\n",
    "save_fig('vgg16_auc', tight_layout=False)\n",
    "plt.show()"
   ],
   "metadata": {
    "collapsed": false,
    "pycharm": {
     "name": "#%%\n"
    }
   }
  },
  {
   "cell_type": "code",
   "execution_count": 25,
   "outputs": [
    {
     "name": "stdout",
     "output_type": "stream",
     "text": [
      "Saving figure vgg16_all\n"
     ]
    },
    {
     "data": {
      "text/plain": "<Figure size 432x288 with 1 Axes>",
      "image/png": "[encoded data removed]"
     },
     "metadata": {
      "needs_background": "light"
     },
     "output_type": "display_data"
    }
   ],
   "source": [
    "plt.plot(history.epoch, metrics['auc'], metrics['val_auc'],metrics['accuracy'], metrics['val_accuracy'], metrics['recall'], metrics['val_recall'], metrics['precision'], metrics['val_precision'], metrics['auc'], metrics['val_auc'])\n",
    "plt.legend(['loss','val_loss','accuracy','val_accuracy','recall','val_recall','precision','val_precision','auc','val_auc'])\n",
    "save_fig('vgg16_all', tight_layout=False)\n",
    "plt.show()"
   ],
   "metadata": {
    "collapsed": false,
    "pycharm": {
     "name": "#%%\n"
    }
   }
  },
  {
   "cell_type": "markdown",
   "source": [
    "# Evaluation of the model on the test set"
   ],
   "metadata": {
    "collapsed": false
   }
  },
  {
   "cell_type": "code",
   "execution_count": 26,
   "outputs": [
    {
     "name": "stdout",
     "output_type": "stream",
     "text": [
      "189/189 [==============================] - 22s 116ms/step - loss: 222.2896 - accuracy: 0.2540 - recall: 1.0000 - precision: 0.1819 - auc: 0.5535\n"
     ]
    }
   ],
   "source": [
    "loss, accuracy, recall, precision, auc = model.evaluate(test_image_gen)"
   ],
   "metadata": {
    "collapsed": false,
    "pycharm": {
     "name": "#%%\n"
    }
   }
  },
  {
   "cell_type": "code",
   "execution_count": 27,
   "outputs": [
    {
     "name": "stdout",
     "output_type": "stream",
     "text": [
      "loss: 222.28961181640625, \n",
      "accuracy: 0.25397613644599915, \n",
      "recall: 1.0, \n",
      "precision: 0.18186773359775543, \n",
      "auc: 0.5535253286361694, \n",
      "F1: 0.30776326052007014\n"
     ]
    }
   ],
   "source": [
    "# F1 score\n",
    "f1 = 2 * ((precision * recall) / (precision + recall))\n",
    "\n",
    "print(f\"loss: {loss}, \\n\"\n",
    "      f\"accuracy: {accuracy}, \\n\"\n",
    "      f\"recall: {recall}, \\n\"\n",
    "      f\"precision: {precision}, \\n\"\n",
    "      f\"auc: {auc}, \\n\"\n",
    "      f\"F1: {f1}\")"
   ],
   "metadata": {
    "collapsed": false,
    "pycharm": {
     "name": "#%%\n"
    }
   }
  },
  {
   "cell_type": "markdown",
   "metadata": {},
   "source": [
    "# Saving the model to use it for predictions, heatmaps, etc."
   ]
  },
  {
   "cell_type": "code",
   "execution_count": 28,
   "outputs": [],
   "source": [
    "save_model(model, 'vgg16', 'saved_models/second_train_step/tuned_params')"
   ],
   "metadata": {
    "collapsed": false,
    "pycharm": {
     "name": "#%%\n"
    }
   }
  },
  {
   "cell_type": "code",
   "execution_count": null,
   "outputs": [],
   "source": [],
   "metadata": {
    "collapsed": false,
    "pycharm": {
     "name": "#%%\n"
    }
   }
  }
 ],
 "metadata": {
  "kernelspec": {
   "display_name": "PyCharm (Quality Control of SLS manufacturing using Convolutional Neural Networks -implementation)",
   "language": "python",
   "name": "pycharm-8f8e9c42"
  },
  "language_info": {
   "codemirror_mode": {
    "name": "ipython",
    "version": 3
   },
   "file_extension": ".py",
   "mimetype": "text/x-python",
   "name": "python",
   "nbconvert_exporter": "python",
   "pygments_lexer": "ipython3",
   "version": "3.9.7"
  }
 },
 "nbformat": 4,
 "nbformat_minor": 4
}