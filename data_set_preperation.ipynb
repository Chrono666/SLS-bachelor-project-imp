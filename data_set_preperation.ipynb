{
 "cells": [
  {
   "cell_type": "code",
   "execution_count": 1,
   "metadata": {
    "collapsed": true
   },
   "outputs": [],
   "source": [
    "import splitfolders"
   ]
  },
  {
   "cell_type": "code",
   "execution_count": null,
   "outputs": [],
   "source": [
    "# use the following command in bash to delete images randomly until the desired number is reached\n",
    "# find '/home/msk/Projects/school/SLS-bachelor-project/Quality Control of SLS manufacturing using Convolutional Neural Networks -implementation/data_heavily_reduced/DEF' -type f -print0 | sort -zR | tail -zn +5001 | xargs -0 rm"
   ],
   "metadata": {
    "collapsed": false,
    "pycharm": {
     "name": "#%%\n"
    }
   }
  },
  {
   "cell_type": "code",
   "execution_count": 20,
   "outputs": [
    {
     "name": "stderr",
     "output_type": "stream",
     "text": [
      "\n",
      "Copying files: 0 files [00:00, ? files/s]\u001B[A\n",
      "Copying files: 1 files [00:00,  6.10 files/s]\u001B[A\n",
      "Copying files: 392 files [00:00, 1805.11 files/s]\u001B[A\n",
      "Copying files: 649 files [00:00, 2107.84 files/s]\u001B[A\n",
      "Copying files: 1133 files [00:00, 3095.17 files/s]\u001B[A\n",
      "Copying files: 1537 files [00:00, 3416.08 files/s]\u001B[A\n",
      "Copying files: 2011 files [00:00, 3848.55 files/s]\u001B[A\n",
      "Copying files: 2667 files [00:00, 4710.56 files/s]\u001B[A\n",
      "Copying files: 3150 files [00:00, 4391.12 files/s]\u001B[A\n",
      "Copying files: 3602 files [00:01, 4171.46 files/s]\u001B[A\n",
      "Copying files: 4029 files [00:01, 3964.09 files/s]\u001B[A\n",
      "Copying files: 4433 files [00:01, 3610.25 files/s]\u001B[A\n",
      "Copying files: 4804 files [00:01, 3230.38 files/s]\u001B[A\n",
      "Copying files: 5138 files [00:01, 2557.40 files/s]\u001B[A\n",
      "Copying files: 5588 files [00:01, 2812.31 files/s]\u001B[A\n",
      "Copying files: 6076 files [00:01, 3221.74 files/s]\u001B[A\n",
      "Copying files: 6424 files [00:01, 3177.11 files/s]\u001B[A\n",
      "Copying files: 6819 files [00:02, 3369.85 files/s]\u001B[A\n",
      "Copying files: 7172 files [00:02, 3364.22 files/s]\u001B[A\n",
      "Copying files: 7520 files [00:02, 3222.06 files/s]\u001B[A\n",
      "Copying files: 7855 files [00:02, 3187.10 files/s]\u001B[A\n",
      "Copying files: 8316 files [00:02, 3488.75 files/s]\u001B[A\n",
      "Copying files: 8895 files [00:02, 4121.73 files/s]\u001B[A\n",
      "Copying files: 9317 files [00:02, 3876.02 files/s]\u001B[A\n",
      "Copying files: 9999 files [00:02, 3414.88 files/s]\u001B[A\n"
     ]
    }
   ],
   "source": [
    "# splitfolder libary which splits a folder with to classes containing images into a folder containing train, test, val folders containing the classes and images according to the ratio\n",
    "splitfolders.ratio(\"/home/msk/Projects/school/SLS-bachelor-project/Quality Control of SLS manufacturing using Convolutional Neural Networks -implementation/data_heavily_reduced/data\", output=\"/home/msk/Projects/school/SLS-bachelor-project/Quality Control of SLS manufacturing using Convolutional Neural Networks -implementation/data_heavily_reduced/balanced_data\", seed=1337, ratio=(.8, .1, .1), group_prefix=None) # default values"
   ],
   "metadata": {
    "collapsed": false,
    "pycharm": {
     "name": "#%%\n"
    }
   }
  },
  {
   "cell_type": "code",
   "execution_count": null,
   "outputs": [],
   "source": [],
   "metadata": {
    "collapsed": false,
    "pycharm": {
     "name": "#%%\n"
    }
   }
  }
 ],
 "metadata": {
  "kernelspec": {
   "name": "pycharm-8f8e9c42",
   "language": "python",
   "display_name": "PyCharm (Quality Control of SLS manufacturing using Convolutional Neural Networks -implementation)"
  },
  "language_info": {
   "codemirror_mode": {
    "name": "ipython",
    "version": 2
   },
   "file_extension": ".py",
   "mimetype": "text/x-python",
   "name": "python",
   "nbconvert_exporter": "python",
   "pygments_lexer": "ipython2",
   "version": "2.7.6"
  }
 },
 "nbformat": 4,
 "nbformat_minor": 0
}